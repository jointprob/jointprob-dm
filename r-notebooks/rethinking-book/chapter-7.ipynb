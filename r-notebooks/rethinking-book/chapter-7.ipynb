{
 "cells": [
  {
   "cell_type": "markdown",
   "metadata": {},
   "source": [
    "# Chapter 7\n",
    "\n",
    "## 7.1 The problem with parameters\n",
    "## 7.2 Accuracy and Entropy\n",
    "## 7.3 Regularization\n",
    "## 7.4 Predicting Predictive Accuracy\n",
    "## 7.5 Model comparison"
   ]
  },
  {
   "cell_type": "markdown",
   "metadata": {},
   "source": [
    "## Intro\n",
    "+ OKHAM'S RAZOR - Models with fewer assumptions are to be preferrred\n",
    "+ Have to tradeoff between model simplicity and model accuracy\n",
    "+ OVERFITTING - poor prediction from over-learning the data\n",
    "+ UNDERFITTING - Poor prediction by under-learning the data\n",
    "+ Confounded models can produce better predictions than correct causal models.\n",
    "+ In designing a model, we need to choose between understanding causes, and just predicting\n",
    "+ But a causal model can suffer from over/underfitting\n",
    "+ Two approaches to trading off under/overfitting\n",
    "    + REGULARIZING PRIOR - Tighter priors?\n",
    "    + Score using INFORMATION CRITERIA or CROSS-VALIDATION\n",
    "    + probably use both approaches\n",
    "    + Information Criteria is based on INFORMATION THEORY\n",
    "+ lecture 7 Link\n",
    "    + https://www.youtube.com/watch?v=odGAAJDlgp8"
   ]
  },
  {
   "cell_type": "code",
   "execution_count": 1,
   "metadata": {},
   "outputs": [],
   "source": [
    "suppressMessages({\n",
    "library(rethinking)\n",
    "library(dagitty)\n",
    "    })"
   ]
  },
  {
   "cell_type": "markdown",
   "metadata": {},
   "source": [
    "# The problem with Parameters\n",
    "+ Regress brain volume on mass (body) using increasing degrees of polynomials (starting at 1 degree - straight line)\n",
    "+ 'Fit' of a model is assessed by a metric such as $R^2$ where:\n",
    "    + $R^2 = \\frac{var(outcome) - var(residuals)}{var(outcome} = 1 - \\frac{var(residuals}{var(outcome}$\n",
    "+ $R^2$ can be considered the proportion of variance 'explained' by the model\n",
    "+ For $R^2$ bigger is better\n",
    "+ This means some proportion of the total variation in the outcome data belongs to the model, and the rest is the variation of the residuals. \n",
    "+ $R^2$ is predicted at the mean of the prediction, not by considering the whole posterior distribution. This is problematic because the distribution may be skewed. This is lost by just using the mean prediction\n",
    "+ An alternative Bayesian score is introduced later - XXXX - It uses the whole distribution "
   ]
  },
  {
   "cell_type": "code",
   "execution_count": 2,
   "metadata": {},
   "outputs": [],
   "source": [
    "# Setup a function to calculate R squared\n",
    "## R code 7.6\n",
    "R2_is_bad <- function( quap_fit ) {\n",
    "    s <- sim( quap_fit , refresh=0 )\n",
    "    r <- apply(s,2,mean) - d$brain_std\n",
    "    1 - var2(r)/var2(d$brain_std)\n",
    "}"
   ]
  },
  {
   "cell_type": "code",
   "execution_count": 3,
   "metadata": {},
   "outputs": [
    {
     "name": "stdout",
     "output_type": "stream",
     "text": [
      "'data.frame':\t7 obs. of  3 variables:\n",
      " $ species: chr  \"afarensis\" \"africanus\" \"habilis\" \"boisei\" ...\n",
      " $ brain  : num  438 452 612 521 752 871 1350\n",
      " $ mass   : num  37 35.5 34.5 41.5 55.5 61 53.5\n"
     ]
    }
   ],
   "source": [
    "## R code 7.1\n",
    "sppnames <- c( \"afarensis\",\"africanus\",\"habilis\",\"boisei\",\n",
    "    \"rudolfensis\",\"ergaster\",\"sapiens\")\n",
    "brainvolcc <- c( 438 , 452 , 612, 521, 752, 871, 1350 )\n",
    "masskg <- c( 37.0 , 35.5 , 34.5 , 41.5 , 55.5 , 61.0 , 53.5 )\n",
    "d <- data.frame( species=sppnames , brain=brainvolcc , mass=masskg )\n",
    "str(d)"
   ]
  },
  {
   "cell_type": "code",
   "execution_count": 4,
   "metadata": {},
   "outputs": [
    {
     "data": {
      "text/html": [
       "<table class=\"dataframe\">\n",
       "<caption>A data.frame: 7 × 5</caption>\n",
       "<thead>\n",
       "\t<tr><th></th><th scope=col>species</th><th scope=col>brain</th><th scope=col>mass</th><th scope=col>mass_std</th><th scope=col>brain_std</th></tr>\n",
       "\t<tr><th></th><th scope=col>&lt;chr&gt;</th><th scope=col>&lt;dbl&gt;</th><th scope=col>&lt;dbl&gt;</th><th scope=col>&lt;dbl&gt;</th><th scope=col>&lt;dbl&gt;</th></tr>\n",
       "</thead>\n",
       "<tbody>\n",
       "\t<tr><th scope=row>1</th><td>afarensis  </td><td> 438</td><td>37.0</td><td>-0.7794667</td><td>0.3244444</td></tr>\n",
       "\t<tr><th scope=row>2</th><td>africanus  </td><td> 452</td><td>35.5</td><td>-0.9170196</td><td>0.3348148</td></tr>\n",
       "\t<tr><th scope=row>3</th><td>habilis    </td><td> 612</td><td>34.5</td><td>-1.0087216</td><td>0.4533333</td></tr>\n",
       "\t<tr><th scope=row>4</th><td>boisei     </td><td> 521</td><td>41.5</td><td>-0.3668079</td><td>0.3859259</td></tr>\n",
       "\t<tr><th scope=row>5</th><td>rudolfensis</td><td> 752</td><td>55.5</td><td> 0.9170196</td><td>0.5570370</td></tr>\n",
       "\t<tr><th scope=row>6</th><td>ergaster   </td><td> 871</td><td>61.0</td><td> 1.4213804</td><td>0.6451852</td></tr>\n",
       "\t<tr><th scope=row>7</th><td>sapiens    </td><td>1350</td><td>53.5</td><td> 0.7336157</td><td>1.0000000</td></tr>\n",
       "</tbody>\n",
       "</table>\n"
      ],
      "text/latex": [
       "A data.frame: 7 × 5\n",
       "\\begin{tabular}{r|lllll}\n",
       "  & species & brain & mass & mass\\_std & brain\\_std\\\\\n",
       "  & <chr> & <dbl> & <dbl> & <dbl> & <dbl>\\\\\n",
       "\\hline\n",
       "\t1 & afarensis   &  438 & 37.0 & -0.7794667 & 0.3244444\\\\\n",
       "\t2 & africanus   &  452 & 35.5 & -0.9170196 & 0.3348148\\\\\n",
       "\t3 & habilis     &  612 & 34.5 & -1.0087216 & 0.4533333\\\\\n",
       "\t4 & boisei      &  521 & 41.5 & -0.3668079 & 0.3859259\\\\\n",
       "\t5 & rudolfensis &  752 & 55.5 &  0.9170196 & 0.5570370\\\\\n",
       "\t6 & ergaster    &  871 & 61.0 &  1.4213804 & 0.6451852\\\\\n",
       "\t7 & sapiens     & 1350 & 53.5 &  0.7336157 & 1.0000000\\\\\n",
       "\\end{tabular}\n"
      ],
      "text/markdown": [
       "\n",
       "A data.frame: 7 × 5\n",
       "\n",
       "| <!--/--> | species &lt;chr&gt; | brain &lt;dbl&gt; | mass &lt;dbl&gt; | mass_std &lt;dbl&gt; | brain_std &lt;dbl&gt; |\n",
       "|---|---|---|---|---|---|\n",
       "| 1 | afarensis   |  438 | 37.0 | -0.7794667 | 0.3244444 |\n",
       "| 2 | africanus   |  452 | 35.5 | -0.9170196 | 0.3348148 |\n",
       "| 3 | habilis     |  612 | 34.5 | -1.0087216 | 0.4533333 |\n",
       "| 4 | boisei      |  521 | 41.5 | -0.3668079 | 0.3859259 |\n",
       "| 5 | rudolfensis |  752 | 55.5 |  0.9170196 | 0.5570370 |\n",
       "| 6 | ergaster    |  871 | 61.0 |  1.4213804 | 0.6451852 |\n",
       "| 7 | sapiens     | 1350 | 53.5 |  0.7336157 | 1.0000000 |\n",
       "\n"
      ],
      "text/plain": [
       "  species     brain mass mass_std   brain_std\n",
       "1 afarensis    438  37.0 -0.7794667 0.3244444\n",
       "2 africanus    452  35.5 -0.9170196 0.3348148\n",
       "3 habilis      612  34.5 -1.0087216 0.4533333\n",
       "4 boisei       521  41.5 -0.3668079 0.3859259\n",
       "5 rudolfensis  752  55.5  0.9170196 0.5570370\n",
       "6 ergaster     871  61.0  1.4213804 0.6451852\n",
       "7 sapiens     1350  53.5  0.7336157 1.0000000"
      ]
     },
     "metadata": {},
     "output_type": "display_data"
    }
   ],
   "source": [
    "## R code 7.2\n",
    "# Standardize mass\n",
    "d$mass_std <- (d$mass - mean(d$mass))/sd(d$mass)\n",
    "# Scale mass to the maximum value - we want to maintain 0 as a reference point\n",
    "d$brain_std <- d$brain / max(d$brain)\n",
    "head(d, 20)"
   ]
  },
  {
   "cell_type": "markdown",
   "metadata": {},
   "source": [
    "+ Initial linear model\n",
    "    + $b_i \\sim Normal(\\mu_i, \\sigma)$\n",
    "    + $\\mu_i = \\alpha + \\beta \\times m_i$\n",
    "    + Note - More complex models may look like\n",
    "        + $\\mu_i = \\alpha + \\beta_1 \\times m_i + \\beta_2 \\times m_i^2 ... + \\beta_n \\times m_i^n$\n",
    "    + $\\alpha \\sim Normal(0.5, 1)$\n",
    "    + $\\beta \\sim Normal(0, 10)$\n",
    "    + $\\sigma \\sim LogNormal(0, 1)$\n",
    "+ These priors are prettty loose. Allow alot of scope\n",
    "+ Model as code:"
   ]
  },
  {
   "cell_type": "code",
   "execution_count": 5,
   "metadata": {},
   "outputs": [],
   "source": [
    "## R code 7.3\n",
    "m7.1 <- quap(\n",
    "    alist(\n",
    "        brain_std ~ dnorm( mu , exp(log_sigma) ), # exp(log_sigma) means the likelihood result is always greater than zero\n",
    "        mu <- a + b*mass_std,\n",
    "        a ~ dnorm( 0.5 , 1 ),\n",
    "        b ~ dnorm( 0 , 10 ),\n",
    "        log_sigma ~ dnorm( 0 , 1 )\n",
    "    ), data=d )"
   ]
  },
  {
   "cell_type": "markdown",
   "metadata": {},
   "source": [
    "+ Rethinking: OLS and Bayesian anti-essentialism - Cannot follow this section\n",
    "+ For the first - linear model, calculate r^2 manually"
   ]
  },
  {
   "cell_type": "code",
   "execution_count": 6,
   "metadata": {},
   "outputs": [
    {
     "data": {
      "text/html": [
       "0.477458887305339"
      ],
      "text/latex": [
       "0.477458887305339"
      ],
      "text/markdown": [
       "0.477458887305339"
      ],
      "text/plain": [
       "[1] 0.4774589"
      ]
     },
     "metadata": {},
     "output_type": "display_data"
    }
   ],
   "source": [
    "## R code 7.5\n",
    "set.seed(12)\n",
    "s <- sim( m7.1 )\n",
    "r <- apply(s,2,mean) - d$brain_std\n",
    "resid_var <- var2(r)\n",
    "outcome_var <- var2( d$brain_std )\n",
    "1 - resid_var/outcome_var"
   ]
  },
  {
   "cell_type": "markdown",
   "metadata": {},
   "source": [
    "+ Higher order polynomial models"
   ]
  },
  {
   "cell_type": "code",
   "execution_count": 7,
   "metadata": {},
   "outputs": [],
   "source": [
    "## R code 7.7\n",
    "m7.2 <- quap(\n",
    "    alist(\n",
    "        brain_std ~ dnorm( mu , exp(log_sigma) ),\n",
    "        mu <- a + b[1]*mass_std + b[2]*mass_std^2,\n",
    "        a ~ dnorm( 0.5 , 1 ),\n",
    "        b ~ dnorm( 0 , 10 ),\n",
    "        log_sigma ~ dnorm( 0 , 1 )\n",
    "    ), data=d , start=list(b=rep(0,2)) )\n",
    "\n",
    "## R code 7.8\n",
    "m7.3 <- quap(\n",
    "    alist(\n",
    "        brain_std ~ dnorm( mu , exp(log_sigma) ),\n",
    "        mu <- a + b[1]*mass_std + b[2]*mass_std^2 +\n",
    "                  b[3]*mass_std^3,\n",
    "        a ~ dnorm( 0.5 , 1 ),\n",
    "        b ~ dnorm( 0 , 10 ),\n",
    "        log_sigma ~ dnorm( 0 , 1 )\n",
    "    ), data=d , start=list(b=rep(0,3)) )\n",
    "\n",
    "m7.4 <- quap(\n",
    "    alist(\n",
    "        brain_std ~ dnorm( mu , exp(log_sigma) ),\n",
    "        mu <- a + b[1]*mass_std + b[2]*mass_std^2 +\n",
    "                  b[3]*mass_std^3 + b[4]*mass_std^4,\n",
    "        a ~ dnorm( 0.5 , 1 ),\n",
    "        b ~ dnorm( 0 , 10 ),\n",
    "        log_sigma ~ dnorm( 0 , 1 )\n",
    "    ), data=d , start=list(b=rep(0,4)) )\n",
    "\n",
    "m7.5 <- quap(\n",
    "    alist(\n",
    "        brain_std ~ dnorm( mu , exp(log_sigma) ),\n",
    "        mu <- a + b[1]*mass_std + b[2]*mass_std^2 +\n",
    "                  b[3]*mass_std^3 + b[4]*mass_std^4 +\n",
    "                  b[5]*mass_std^5,\n",
    "        a ~ dnorm( 0.5 , 1 ),\n",
    "        b ~ dnorm( 0 , 10 ),\n",
    "        log_sigma ~ dnorm( 0 , 1 )\n",
    "    ), data=d , start=list(b=rep(0,5)) )\n",
    "\n",
    "## R code 7.9\n",
    "m7.6 <- quap(\n",
    "    alist(\n",
    "        brain_std ~ dnorm( mu , 0.001 ),\n",
    "        mu <- a + b[1]*mass_std + b[2]*mass_std^2 +\n",
    "                  b[3]*mass_std^3 + b[4]*mass_std^4 +\n",
    "                  b[5]*mass_std^5 + b[6]*mass_std^6,\n",
    "        a ~ dnorm( 0.5 , 1 ),\n",
    "        b ~ dnorm( 0 , 10 )\n",
    "    ), data=d , start=list(b=rep(0,6)) )"
   ]
  },
  {
   "cell_type": "markdown",
   "metadata": {},
   "source": [
    "+ Plot of first order polynomial model fitted to 7 data points"
   ]
  },
  {
   "cell_type": "code",
   "execution_count": 8,
   "metadata": {},
   "outputs": [
    {
     "data": {
      "image/png": "[encoded data removed]",
      "text/plain": [
       "plot without title"
      ]
     },
     "metadata": {
      "image/png": {
       "height": 420,
       "width": 420
      }
     },
     "output_type": "display_data"
    }
   ],
   "source": [
    "## R code 7.10\n",
    "post <- extract.samples(m7.1)\n",
    "mass_seq <- seq( from=min(d$mass_std) , to=max(d$mass_std) , length.out=100 )\n",
    "l <- link( m7.1 , data=list( mass_std=mass_seq ) )\n",
    "mu <- apply( l , 2 , mean )\n",
    "ci <- apply( l , 2 , PI )\n",
    "plot( brain_std ~ mass_std , data=d )\n",
    "lines( mass_seq , mu )\n",
    "shade( ci , mass_seq )"
   ]
  },
  {
   "cell_type": "code",
   "execution_count": null,
   "metadata": {},
   "outputs": [],
   "source": []
  },
  {
   "cell_type": "markdown",
   "metadata": {},
   "source": [
    "+ Plot of `n` order polynomial models fitted to the data where:\n",
    "    + m7.1 - first order\n",
    "    + m7.2 - second order\n",
    "    + ...\n",
    "    + m7.6 - sixth order\n",
    "+ As model becomes more complex, model fits data better, and $R^2$ score improves - the model explains more of the variance\n",
    "+ Black line is posterior mean\n",
    "+ 89% interval is shaded\n",
    "+ The six degree polynomial fits the data perfectly because it assigns each parameter to each data point\n",
    "+ The lower degree polynomials are terrible fits\n",
    "\n",
    "![alt text](images/7/overfitting-1.png \"Title\")"
   ]
  },
  {
   "cell_type": "markdown",
   "metadata": {},
   "source": [
    "+ ### Leave One Out Process\n",
    "+ Drop one row of the data\n",
    "+ Fit the model\n",
    "+ The most complex model swings about significantly.\n",
    "+ The simplest model hardly moves\n",
    "\n",
    "![alt text](images/7/overfitting-2.png \"Title\")"
   ]
  },
  {
   "cell_type": "markdown",
   "metadata": {},
   "source": [
    "+ Bias and Variance - The tradeoff between under/overfitting. Not exactly the same, but\n",
    "    + Bias relates to underfitting\n",
    "    + Variance relates to Overfitting"
   ]
  },
  {
   "cell_type": "markdown",
   "metadata": {},
   "source": [
    "# 7.2 Entropy and Accuracy"
   ]
  },
  {
   "cell_type": "markdown",
   "metadata": {},
   "source": [
    "+ To score a Bayesian Analysis, we use the LOG SCORING RULE to assess how closely a model predicts probabilities compared to true probabilities - This is the log of the joint probability , where the joint probability is considered the likelihood. We can use this to compare models.\n",
    "+ We use a measure of how much uncertainty is inherent in a probability distribution. This is the INFORMATION ENTROPY\n",
    "    + $H(p) = -E \\; log(p_i) = -\\sum_{i=1}^n p_ilog(p_i)$\n",
    "+ To assess how far away we are from perfect prediction, we use a divergence score - the Kullback-Leibler divergence, or KL divergence score.from a perfect score, \n",
    "+ [???? - This is a really convoluted section. Maybe author should start with conclusion and build an argument to get there. I am having trouble deciphering where the author finally lands - ie what scoring formula to use]\n",
    "+ As far as I can tell, the author uses the following to score a model:\n",
    "    + **LOG-POINTWISE-PREDICTIVE-DENSITY**\n",
    "    + $lppd(y, \\theta) = \\sum_{i} log \\frac{1}{S} \\sum_S p(y_i | \\theta_s)$\n",
    "    + where:\n",
    "        + $S$ is number of samples\n",
    "        + $\\theta_S$ is the posterior distribution\n",
    "+ For the lppd, bigger is better\n",
    "+ There is another formulation of lppd called DEVIANCE\n",
    "    + $DEVIANCE = -2 \\times lppd score$\n",
    "    + For Deviance - smaller is better\n",
    "+ To calculate the lppd scores in code:"
   ]
  },
  {
   "cell_type": "code",
   "execution_count": 9,
   "metadata": {},
   "outputs": [
    {
     "data": {
      "text/html": [
       "<style>\n",
       ".list-inline {list-style: none; margin:0; padding: 0}\n",
       ".list-inline>li {display: inline-block}\n",
       ".list-inline>li:not(:last-child)::after {content: \"\\00b7\"; padding: 0 .5ex}\n",
       "</style>\n",
       "<ol class=list-inline><li>0.60986679120913</li><li>0.648343796436906</li><li>0.549609266270719</li><li>0.62349336228753</li><li>0.464814194417738</li><li>0.434760326375676</li><li>-0.844462804562964</li></ol>\n"
      ],
      "text/latex": [
       "\\begin{enumerate*}\n",
       "\\item 0.60986679120913\n",
       "\\item 0.648343796436906\n",
       "\\item 0.549609266270719\n",
       "\\item 0.62349336228753\n",
       "\\item 0.464814194417738\n",
       "\\item 0.434760326375676\n",
       "\\item -0.844462804562964\n",
       "\\end{enumerate*}\n"
      ],
      "text/markdown": [
       "1. 0.60986679120913\n",
       "2. 0.648343796436906\n",
       "3. 0.549609266270719\n",
       "4. 0.62349336228753\n",
       "5. 0.464814194417738\n",
       "6. 0.434760326375676\n",
       "7. -0.844462804562964\n",
       "\n",
       "\n"
      ],
      "text/plain": [
       "[1]  0.6098668  0.6483438  0.5496093  0.6234934  0.4648142  0.4347603 -0.8444628"
      ]
     },
     "metadata": {},
     "output_type": "display_data"
    }
   ],
   "source": [
    "## R code 7.13\n",
    "set.seed(1)\n",
    "lppd( m7.1 , n=1e4 )"
   ]
  },
  {
   "cell_type": "markdown",
   "metadata": {},
   "source": [
    "+ Or, laying out the code for the lppd calculation\n",
    "+ These should be summed, though christ knows why the author wouldn't just sum them here in code"
   ]
  },
  {
   "cell_type": "code",
   "execution_count": 10,
   "metadata": {},
   "outputs": [
    {
     "data": {
      "text/html": [
       "<style>\n",
       ".list-inline {list-style: none; margin:0; padding: 0}\n",
       ".list-inline>li {display: inline-block}\n",
       ".list-inline>li:not(:last-child)::after {content: \"\\00b7\"; padding: 0 .5ex}\n",
       "</style>\n",
       "<ol class=list-inline><li>0.60986679120913</li><li>0.648343796436906</li><li>0.549609266270719</li><li>0.62349336228753</li><li>0.464814194417738</li><li>0.434760326375676</li><li>-0.844462804562964</li></ol>\n"
      ],
      "text/latex": [
       "\\begin{enumerate*}\n",
       "\\item 0.60986679120913\n",
       "\\item 0.648343796436906\n",
       "\\item 0.549609266270719\n",
       "\\item 0.62349336228753\n",
       "\\item 0.464814194417738\n",
       "\\item 0.434760326375676\n",
       "\\item -0.844462804562964\n",
       "\\end{enumerate*}\n"
      ],
      "text/markdown": [
       "1. 0.60986679120913\n",
       "2. 0.648343796436906\n",
       "3. 0.549609266270719\n",
       "4. 0.62349336228753\n",
       "5. 0.464814194417738\n",
       "6. 0.434760326375676\n",
       "7. -0.844462804562964\n",
       "\n",
       "\n"
      ],
      "text/plain": [
       "[1]  0.6098668  0.6483438  0.5496093  0.6234934  0.4648142  0.4347603 -0.8444628"
      ]
     },
     "metadata": {},
     "output_type": "display_data"
    }
   ],
   "source": [
    "## R code 7.14\n",
    "set.seed(1)\n",
    "logprob <- sim( m7.1 , ll=TRUE , n=1e4 )\n",
    "n <- ncol(logprob)\n",
    "ns <- nrow(logprob)\n",
    "f <- function( i ) log_sum_exp( logprob[,i] ) - log(ns)\n",
    "( lppd <- sapply( 1:n , f ) )"
   ]
  },
  {
   "cell_type": "markdown",
   "metadata": {},
   "source": [
    "## Training and Test Set\n",
    "+ Now that we have developed a score, we need to make sure we apply it to the correct part of the data\n",
    "+ If we score the models as set up previously we get as below\n",
    "+ But, this is irrelevant - What matters is how we score on unseen data"
   ]
  },
  {
   "cell_type": "code",
   "execution_count": 11,
   "metadata": {},
   "outputs": [
    {
     "data": {
      "text/html": [
       "<style>\n",
       ".list-inline {list-style: none; margin:0; padding: 0}\n",
       ".list-inline>li {display: inline-block}\n",
       ".list-inline>li:not(:last-child)::after {content: \"\\00b7\"; padding: 0 .5ex}\n",
       "</style>\n",
       "<ol class=list-inline><li>2.49039007611354</li><li>2.56616537678693</li><li>3.74148767580622</li><li>5.33375008300751</li><li>14.1244587134977</li><li>39.4453901188102</li></ol>\n"
      ],
      "text/latex": [
       "\\begin{enumerate*}\n",
       "\\item 2.49039007611354\n",
       "\\item 2.56616537678693\n",
       "\\item 3.74148767580622\n",
       "\\item 5.33375008300751\n",
       "\\item 14.1244587134977\n",
       "\\item 39.4453901188102\n",
       "\\end{enumerate*}\n"
      ],
      "text/markdown": [
       "1. 2.49039007611354\n",
       "2. 2.56616537678693\n",
       "3. 3.74148767580622\n",
       "4. 5.33375008300751\n",
       "5. 14.1244587134977\n",
       "6. 39.4453901188102\n",
       "\n",
       "\n"
      ],
      "text/plain": [
       "[1]  2.490390  2.566165  3.741488  5.333750 14.124459 39.445390"
      ]
     },
     "metadata": {},
     "output_type": "display_data"
    }
   ],
   "source": [
    "## R code 7.15\n",
    "set.seed(1)\n",
    "sapply( list(m7.1,m7.2,m7.3,m7.4,m7.5,m7.6) , function(m) sum(lppd(m)) )"
   ]
  },
  {
   "cell_type": "markdown",
   "metadata": {},
   "source": [
    "+ The author runs a simulation to show how in-sample and out-of-sample deviance scores are impacted by parameters\n",
    "+ The simulation is set up so that the data is generated from a 3 parameter function. Hence the 'correct' number of parameters is 3\n",
    "+ N is the size of the training and test sample - 20 each, or 100 each\n",
    "+ I don't get why he is calling this a deviance score - It is\n",
    "    + $-2 \\times lppd$"
   ]
  },
  {
   "cell_type": "code",
   "execution_count": 12,
   "metadata": {},
   "outputs": [],
   "source": [
    "# Cannot get this to run !!\n",
    "# Probably mcreplicate line\n",
    "## R code 7.16\n",
    "# N <- 20\n",
    "# kseq <- 1:5\n",
    "# dev <- sapply( kseq , function(k) {\n",
    "#         print(k);\n",
    "#         r <- mcreplicate( 1e4 , sim_train_test( N=N, k=k ) , mc.cores=4 )\n",
    "#         c( mean(r[1,]) , mean(r[2,]) , sd(r[1,]) , sd(r[2,]) )\n",
    "#     } )"
   ]
  },
  {
   "cell_type": "code",
   "execution_count": 13,
   "metadata": {},
   "outputs": [],
   "source": [
    "# Cannot get code above to run, so this plot is defunct !!\n",
    "## R code 7.18\n",
    "# plot( 1:5 , dev[1,] , ylim=c( min(dev[1:2,])-5 , max(dev[1:2,])+10 ) ,\n",
    "#     xlim=c(1,5.1) , xlab=\"number of parameters\" , ylab=\"deviance\" ,\n",
    "#     pch=16 , col=rangi2 )\n",
    "# mtext( concat( \"N = \",N ) )\n",
    "# points( (1:5)+0.1 , dev[2,] )\n",
    "# for ( i in kseq ) {\n",
    "#     pts_in <- dev[1,i] + c(-1,+1)*dev[3,i]\n",
    "#     pts_out <- dev[2,i] + c(-1,+1)*dev[4,i]\n",
    "#     lines( c(i,i) , pts_in , col=rangi2 )\n",
    "#     lines( c(i,i)+0.1 , pts_out )\n",
    "# }"
   ]
  },
  {
   "cell_type": "markdown",
   "metadata": {},
   "source": [
    "![alt text](images/7/simulate-in-out-sample-scores.png \"Title\")"
   ]
  },
  {
   "cell_type": "markdown",
   "metadata": {},
   "source": [
    "+ The conclusion of this is that the lowest out-of-sample Deviance is associated, in both scenarios - 20 or 100 sample size, with the 'correct' number of parameters - where 'correct' means the number of parameters that were used to generate the data"
   ]
  },
  {
   "cell_type": "markdown",
   "metadata": {},
   "source": [
    "# Regularization"
   ]
  },
  {
   "cell_type": "markdown",
   "metadata": {},
   "source": [
    "![alt text](images/7/regularizing-priors.png \"Title\")\n",
    "\n",
    "### Impact of REGULARIZING PRIORS\n",
    "+ Run an experiment building and running linear models\n",
    "    + The model looks like:\n",
    "        + $b_i \\sim Normal(\\mu_i, \\sigma)$\n",
    "        + $\\mu_i = \\alpha + \\beta \\times m_i$\n",
    "        + Note - More complex models may look like\n",
    "            + $\\mu_i = \\alpha + \\beta_1 \\times m_i + \\beta_2 \\times m_i^2 ... + \\beta_n \\times m_i^n$\n",
    "        + $\\alpha \\sim Normal(0.5, 1)$\n",
    "        + $\\beta \\sim Normal(0, 10)$\n",
    "        + $\\sigma \\sim LogNormal(0, 1)$\n",
    "    + The model used standardized data, so the predictor x is 0 centered and has standard deviation = 1\n",
    "    + If the $\\beta$ parameter is set to 1, this means there is only a 5% (prior) plausibilty that it will be set to 2 standard deviations away from 0 (Because 95% probability is contained within +/- 2 standard deviations for a normal distribution). This is like saying that a change in 1 stdev of the predictor would lead to a 2 stdev change in the outcome.\n",
    "    + Conduct an experiment where 3 things vary in each run:\n",
    "        + The number of parametrs. The linear part of the model can look like:\n",
    "            + $\\mu_i = \\alpha + \\beta_1 \\times m_i$ - First Order polynomial\n",
    "            + ...\n",
    "            + $\\mu_i = \\alpha + \\beta_1 \\times m_i + \\beta_2 \\times m_i^2 ... + \\beta_5 \\times m_i^n$ - Fifth Order polynomial\n",
    "        + Change the priors. The priors can look like (See the picture above):\n",
    "            + Weak Prior: $\\beta_n \\sim Normal(0,1)$. Also called Flat prior - Unopinionated - Relaxes the model fit\n",
    "            + Strong Prior: $\\beta_n \\sim Normal(0, 0.5)$ Also called [weak? - not sure what he calls this]\n",
    "            + Regularizing Prior: $\\beta_n \\sim Normal(0, 0.2)$ Also clled skeptical prior - Constrains the model\n",
    "        + Change the data sample size:\n",
    "            + N = 20\n",
    "            + N = 100\n",
    "    + Measure the result of each run using the DEVIANCE metric (Smaller is better)\n",
    "        + On the training data - the data used to fit the model\n",
    "        + On the test data - data that the model has never seen before\n",
    "            \n",
    "![alt text](images/7/reg-priors-out-of-sample-deviance.png \"Title\")"
   ]
  },
  {
   "cell_type": "markdown",
   "metadata": {},
   "source": [
    "+ Experiment Results:\n",
    "    + Left Hand Plot - sample size = 20\n",
    "        + The training scores (blue) continue to improve as more parameters are added to the model. The model overfits.\n",
    "        + The test scores (black) are always worse than the training scores\n",
    "        + The test scores (black) are best at 3 parameters (This was the number of parameters used to generate the original data - see above)\n",
    "        + For the training data (blue):\n",
    "            + The flattest prior $Normal(0,1)$ - dashed line - allows the model to overfit more than the regularization (tight) prior $Normal(0, 0.2)$ - bold line. \n",
    "        + We are most interested in the test data (black) results because this gives an indication as to how the model will perform if we use it in the world. For the test data:\n",
    "            + The flattest prior $Normal(0, 1)$ - dashed line - scores worse than the regularized prior $Normal(0, 0.2)$ - bold line. So the harm done by a higher number of parameters (more complex model) is reduced by using a tighter (regularized) prior.\n",
    "            + So, for small data the worst performing model (in terms of prior setting) on training data is the best performing model on the test data. Wow!\n",
    "    + Right Hand Plot - sample size = 100\n",
    "        + All the lines are closer together. This means regardless of the how the prior is set - flat or regularized, the volume of data tends to wash out the impact of the priors on the final model performance."
   ]
  },
  {
   "cell_type": "markdown",
   "metadata": {},
   "source": [
    "# 7.4 Predicting Predictive Accuracy"
   ]
  },
  {
   "cell_type": "markdown",
   "metadata": {},
   "source": [
    "### Simulation Setup\n",
    "\n",
    "+ We have 3 ways of assessing performance:\n",
    "    + Cross Validation - LEAVE ONE OUT CROSS VALIDATION (LOOCV)\n",
    "    + PSIS - PARETO SMOOTHED IMPORTANCE SAMPLING CROSS VALIDATION\n",
    "    + WAIC - WIDELY APPLICABLE INFORMATION CRITERION\n",
    "+ We run a simulation to assess how these methods compare in assessing model performance.\n",
    "+ We use data that is generated from a function with 3 parameters.\n",
    "\n",
    "+ Run an experiment building and running linear models - similar to previous simulation setups\n",
    "    + The model looks like:\n",
    "        + $b_i \\sim Normal(\\mu_i, \\sigma)$\n",
    "        + $\\mu_i = \\alpha + \\beta \\times m_i$\n",
    "        + Note - More complex models may look like\n",
    "            + $\\mu_i = \\alpha + \\beta_1 \\times m_i + \\beta_2 \\times m_i^2 ... + \\beta_n \\times m_i^n$\n",
    "        + $\\alpha \\sim Normal(0.5, 1)$\n",
    "        + $\\beta \\sim Normal(0, 10)$\n",
    "        + $\\sigma \\sim LogNormal(0, 1)$\n",
    "    + The model used standardized data, so the predictor x is 0 centered and has standard deviation = 1\n",
    "    + If the $\\beta$ parameter is set to 1, this means there is only a 5% (prior) plausibilty that it will be set to 2 standard deviations away from 0 (Because 95% probability is contained within +/- 2 standard deviations for a normal distribution). This is like saying that a change in 1 stdev of the predictor would lead to a 2 stdev change in the outcome.\n",
    "    + Conduct an experiment where 3 things vary in each run:\n",
    "        + The number of parametrs. The linear part of the model can look like:\n",
    "            + $\\mu_i = \\alpha + \\beta_1 \\times m_i$ - First Order polynomial\n",
    "            + ...\n",
    "            + $\\mu_i = \\alpha + \\beta_1 \\times m_i + \\beta_2 \\times m_i^2 ... + \\beta_5 \\times m_i^n$ - Fifth Order polynomial\n",
    "        + Change the priors. The priors can look like (See the picture above):\n",
    "            + Flat Prior: $\\beta_n \\sim Normal(0,1)$. Also called Flat prior - Unopinionated - Relaxes the model fit\n",
    "            + Regularizing Prior: $\\beta_n \\sim Normal(0, 0.2)$ Also clled skeptical prior - Constrains the model\n",
    "        + Change the data sample size:\n",
    "            + N = 20\n",
    "            + N = 100\n",
    "    + Measure the result of each run using the average deviance metric (Smaller is better)\n",
    "        + On the test data - data that the model has never seen before\n",
    "    + Measurement Methods are (definitions come below):\n",
    "        + Cross Validation\n",
    "        + PSIS\n",
    "        + WAIC\n",
    "\n",
    "![alt text](images/7/waic-1.png \"Title\")"
   ]
  },
  {
   "cell_type": "markdown",
   "metadata": {},
   "source": [
    "+ [ Finding this really difficult to interpret - Cannot understand how this plot is put together - Even worse, I am not 100% sure what I am supposed to take away from this - I think it is:\n",
    "    + **To prevent overfitting, and perform better on out-of-sample data - Use regularized priors and measure deviance with PSIS, or WAIC, because these two (inexpensive) methods give similar results to the expensive LOOCV method (I think?)**\n",
    "+ Top Left Hand Plot\n",
    "    + The top 3 lines are for a flat (relaxed) prior, the bottom 3 lines are for regularized priors\n",
    "    + The unfilled dots are the average deviance for flat priors\n",
    "    + The filled dots are the average deviance for regularized priors\n",
    "    + The scale for the lines is absolute deviance (even though the axis is labelled average deviance)\n",
    "+ [Cannot follow this section]"
   ]
  },
  {
   "cell_type": "code",
   "execution_count": null,
   "metadata": {},
   "outputs": [],
   "source": []
  },
  {
   "cell_type": "markdown",
   "metadata": {},
   "source": [
    "# 7.5 Model Comparison"
   ]
  },
  {
   "cell_type": "code",
   "execution_count": null,
   "metadata": {},
   "outputs": [],
   "source": []
  },
  {
   "cell_type": "code",
   "execution_count": 14,
   "metadata": {},
   "outputs": [
    {
     "data": {
      "text/html": [
       "423.318777075886"
      ],
      "text/latex": [
       "423.318777075886"
      ],
      "text/markdown": [
       "423.318777075886"
      ],
      "text/plain": [
       "[1] 423.3188"
      ]
     },
     "metadata": {},
     "output_type": "display_data"
    },
    {
     "data": {
      "text/html": [
       "17.8179705299749"
      ],
      "text/latex": [
       "17.8179705299749"
      ],
      "text/markdown": [
       "17.8179705299749"
      ],
      "text/plain": [
       "[1] 17.81797"
      ]
     },
     "metadata": {},
     "output_type": "display_data"
    }
   ],
   "source": [
    "## R code 7.19\n",
    "data(cars)\n",
    "m <- quap(\n",
    "    alist(\n",
    "        dist ~ dnorm(mu,sigma),\n",
    "        mu <- a + b*speed,\n",
    "        a ~ dnorm(0,100),\n",
    "        b ~ dnorm(0,10),\n",
    "        sigma ~ dexp(1)\n",
    "    ) , data=cars )\n",
    "set.seed(94)\n",
    "post <- extract.samples(m,n=1000)\n",
    "\n",
    "## R code 7.20\n",
    "n_samples <- 1000\n",
    "logprob <- sapply( 1:n_samples ,\n",
    "    function(s) {\n",
    "        mu <- post$a[s] + post$b[s]*cars$speed\n",
    "        dnorm( cars$dist , mu , post$sigma[s] , log=TRUE )\n",
    "    } )\n",
    "\n",
    "## R code 7.21\n",
    "n_cases <- nrow(cars)\n",
    "lppd <- sapply( 1:n_cases , function(i) log_sum_exp(logprob[i,]) - log(n_samples) )\n",
    "\n",
    "## R code 7.22\n",
    "pWAIC <- sapply( 1:n_cases , function(i) var(logprob[i,]) )\n",
    "\n",
    "## R code 7.23\n",
    "-2*( sum(lppd) - sum(pWAIC) )\n",
    "\n",
    "## R code 7.24\n",
    "waic_vec <- -2*( lppd - pWAIC )\n",
    "sqrt( n_cases*var(waic_vec) )"
   ]
  },
  {
   "cell_type": "code",
   "execution_count": null,
   "metadata": {},
   "outputs": [],
   "source": []
  },
  {
   "cell_type": "code",
   "execution_count": null,
   "metadata": {},
   "outputs": [],
   "source": []
  },
  {
   "cell_type": "code",
   "execution_count": null,
   "metadata": {},
   "outputs": [],
   "source": []
  },
  {
   "cell_type": "code",
   "execution_count": 15,
   "metadata": {},
   "outputs": [
    {
     "data": {
      "text/html": [
       "<table class=\"dataframe\">\n",
       "<caption>A precis: 4 × 5</caption>\n",
       "<thead>\n",
       "\t<tr><th></th><th scope=col>mean</th><th scope=col>sd</th><th scope=col>5.5%</th><th scope=col>94.5%</th><th scope=col>histogram</th></tr>\n",
       "\t<tr><th></th><th scope=col>&lt;dbl&gt;</th><th scope=col>&lt;dbl&gt;</th><th scope=col>&lt;dbl&gt;</th><th scope=col>&lt;dbl&gt;</th><th scope=col>&lt;chr&gt;</th></tr>\n",
       "</thead>\n",
       "<tbody>\n",
       "\t<tr><th scope=row>h0</th><td> 9.95978</td><td>2.1011623</td><td> 6.570328</td><td>13.07874</td><td>▁▂▂▂▇▃▂▃▁▁▁▁</td></tr>\n",
       "\t<tr><th scope=row>h1</th><td>14.39920</td><td>2.6880870</td><td>10.618002</td><td>17.93369</td><td>▁▁▃▇▇▇▁▁    </td></tr>\n",
       "\t<tr><th scope=row>treatment</th><td> 0.50000</td><td>0.5025189</td><td> 0.000000</td><td> 1.00000</td><td>▇▁▁▁▁▁▁▁▁▇  </td></tr>\n",
       "\t<tr><th scope=row>fungus</th><td> 0.23000</td><td>0.4229526</td><td> 0.000000</td><td> 1.00000</td><td>▇▁▁▁▁▁▁▁▁▂  </td></tr>\n",
       "</tbody>\n",
       "</table>\n"
      ],
      "text/latex": [
       "A precis: 4 × 5\n",
       "\\begin{tabular}{r|lllll}\n",
       "  & mean & sd & 5.5\\% & 94.5\\% & histogram\\\\\n",
       "  & <dbl> & <dbl> & <dbl> & <dbl> & <chr>\\\\\n",
       "\\hline\n",
       "\th0 &  9.95978 & 2.1011623 &  6.570328 & 13.07874 & ▁▂▂▂▇▃▂▃▁▁▁▁\\\\\n",
       "\th1 & 14.39920 & 2.6880870 & 10.618002 & 17.93369 & ▁▁▃▇▇▇▁▁    \\\\\n",
       "\ttreatment &  0.50000 & 0.5025189 &  0.000000 &  1.00000 & ▇▁▁▁▁▁▁▁▁▇  \\\\\n",
       "\tfungus &  0.23000 & 0.4229526 &  0.000000 &  1.00000 & ▇▁▁▁▁▁▁▁▁▂  \\\\\n",
       "\\end{tabular}\n"
      ],
      "text/markdown": [
       "\n",
       "A precis: 4 × 5\n",
       "\n",
       "| <!--/--> | mean &lt;dbl&gt; | sd &lt;dbl&gt; | 5.5% &lt;dbl&gt; | 94.5% &lt;dbl&gt; | histogram &lt;chr&gt; |\n",
       "|---|---|---|---|---|---|\n",
       "| h0 |  9.95978 | 2.1011623 |  6.570328 | 13.07874 | ▁▂▂▂▇▃▂▃▁▁▁▁ |\n",
       "| h1 | 14.39920 | 2.6880870 | 10.618002 | 17.93369 | ▁▁▃▇▇▇▁▁     |\n",
       "| treatment |  0.50000 | 0.5025189 |  0.000000 |  1.00000 | ▇▁▁▁▁▁▁▁▁▇   |\n",
       "| fungus |  0.23000 | 0.4229526 |  0.000000 |  1.00000 | ▇▁▁▁▁▁▁▁▁▂   |\n",
       "\n"
      ],
      "text/plain": [
       "          mean     sd        5.5%      94.5%    histogram   \n",
       "h0         9.95978 2.1011623  6.570328 13.07874 ▁▂▂▂▇▃▂▃▁▁▁▁\n",
       "h1        14.39920 2.6880870 10.618002 17.93369 ▁▁▃▇▇▇▁▁    \n",
       "treatment  0.50000 0.5025189  0.000000  1.00000 ▇▁▁▁▁▁▁▁▁▇  \n",
       "fungus     0.23000 0.4229526  0.000000  1.00000 ▇▁▁▁▁▁▁▁▁▂  "
      ]
     },
     "metadata": {},
     "output_type": "display_data"
    },
    {
     "data": {
      "text/html": [
       "<table class=\"dataframe\">\n",
       "<caption>A precis: 1 × 5</caption>\n",
       "<thead>\n",
       "\t<tr><th></th><th scope=col>mean</th><th scope=col>sd</th><th scope=col>5.5%</th><th scope=col>94.5%</th><th scope=col>histogram</th></tr>\n",
       "\t<tr><th></th><th scope=col>&lt;dbl&gt;</th><th scope=col>&lt;dbl&gt;</th><th scope=col>&lt;dbl&gt;</th><th scope=col>&lt;dbl&gt;</th><th scope=col>&lt;chr&gt;</th></tr>\n",
       "</thead>\n",
       "<tbody>\n",
       "\t<tr><th scope=row>sim_p</th><td>1.03699</td><td>0.2629894</td><td>0.670683</td><td>1.496397</td><td>▁▁▃▇▇▃▁▁▁▁▁▁</td></tr>\n",
       "</tbody>\n",
       "</table>\n"
      ],
      "text/latex": [
       "A precis: 1 × 5\n",
       "\\begin{tabular}{r|lllll}\n",
       "  & mean & sd & 5.5\\% & 94.5\\% & histogram\\\\\n",
       "  & <dbl> & <dbl> & <dbl> & <dbl> & <chr>\\\\\n",
       "\\hline\n",
       "\tsim\\_p & 1.03699 & 0.2629894 & 0.670683 & 1.496397 & ▁▁▃▇▇▃▁▁▁▁▁▁\\\\\n",
       "\\end{tabular}\n"
      ],
      "text/markdown": [
       "\n",
       "A precis: 1 × 5\n",
       "\n",
       "| <!--/--> | mean &lt;dbl&gt; | sd &lt;dbl&gt; | 5.5% &lt;dbl&gt; | 94.5% &lt;dbl&gt; | histogram &lt;chr&gt; |\n",
       "|---|---|---|---|---|---|\n",
       "| sim_p | 1.03699 | 0.2629894 | 0.670683 | 1.496397 | ▁▁▃▇▇▃▁▁▁▁▁▁ |\n",
       "\n"
      ],
      "text/plain": [
       "      mean    sd        5.5%     94.5%    histogram   \n",
       "sim_p 1.03699 0.2629894 0.670683 1.496397 ▁▁▃▇▇▃▁▁▁▁▁▁"
      ]
     },
     "metadata": {},
     "output_type": "display_data"
    },
    {
     "data": {
      "text/html": [
       "<table class=\"dataframe\">\n",
       "<caption>A precis: 2 × 4</caption>\n",
       "<thead>\n",
       "\t<tr><th></th><th scope=col>mean</th><th scope=col>sd</th><th scope=col>5.5%</th><th scope=col>94.5%</th></tr>\n",
       "\t<tr><th></th><th scope=col>&lt;dbl&gt;</th><th scope=col>&lt;dbl&gt;</th><th scope=col>&lt;dbl&gt;</th><th scope=col>&lt;dbl&gt;</th></tr>\n",
       "</thead>\n",
       "<tbody>\n",
       "\t<tr><th scope=row>p</th><td>1.426626</td><td>0.01760992</td><td>1.398482</td><td>1.454770</td></tr>\n",
       "\t<tr><th scope=row>sigma</th><td>1.793286</td><td>0.12517262</td><td>1.593236</td><td>1.993336</td></tr>\n",
       "</tbody>\n",
       "</table>\n"
      ],
      "text/latex": [
       "A precis: 2 × 4\n",
       "\\begin{tabular}{r|llll}\n",
       "  & mean & sd & 5.5\\% & 94.5\\%\\\\\n",
       "  & <dbl> & <dbl> & <dbl> & <dbl>\\\\\n",
       "\\hline\n",
       "\tp & 1.426626 & 0.01760992 & 1.398482 & 1.454770\\\\\n",
       "\tsigma & 1.793286 & 0.12517262 & 1.593236 & 1.993336\\\\\n",
       "\\end{tabular}\n"
      ],
      "text/markdown": [
       "\n",
       "A precis: 2 × 4\n",
       "\n",
       "| <!--/--> | mean &lt;dbl&gt; | sd &lt;dbl&gt; | 5.5% &lt;dbl&gt; | 94.5% &lt;dbl&gt; |\n",
       "|---|---|---|---|---|\n",
       "| p | 1.426626 | 0.01760992 | 1.398482 | 1.454770 |\n",
       "| sigma | 1.793286 | 0.12517262 | 1.593236 | 1.993336 |\n",
       "\n"
      ],
      "text/plain": [
       "      mean     sd         5.5%     94.5%   \n",
       "p     1.426626 0.01760992 1.398482 1.454770\n",
       "sigma 1.793286 0.12517262 1.593236 1.993336"
      ]
     },
     "metadata": {},
     "output_type": "display_data"
    },
    {
     "data": {
      "text/html": [
       "<table class=\"dataframe\">\n",
       "<caption>A precis: 4 × 4</caption>\n",
       "<thead>\n",
       "\t<tr><th></th><th scope=col>mean</th><th scope=col>sd</th><th scope=col>5.5%</th><th scope=col>94.5%</th></tr>\n",
       "\t<tr><th></th><th scope=col>&lt;dbl&gt;</th><th scope=col>&lt;dbl&gt;</th><th scope=col>&lt;dbl&gt;</th><th scope=col>&lt;dbl&gt;</th></tr>\n",
       "</thead>\n",
       "<tbody>\n",
       "\t<tr><th scope=row>a</th><td> 1.481391468</td><td>0.02451069</td><td> 1.44221865</td><td> 1.52056429</td></tr>\n",
       "\t<tr><th scope=row>bt</th><td> 0.002412222</td><td>0.02986965</td><td>-0.04532525</td><td> 0.05014969</td></tr>\n",
       "\t<tr><th scope=row>bf</th><td>-0.266718915</td><td>0.03654772</td><td>-0.32512923</td><td>-0.20830860</td></tr>\n",
       "\t<tr><th scope=row>sigma</th><td> 1.408797442</td><td>0.09862070</td><td> 1.25118251</td><td> 1.56641237</td></tr>\n",
       "</tbody>\n",
       "</table>\n"
      ],
      "text/latex": [
       "A precis: 4 × 4\n",
       "\\begin{tabular}{r|llll}\n",
       "  & mean & sd & 5.5\\% & 94.5\\%\\\\\n",
       "  & <dbl> & <dbl> & <dbl> & <dbl>\\\\\n",
       "\\hline\n",
       "\ta &  1.481391468 & 0.02451069 &  1.44221865 &  1.52056429\\\\\n",
       "\tbt &  0.002412222 & 0.02986965 & -0.04532525 &  0.05014969\\\\\n",
       "\tbf & -0.266718915 & 0.03654772 & -0.32512923 & -0.20830860\\\\\n",
       "\tsigma &  1.408797442 & 0.09862070 &  1.25118251 &  1.56641237\\\\\n",
       "\\end{tabular}\n"
      ],
      "text/markdown": [
       "\n",
       "A precis: 4 × 4\n",
       "\n",
       "| <!--/--> | mean &lt;dbl&gt; | sd &lt;dbl&gt; | 5.5% &lt;dbl&gt; | 94.5% &lt;dbl&gt; |\n",
       "|---|---|---|---|---|\n",
       "| a |  1.481391468 | 0.02451069 |  1.44221865 |  1.52056429 |\n",
       "| bt |  0.002412222 | 0.02986965 | -0.04532525 |  0.05014969 |\n",
       "| bf | -0.266718915 | 0.03654772 | -0.32512923 | -0.20830860 |\n",
       "| sigma |  1.408797442 | 0.09862070 |  1.25118251 |  1.56641237 |\n",
       "\n"
      ],
      "text/plain": [
       "      mean         sd         5.5%        94.5%      \n",
       "a      1.481391468 0.02451069  1.44221865  1.52056429\n",
       "bt     0.002412222 0.02986965 -0.04532525  0.05014969\n",
       "bf    -0.266718915 0.03654772 -0.32512923 -0.20830860\n",
       "sigma  1.408797442 0.09862070  1.25118251  1.56641237"
      ]
     },
     "metadata": {},
     "output_type": "display_data"
    },
    {
     "data": {
      "text/html": [
       "<table class=\"dataframe\">\n",
       "<caption>A precis: 3 × 4</caption>\n",
       "<thead>\n",
       "\t<tr><th></th><th scope=col>mean</th><th scope=col>sd</th><th scope=col>5.5%</th><th scope=col>94.5%</th></tr>\n",
       "\t<tr><th></th><th scope=col>&lt;dbl&gt;</th><th scope=col>&lt;dbl&gt;</th><th scope=col>&lt;dbl&gt;</th><th scope=col>&lt;dbl&gt;</th></tr>\n",
       "</thead>\n",
       "<tbody>\n",
       "\t<tr><th scope=row>a</th><td>1.38035767</td><td>0.02517554</td><td>1.34012229</td><td>1.4205931</td></tr>\n",
       "\t<tr><th scope=row>bt</th><td>0.08499924</td><td>0.03429718</td><td>0.03018573</td><td>0.1398128</td></tr>\n",
       "\t<tr><th scope=row>sigma</th><td>1.74631655</td><td>0.12191552</td><td>1.55147200</td><td>1.9411611</td></tr>\n",
       "</tbody>\n",
       "</table>\n"
      ],
      "text/latex": [
       "A precis: 3 × 4\n",
       "\\begin{tabular}{r|llll}\n",
       "  & mean & sd & 5.5\\% & 94.5\\%\\\\\n",
       "  & <dbl> & <dbl> & <dbl> & <dbl>\\\\\n",
       "\\hline\n",
       "\ta & 1.38035767 & 0.02517554 & 1.34012229 & 1.4205931\\\\\n",
       "\tbt & 0.08499924 & 0.03429718 & 0.03018573 & 0.1398128\\\\\n",
       "\tsigma & 1.74631655 & 0.12191552 & 1.55147200 & 1.9411611\\\\\n",
       "\\end{tabular}\n"
      ],
      "text/markdown": [
       "\n",
       "A precis: 3 × 4\n",
       "\n",
       "| <!--/--> | mean &lt;dbl&gt; | sd &lt;dbl&gt; | 5.5% &lt;dbl&gt; | 94.5% &lt;dbl&gt; |\n",
       "|---|---|---|---|---|\n",
       "| a | 1.38035767 | 0.02517554 | 1.34012229 | 1.4205931 |\n",
       "| bt | 0.08499924 | 0.03429718 | 0.03018573 | 0.1398128 |\n",
       "| sigma | 1.74631655 | 0.12191552 | 1.55147200 | 1.9411611 |\n",
       "\n"
      ],
      "text/plain": [
       "      mean       sd         5.5%       94.5%    \n",
       "a     1.38035767 0.02517554 1.34012229 1.4205931\n",
       "bt    0.08499924 0.03429718 0.03018573 0.1398128\n",
       "sigma 1.74631655 0.12191552 1.55147200 1.9411611"
      ]
     },
     "metadata": {},
     "output_type": "display_data"
    }
   ],
   "source": [
    "# Code from last chapter used as models in this chapter\n",
    "## R code 6.13\n",
    "set.seed(71)\n",
    "# number of plants\n",
    "N <- 100\n",
    "\n",
    "# simulate initial heights\n",
    "h0 <- rnorm(N,10,2)\n",
    "\n",
    "# assign treatments and simulate fungus and growth\n",
    "treatment <- rep( 0:1 , each=N/2 )\n",
    "fungus <- rbinom( N , size=1 , prob=0.5 - treatment*0.4 )\n",
    "h1 <- h0 + rnorm(N, 5 - 3*fungus)\n",
    "\n",
    "# compose a clean data frame\n",
    "d <- data.frame( h0=h0 , h1=h1 , treatment=treatment , fungus=fungus )\n",
    "precis(d)\n",
    "\n",
    "## R code 6.14\n",
    "sim_p <- rlnorm( 1e4 , 0 , 0.25 )\n",
    "precis( data.frame(sim_p) )\n",
    "\n",
    "## R code 6.15\n",
    "m6.6 <- quap(\n",
    "    alist(\n",
    "        h1 ~ dnorm( mu , sigma ),\n",
    "        mu <- h0*p,\n",
    "        p ~ dlnorm( 0 , 0.25 ),\n",
    "        sigma ~ dexp( 1 )\n",
    "    ), data=d )\n",
    "precis(m6.6)\n",
    "\n",
    "## R code 6.16\n",
    "m6.7 <- quap(\n",
    "    alist(\n",
    "        h1 ~ dnorm( mu , sigma ),\n",
    "        mu <- h0 * p,\n",
    "        p <- a + bt*treatment + bf*fungus,\n",
    "        a ~ dlnorm( 0 , 0.2 ) ,\n",
    "        bt ~ dnorm( 0 , 0.5 ),\n",
    "        bf ~ dnorm( 0 , 0.5 ),\n",
    "        sigma ~ dexp( 1 )\n",
    "    ), data=d )\n",
    "precis(m6.7)\n",
    "\n",
    "## R code 6.17\n",
    "m6.8 <- quap(\n",
    "    alist(\n",
    "        h1 ~ dnorm( mu , sigma ),\n",
    "        mu <- h0 * p,\n",
    "        p <- a + bt*treatment,\n",
    "        a ~ dlnorm( 0 , 0.2 ),\n",
    "        bt ~ dnorm( 0 , 0.5 ),\n",
    "        sigma ~ dexp( 1 )\n",
    "    ), data=d )\n",
    "precis(m6.8)"
   ]
  },
  {
   "cell_type": "code",
   "execution_count": 16,
   "metadata": {},
   "outputs": [
    {
     "data": {
      "text/html": [
       "<table class=\"dataframe\">\n",
       "<caption>A data.frame: 1 × 4</caption>\n",
       "<thead>\n",
       "\t<tr><th scope=col>WAIC</th><th scope=col>lppd</th><th scope=col>penalty</th><th scope=col>std_err</th></tr>\n",
       "\t<tr><th scope=col>&lt;dbl&gt;</th><th scope=col>&lt;dbl&gt;</th><th scope=col>&lt;dbl&gt;</th><th scope=col>&lt;dbl&gt;</th></tr>\n",
       "</thead>\n",
       "<tbody>\n",
       "\t<tr><td>361.4511</td><td>-177.1724</td><td>3.553198</td><td>14.17033</td></tr>\n",
       "</tbody>\n",
       "</table>\n"
      ],
      "text/latex": [
       "A data.frame: 1 × 4\n",
       "\\begin{tabular}{llll}\n",
       " WAIC & lppd & penalty & std\\_err\\\\\n",
       " <dbl> & <dbl> & <dbl> & <dbl>\\\\\n",
       "\\hline\n",
       "\t 361.4511 & -177.1724 & 3.553198 & 14.17033\\\\\n",
       "\\end{tabular}\n"
      ],
      "text/markdown": [
       "\n",
       "A data.frame: 1 × 4\n",
       "\n",
       "| WAIC &lt;dbl&gt; | lppd &lt;dbl&gt; | penalty &lt;dbl&gt; | std_err &lt;dbl&gt; |\n",
       "|---|---|---|---|\n",
       "| 361.4511 | -177.1724 | 3.553198 | 14.17033 |\n",
       "\n"
      ],
      "text/plain": [
       "  WAIC     lppd      penalty  std_err \n",
       "1 361.4511 -177.1724 3.553198 14.17033"
      ]
     },
     "metadata": {},
     "output_type": "display_data"
    },
    {
     "data": {
      "text/html": [
       "<table class=\"dataframe\">\n",
       "<caption>A compareIC: 3 × 6</caption>\n",
       "<thead>\n",
       "\t<tr><th></th><th scope=col>WAIC</th><th scope=col>SE</th><th scope=col>dWAIC</th><th scope=col>dSE</th><th scope=col>pWAIC</th><th scope=col>weight</th></tr>\n",
       "\t<tr><th></th><th scope=col>&lt;dbl&gt;</th><th scope=col>&lt;dbl&gt;</th><th scope=col>&lt;dbl&gt;</th><th scope=col>&lt;dbl&gt;</th><th scope=col>&lt;dbl&gt;</th><th scope=col>&lt;dbl&gt;</th></tr>\n",
       "</thead>\n",
       "<tbody>\n",
       "\t<tr><th scope=row>m6.7</th><td>361.8901</td><td>14.26190</td><td> 0.00000</td><td>      NA</td><td>3.839491</td><td>1.000000e+00</td></tr>\n",
       "\t<tr><th scope=row>m6.8</th><td>402.7757</td><td>11.28257</td><td>40.88562</td><td>10.47837</td><td>2.645879</td><td>1.323732e-09</td></tr>\n",
       "\t<tr><th scope=row>m6.6</th><td>405.9139</td><td>11.64641</td><td>44.02380</td><td>12.22582</td><td>1.581312</td><td>2.756471e-10</td></tr>\n",
       "</tbody>\n",
       "</table>\n"
      ],
      "text/latex": [
       "A compareIC: 3 × 6\n",
       "\\begin{tabular}{r|llllll}\n",
       "  & WAIC & SE & dWAIC & dSE & pWAIC & weight\\\\\n",
       "  & <dbl> & <dbl> & <dbl> & <dbl> & <dbl> & <dbl>\\\\\n",
       "\\hline\n",
       "\tm6.7 & 361.8901 & 14.26190 &  0.00000 &       NA & 3.839491 & 1.000000e+00\\\\\n",
       "\tm6.8 & 402.7757 & 11.28257 & 40.88562 & 10.47837 & 2.645879 & 1.323732e-09\\\\\n",
       "\tm6.6 & 405.9139 & 11.64641 & 44.02380 & 12.22582 & 1.581312 & 2.756471e-10\\\\\n",
       "\\end{tabular}\n"
      ],
      "text/markdown": [
       "\n",
       "A compareIC: 3 × 6\n",
       "\n",
       "| <!--/--> | WAIC &lt;dbl&gt; | SE &lt;dbl&gt; | dWAIC &lt;dbl&gt; | dSE &lt;dbl&gt; | pWAIC &lt;dbl&gt; | weight &lt;dbl&gt; |\n",
       "|---|---|---|---|---|---|---|\n",
       "| m6.7 | 361.8901 | 14.26190 |  0.00000 |       NA | 3.839491 | 1.000000e+00 |\n",
       "| m6.8 | 402.7757 | 11.28257 | 40.88562 | 10.47837 | 2.645879 | 1.323732e-09 |\n",
       "| m6.6 | 405.9139 | 11.64641 | 44.02380 | 12.22582 | 1.581312 | 2.756471e-10 |\n",
       "\n"
      ],
      "text/plain": [
       "     WAIC     SE       dWAIC    dSE      pWAIC    weight      \n",
       "m6.7 361.8901 14.26190  0.00000       NA 3.839491 1.000000e+00\n",
       "m6.8 402.7757 11.28257 40.88562 10.47837 2.645879 1.323732e-09\n",
       "m6.6 405.9139 11.64641 44.02380 12.22582 1.581312 2.756471e-10"
      ]
     },
     "metadata": {},
     "output_type": "display_data"
    },
    {
     "data": {
      "text/html": [
       "10.3580969929391"
      ],
      "text/latex": [
       "10.3580969929391"
      ],
      "text/markdown": [
       "10.3580969929391"
      ],
      "text/plain": [
       "[1] 10.3581"
      ]
     },
     "metadata": {},
     "output_type": "display_data"
    },
    {
     "data": {
      "text/html": [
       "<style>\n",
       ".list-inline {list-style: none; margin:0; padding: 0}\n",
       ".list-inline>li {display: inline-block}\n",
       ".list-inline>li:not(:last-child)::after {content: \"\\00b7\"; padding: 0 .5ex}\n",
       "</style>\n",
       "<ol class=list-inline><li>12.96</li><li>67.04</li></ol>\n"
      ],
      "text/latex": [
       "\\begin{enumerate*}\n",
       "\\item 12.96\n",
       "\\item 67.04\n",
       "\\end{enumerate*}\n"
      ],
      "text/markdown": [
       "1. 12.96\n",
       "2. 67.04\n",
       "\n",
       "\n"
      ],
      "text/plain": [
       "[1] 12.96 67.04"
      ]
     },
     "metadata": {},
     "output_type": "display_data"
    },
    {
     "data": {
      "text/html": [
       "4.85457538401663"
      ],
      "text/latex": [
       "4.85457538401663"
      ],
      "text/markdown": [
       "4.85457538401663"
      ],
      "text/plain": [
       "[1] 4.854575"
      ]
     },
     "metadata": {},
     "output_type": "display_data"
    },
    {
     "data": {
      "text/html": [
       "<table class=\"dataframe\">\n",
       "<caption>A matrix: 3 × 3 of type dbl</caption>\n",
       "<thead>\n",
       "\t<tr><th></th><th scope=col>m6.6</th><th scope=col>m6.7</th><th scope=col>m6.8</th></tr>\n",
       "</thead>\n",
       "<tbody>\n",
       "\t<tr><th scope=row>m6.6</th><td>       NA</td><td>12.20191</td><td> 4.930467</td></tr>\n",
       "\t<tr><th scope=row>m6.7</th><td>12.201914</td><td>      NA</td><td>10.426817</td></tr>\n",
       "\t<tr><th scope=row>m6.8</th><td> 4.930467</td><td>10.42682</td><td>       NA</td></tr>\n",
       "</tbody>\n",
       "</table>\n"
      ],
      "text/latex": [
       "A matrix: 3 × 3 of type dbl\n",
       "\\begin{tabular}{r|lll}\n",
       "  & m6.6 & m6.7 & m6.8\\\\\n",
       "\\hline\n",
       "\tm6.6 &        NA & 12.20191 &  4.930467\\\\\n",
       "\tm6.7 & 12.201914 &       NA & 10.426817\\\\\n",
       "\tm6.8 &  4.930467 & 10.42682 &        NA\\\\\n",
       "\\end{tabular}\n"
      ],
      "text/markdown": [
       "\n",
       "A matrix: 3 × 3 of type dbl\n",
       "\n",
       "| <!--/--> | m6.6 | m6.7 | m6.8 |\n",
       "|---|---|---|---|\n",
       "| m6.6 |        NA | 12.20191 |  4.930467 |\n",
       "| m6.7 | 12.201914 |       NA | 10.426817 |\n",
       "| m6.8 |  4.930467 | 10.42682 |        NA |\n",
       "\n"
      ],
      "text/plain": [
       "     m6.6      m6.7     m6.8     \n",
       "m6.6        NA 12.20191  4.930467\n",
       "m6.7 12.201914       NA 10.426817\n",
       "m6.8  4.930467 10.42682        NA"
      ]
     },
     "metadata": {},
     "output_type": "display_data"
    },
    {
     "name": "stderr",
     "output_type": "stream",
     "text": [
      "Some Pareto k values are high (>0.5). Set pointwise=TRUE to inspect individual points.\n",
      "\n",
      "Some Pareto k values are high (>0.5). Set pointwise=TRUE to inspect individual points.\n",
      "\n",
      "Some Pareto k values are very high (>1). Set pointwise=TRUE to inspect individual points.\n",
      "\n"
     ]
    },
    {
     "data": {
      "text/html": [
       "<table class=\"dataframe\">\n",
       "<caption>A compareIC: 3 × 6</caption>\n",
       "<thead>\n",
       "\t<tr><th></th><th scope=col>PSIS</th><th scope=col>SE</th><th scope=col>dPSIS</th><th scope=col>dSE</th><th scope=col>pPSIS</th><th scope=col>weight</th></tr>\n",
       "\t<tr><th></th><th scope=col>&lt;dbl&gt;</th><th scope=col>&lt;dbl&gt;</th><th scope=col>&lt;dbl&gt;</th><th scope=col>&lt;dbl&gt;</th><th scope=col>&lt;dbl&gt;</th><th scope=col>&lt;dbl&gt;</th></tr>\n",
       "</thead>\n",
       "<tbody>\n",
       "\t<tr><th scope=row>m5.1</th><td>127.5665</td><td>14.69485</td><td> 0.000000</td><td>       NA</td><td>4.671425</td><td>0.8340176286</td></tr>\n",
       "\t<tr><th scope=row>m5.3</th><td>130.8062</td><td>16.15696</td><td> 3.239685</td><td> 1.808671</td><td>6.578663</td><td>0.1650769863</td></tr>\n",
       "\t<tr><th scope=row>m5.2</th><td>141.2178</td><td>11.56557</td><td>13.651299</td><td>10.923820</td><td>4.057204</td><td>0.0009053851</td></tr>\n",
       "</tbody>\n",
       "</table>\n"
      ],
      "text/latex": [
       "A compareIC: 3 × 6\n",
       "\\begin{tabular}{r|llllll}\n",
       "  & PSIS & SE & dPSIS & dSE & pPSIS & weight\\\\\n",
       "  & <dbl> & <dbl> & <dbl> & <dbl> & <dbl> & <dbl>\\\\\n",
       "\\hline\n",
       "\tm5.1 & 127.5665 & 14.69485 &  0.000000 &        NA & 4.671425 & 0.8340176286\\\\\n",
       "\tm5.3 & 130.8062 & 16.15696 &  3.239685 &  1.808671 & 6.578663 & 0.1650769863\\\\\n",
       "\tm5.2 & 141.2178 & 11.56557 & 13.651299 & 10.923820 & 4.057204 & 0.0009053851\\\\\n",
       "\\end{tabular}\n"
      ],
      "text/markdown": [
       "\n",
       "A compareIC: 3 × 6\n",
       "\n",
       "| <!--/--> | PSIS &lt;dbl&gt; | SE &lt;dbl&gt; | dPSIS &lt;dbl&gt; | dSE &lt;dbl&gt; | pPSIS &lt;dbl&gt; | weight &lt;dbl&gt; |\n",
       "|---|---|---|---|---|---|---|\n",
       "| m5.1 | 127.5665 | 14.69485 |  0.000000 |        NA | 4.671425 | 0.8340176286 |\n",
       "| m5.3 | 130.8062 | 16.15696 |  3.239685 |  1.808671 | 6.578663 | 0.1650769863 |\n",
       "| m5.2 | 141.2178 | 11.56557 | 13.651299 | 10.923820 | 4.057204 | 0.0009053851 |\n",
       "\n"
      ],
      "text/plain": [
       "     PSIS     SE       dPSIS     dSE       pPSIS    weight      \n",
       "m5.1 127.5665 14.69485  0.000000        NA 4.671425 0.8340176286\n",
       "m5.3 130.8062 16.15696  3.239685  1.808671 6.578663 0.1650769863\n",
       "m5.2 141.2178 11.56557 13.651299 10.923820 4.057204 0.0009053851"
      ]
     },
     "metadata": {},
     "output_type": "display_data"
    },
    {
     "name": "stderr",
     "output_type": "stream",
     "text": [
      "Some Pareto k values are very high (>1). Set pointwise=TRUE to inspect individual points.\n",
      "\n"
     ]
    },
    {
     "data": {
      "image/png": "[encoded data removed]",
      "text/plain": [
       "plot without title"
      ]
     },
     "metadata": {
      "image/png": {
       "height": 420,
       "width": 420
      }
     },
     "output_type": "display_data"
    },
    {
     "data": {
      "image/png": "[encoded data removed]",
      "text/plain": [
       "plot without title"
      ]
     },
     "metadata": {
      "image/png": {
       "height": 420,
       "width": 420
      }
     },
     "output_type": "display_data"
    }
   ],
   "source": [
    "## R code 7.25\n",
    "set.seed(11)\n",
    "WAIC( m6.7 )\n",
    "\n",
    "## R code 7.26\n",
    "set.seed(77)\n",
    "compare( m6.6 , m6.7 , m6.8 , func=WAIC )\n",
    "\n",
    "## R code 7.27\n",
    "set.seed(91)\n",
    "waic_m6.7 <- WAIC( m6.7 , pointwise=TRUE )$WAIC\n",
    "waic_m6.8 <- WAIC( m6.8 , pointwise=TRUE )$WAIC\n",
    "n <- length(waic_m6.7)\n",
    "diff_m6.7_m6.8 <- waic_m6.7 - waic_m6.8\n",
    "sqrt( n*var( diff_m6.7_m6.8 ) )\n",
    "\n",
    "## R code 7.28\n",
    "40.0 + c(-1,1)*10.4*2.6\n",
    "\n",
    "## R code 7.29\n",
    "plot( compare( m6.6 , m6.7 , m6.8 ) )\n",
    "\n",
    "## R code 7.30\n",
    "set.seed(92)\n",
    "waic_m6.6 <- WAIC( m6.6 , pointwise=TRUE )$WAIC\n",
    "diff_m6.6_m6.8 <- waic_m6.6 - waic_m6.8\n",
    "sqrt( n*var( diff_m6.6_m6.8 ) )\n",
    "\n",
    "## R code 7.31\n",
    "set.seed(93)\n",
    "compare( m6.6 , m6.7 , m6.8 )@dSE\n",
    "\n",
    "## R code 7.32\n",
    "library(rethinking)\n",
    "data(WaffleDivorce)\n",
    "d <- WaffleDivorce\n",
    "d$A <- standardize( d$MedianAgeMarriage )\n",
    "d$D <- standardize( d$Divorce )\n",
    "d$M <- standardize( d$Marriage )\n",
    "\n",
    "m5.1 <- quap(\n",
    "    alist(\n",
    "        D ~ dnorm( mu , sigma ) ,\n",
    "        mu <- a + bA * A ,\n",
    "        a ~ dnorm( 0 , 0.2 ) ,\n",
    "        bA ~ dnorm( 0 , 0.5 ) ,\n",
    "        sigma ~ dexp( 1 )\n",
    "    ) , data = d )\n",
    "\n",
    "m5.2 <- quap(\n",
    "    alist(\n",
    "        D ~ dnorm( mu , sigma ) ,\n",
    "        mu <- a + bM * M ,\n",
    "        a ~ dnorm( 0 , 0.2 ) ,\n",
    "        bM ~ dnorm( 0 , 0.5 ) ,\n",
    "        sigma ~ dexp( 1 )\n",
    "    ) , data = d )\n",
    "\n",
    "m5.3 <- quap(\n",
    "    alist(\n",
    "        D ~ dnorm( mu , sigma ) ,\n",
    "        mu <- a + bM*M + bA*A ,\n",
    "        a ~ dnorm( 0 , 0.2 ) ,\n",
    "        bM ~ dnorm( 0 , 0.5 ) ,\n",
    "        bA ~ dnorm( 0 , 0.5 ) ,\n",
    "        sigma ~ dexp( 1 )\n",
    "    ) , data = d )\n",
    "\n",
    "## R code 7.33\n",
    "set.seed(24071847)\n",
    "compare( m5.1 , m5.2 , m5.3 , func=PSIS )\n",
    "\n",
    "## R code 7.34\n",
    "set.seed(24071847)\n",
    "PSIS_m5.3 <- PSIS(m5.3,pointwise=TRUE)\n",
    "set.seed(24071847)\n",
    "WAIC_m5.3 <- WAIC(m5.3,pointwise=TRUE)\n",
    "plot( PSIS_m5.3$k , WAIC_m5.3$penalty , xlab=\"PSIS Pareto k\" ,\n",
    "    ylab=\"WAIC penalty\" , col=rangi2 , lwd=2 )\n",
    "\n",
    "## R code 7.35\n",
    "m5.3t <- quap(\n",
    "    alist(\n",
    "        D ~ dstudent( 2 , mu , sigma ) ,\n",
    "        mu <- a + bM*M + bA*A ,\n",
    "        a ~ dnorm( 0 , 0.2 ) ,\n",
    "        bM ~ dnorm( 0 , 0.5 ) ,\n",
    "        bA ~ dnorm( 0 , 0.5 ) ,\n",
    "        sigma ~ dexp( 1 )\n",
    "    ) , data = d )"
   ]
  },
  {
   "cell_type": "code",
   "execution_count": null,
   "metadata": {},
   "outputs": [],
   "source": []
  },
  {
   "cell_type": "code",
   "execution_count": null,
   "metadata": {},
   "outputs": [],
   "source": []
  },
  {
   "cell_type": "code",
   "execution_count": null,
   "metadata": {},
   "outputs": [],
   "source": []
  },
  {
   "cell_type": "code",
   "execution_count": null,
   "metadata": {},
   "outputs": [],
   "source": []
  },
  {
   "cell_type": "code",
   "execution_count": null,
   "metadata": {},
   "outputs": [],
   "source": []
  },
  {
   "cell_type": "code",
   "execution_count": null,
   "metadata": {},
   "outputs": [],
   "source": []
  },
  {
   "cell_type": "code",
   "execution_count": null,
   "metadata": {},
   "outputs": [],
   "source": []
  },
  {
   "cell_type": "code",
   "execution_count": null,
   "metadata": {},
   "outputs": [],
   "source": []
  },
  {
   "cell_type": "code",
   "execution_count": null,
   "metadata": {},
   "outputs": [],
   "source": []
  },
  {
   "cell_type": "code",
   "execution_count": null,
   "metadata": {},
   "outputs": [],
   "source": []
  },
  {
   "cell_type": "code",
   "execution_count": null,
   "metadata": {},
   "outputs": [],
   "source": []
  },
  {
   "cell_type": "code",
   "execution_count": null,
   "metadata": {},
   "outputs": [],
   "source": []
  },
  {
   "cell_type": "code",
   "execution_count": null,
   "metadata": {},
   "outputs": [],
   "source": []
  },
  {
   "cell_type": "code",
   "execution_count": null,
   "metadata": {},
   "outputs": [],
   "source": []
  },
  {
   "cell_type": "code",
   "execution_count": null,
   "metadata": {},
   "outputs": [],
   "source": []
  },
  {
   "cell_type": "code",
   "execution_count": null,
   "metadata": {},
   "outputs": [],
   "source": []
  },
  {
   "cell_type": "code",
   "execution_count": null,
   "metadata": {},
   "outputs": [],
   "source": []
  },
  {
   "cell_type": "code",
   "execution_count": null,
   "metadata": {},
   "outputs": [],
   "source": []
  },
  {
   "cell_type": "code",
   "execution_count": null,
   "metadata": {},
   "outputs": [],
   "source": []
  },
  {
   "cell_type": "code",
   "execution_count": null,
   "metadata": {},
   "outputs": [],
   "source": []
  },
  {
   "cell_type": "code",
   "execution_count": null,
   "metadata": {},
   "outputs": [],
   "source": []
  },
  {
   "cell_type": "code",
   "execution_count": null,
   "metadata": {},
   "outputs": [],
   "source": []
  },
  {
   "cell_type": "code",
   "execution_count": null,
   "metadata": {},
   "outputs": [],
   "source": []
  },
  {
   "cell_type": "code",
   "execution_count": null,
   "metadata": {},
   "outputs": [],
   "source": []
  },
  {
   "cell_type": "code",
   "execution_count": null,
   "metadata": {},
   "outputs": [],
   "source": []
  },
  {
   "cell_type": "code",
   "execution_count": null,
   "metadata": {},
   "outputs": [],
   "source": []
  },
  {
   "cell_type": "code",
   "execution_count": null,
   "metadata": {},
   "outputs": [],
   "source": []
  },
  {
   "cell_type": "code",
   "execution_count": null,
   "metadata": {},
   "outputs": [],
   "source": []
  },
  {
   "cell_type": "code",
   "execution_count": null,
   "metadata": {},
   "outputs": [],
   "source": []
  },
  {
   "cell_type": "code",
   "execution_count": null,
   "metadata": {},
   "outputs": [],
   "source": []
  },
  {
   "cell_type": "code",
   "execution_count": null,
   "metadata": {},
   "outputs": [],
   "source": []
  },
  {
   "cell_type": "code",
   "execution_count": null,
   "metadata": {},
   "outputs": [],
   "source": []
  },
  {
   "cell_type": "code",
   "execution_count": null,
   "metadata": {},
   "outputs": [],
   "source": []
  },
  {
   "cell_type": "code",
   "execution_count": null,
   "metadata": {},
   "outputs": [],
   "source": []
  },
  {
   "cell_type": "code",
   "execution_count": null,
   "metadata": {},
   "outputs": [],
   "source": []
  },
  {
   "cell_type": "code",
   "execution_count": null,
   "metadata": {},
   "outputs": [],
   "source": []
  }
 ],
 "metadata": {
  "kernelspec": {
   "display_name": "R",
   "language": "R",
   "name": "ir"
  },
  "language_info": {
   "codemirror_mode": "r",
   "file_extension": ".r",
   "mimetype": "text/x-r-source",
   "name": "R",
   "pygments_lexer": "r",
   "version": "4.2.2"
  }
 },
 "nbformat": 4,
 "nbformat_minor": 4
}
