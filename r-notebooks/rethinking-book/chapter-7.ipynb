{
 "cells": [
  {
   "cell_type": "markdown",
   "metadata": {},
   "source": [
    "# Chapter 7\n",
    "\n",
    "## 7.1 The problem with parameters\n",
    "## 7.2 Accuracy and Entropy\n",
    "## 7.3 Regularization\n",
    "## 7.4 Predicting Predictive Accuracy\n",
    "## 7.5 Model comparison"
   ]
  },
  {
   "cell_type": "markdown",
   "metadata": {},
   "source": [
    "## Intro\n",
    "+ BERKSON'S PARADOX / SELECTION-DISTORTION EFFECT\n",
    "+ Example below. Study proposals go to a committee, who rank on newsworthiness and trustworthiness. Each study gets an equally weighted rating assigned to newsw. and trustw., and tallies up the scores. Studies with highest scores are selected to go forward\n",
    "+ Later someone does an analysis of studies and finds that newsworthiness and trustworthiness are negatively correlated\n",
    "+ In the initial proposals, there was no correlation, but after selection there was.\n",
    "+ This can happen with a multiple linear regression if we just keep adding variables. It iduces statistical selection inside the model - COLLIDER BIAS\n",
    "![alt text](images/6/newsworthiness-trustworthiness.png \"Title\")\n",
    "\n",
    "+ lecture 5 Link\n",
    "    + https://www.youtube.com/watch?v=UpP-_mBvECI\n",
    "    + Collider section at 40:34\n"
   ]
  },
  {
   "cell_type": "code",
   "execution_count": 1,
   "metadata": {},
   "outputs": [],
   "source": [
    "suppressMessages({\n",
    "library(rethinking)\n",
    "library(dagitty)\n",
    "    })"
   ]
  },
  {
   "cell_type": "markdown",
   "metadata": {},
   "source": [
    "# 6.1 Multicollinearity\n",
    "+ Why not add all varaibles to multiple linear regression? Because Multicollinearity\n",
    "+ Multicollinearity means strong association between variables. \n",
    "+ Important problem is association conditional on other variables in the model.\n",
    "+ Posterior distribution will suggest none of variables are reliably associated with the outcome, even if all are associated with the outcome.\n",
    "+ BUT, the model will work fine for prediction!!!\n",
    "+ You will not be able to understand the model\n",
    "\n",
    "## 6.1.1 Multicollinear legs\n",
    "+ Predict height from leg length. Use left and right leg length - (very slightly different)"
   ]
  },
  {
   "cell_type": "code",
   "execution_count": 2,
   "metadata": {},
   "outputs": [
    {
     "name": "stdout",
     "output_type": "stream",
     "text": [
      "'data.frame':\t100 obs. of  3 variables:\n",
      " $ height   : num  5.93 6.51 9.35 9.23 10.36 ...\n",
      " $ left_leg : num  2.68 2.68 3.93 3.96 4.43 ...\n",
      " $ right_leg: num  2.71 2.68 3.98 3.99 4.42 ...\n"
     ]
    }
   ],
   "source": [
    "set.seed(909)\n",
    "N <- 100 # N people\n",
    "height <-rnorm(N, 10, 2) # Simulate height of N people, mean 10, stdev 2\n",
    "leg_prop <- runif(N, 0.4, 0.5) # Simulate leg length as 0.4 to 0.5 proportion of height\n",
    "left_leg <- (leg_prop * height) + rnorm(N, 0, 0.02) # sim l leg with error\n",
    "right_leg <- (leg_prop * height) + rnorm(N, 0, 0.02) # sim l leg with error\n",
    "d <- data.frame(height, left_leg, right_leg)\n",
    "str(d)"
   ]
  },
  {
   "cell_type": "code",
   "execution_count": 3,
   "metadata": {},
   "outputs": [
    {
     "data": {
      "text/html": [
       "<table class=\"dataframe\">\n",
       "<caption>A precis: 4 × 4</caption>\n",
       "<thead>\n",
       "\t<tr><th></th><th scope=col>mean</th><th scope=col>sd</th><th scope=col>5.5%</th><th scope=col>94.5%</th></tr>\n",
       "\t<tr><th></th><th scope=col>&lt;dbl&gt;</th><th scope=col>&lt;dbl&gt;</th><th scope=col>&lt;dbl&gt;</th><th scope=col>&lt;dbl&gt;</th></tr>\n",
       "</thead>\n",
       "<tbody>\n",
       "\t<tr><th scope=row>a</th><td>0.9811156</td><td>0.2839607</td><td> 0.5272915</td><td>1.4349396</td></tr>\n",
       "\t<tr><th scope=row>bl</th><td>0.2138054</td><td>2.5270797</td><td>-3.8249560</td><td>4.2525669</td></tr>\n",
       "\t<tr><th scope=row>br</th><td>1.7817631</td><td>2.5312933</td><td>-2.2637325</td><td>5.8272587</td></tr>\n",
       "\t<tr><th scope=row>sigma</th><td>0.6171141</td><td>0.0434363</td><td> 0.5476945</td><td>0.6865337</td></tr>\n",
       "</tbody>\n",
       "</table>\n"
      ],
      "text/latex": [
       "A precis: 4 × 4\n",
       "\\begin{tabular}{r|llll}\n",
       "  & mean & sd & 5.5\\% & 94.5\\%\\\\\n",
       "  & <dbl> & <dbl> & <dbl> & <dbl>\\\\\n",
       "\\hline\n",
       "\ta & 0.9811156 & 0.2839607 &  0.5272915 & 1.4349396\\\\\n",
       "\tbl & 0.2138054 & 2.5270797 & -3.8249560 & 4.2525669\\\\\n",
       "\tbr & 1.7817631 & 2.5312933 & -2.2637325 & 5.8272587\\\\\n",
       "\tsigma & 0.6171141 & 0.0434363 &  0.5476945 & 0.6865337\\\\\n",
       "\\end{tabular}\n"
      ],
      "text/markdown": [
       "\n",
       "A precis: 4 × 4\n",
       "\n",
       "| <!--/--> | mean &lt;dbl&gt; | sd &lt;dbl&gt; | 5.5% &lt;dbl&gt; | 94.5% &lt;dbl&gt; |\n",
       "|---|---|---|---|---|\n",
       "| a | 0.9811156 | 0.2839607 |  0.5272915 | 1.4349396 |\n",
       "| bl | 0.2138054 | 2.5270797 | -3.8249560 | 4.2525669 |\n",
       "| br | 1.7817631 | 2.5312933 | -2.2637325 | 5.8272587 |\n",
       "| sigma | 0.6171141 | 0.0434363 |  0.5476945 | 0.6865337 |\n",
       "\n"
      ],
      "text/plain": [
       "      mean      sd        5.5%       94.5%    \n",
       "a     0.9811156 0.2839607  0.5272915 1.4349396\n",
       "bl    0.2138054 2.5270797 -3.8249560 4.2525669\n",
       "br    1.7817631 2.5312933 -2.2637325 5.8272587\n",
       "sigma 0.6171141 0.0434363  0.5476945 0.6865337"
      ]
     },
     "metadata": {},
     "output_type": "display_data"
    }
   ],
   "source": [
    "m6.1 <- quap(\n",
    "    alist(\n",
    "        height ~ dnorm(mu, sigma),\n",
    "        mu <- a + bl*left_leg + br*right_leg,\n",
    "        a ~ dnorm(0, 100),\n",
    "        bl ~ dnorm(2, 10),\n",
    "        br ~ dnorm(2, 10),\n",
    "        sigma ~ dexp(1)\n",
    "    ), data=d)\n",
    "precis(m6.1)"
   ]
  },
  {
   "cell_type": "code",
   "execution_count": 4,
   "metadata": {},
   "outputs": [
    {
     "data": {
      "image/png": "[encoded data removed]",
      "text/plain": [
       "plot without title"
      ]
     },
     "metadata": {
      "image/png": {
       "height": 180,
       "width": 420
      }
     },
     "output_type": "display_data"
    }
   ],
   "source": [
    "options(repr.plot.width=7, repr.plot.height=3)\n",
    "plot(precis(m6.1))"
   ]
  },
  {
   "cell_type": "markdown",
   "metadata": {},
   "source": [
    "+ `Those posterior means and standard deviations look crazy` - I need a bit more help than that!\n",
    "+ I guess the standard deviations for bl and br are higher than the mean. Not sure what else to look for here?\n",
    "+ `What is the value of knowing each predictor, after already knowing all of the other predictors?` - so what is the value of knowing say the right leg length after knowing the right leg length\n",
    "+ Plot the posterior distributions of bl and br against each other. These are very very strongly correlated. When bl is small, br must be big. "
   ]
  },
  {
   "cell_type": "code",
   "execution_count": 5,
   "metadata": {},
   "outputs": [
    {
     "data": {
      "image/png": "[encoded data removed]",
      "text/plain": [
       "plot without title"
      ]
     },
     "metadata": {
      "image/png": {
       "height": 300,
       "width": 300
      }
     },
     "output_type": "display_data"
    }
   ],
   "source": [
    "options(repr.plot.width=5, repr.plot.height=5)\n",
    "post <- extract.samples(m6.1)\n",
    "plot( bl ~ br , post , col=col.alpha(rangi2,0.1) , pch=16 )"
   ]
  },
  {
   "cell_type": "markdown",
   "metadata": {},
   "source": [
    "+ The model is like this:\n",
    "    + $y_i \\sim Normal(\\mu_i, \\sigma)$\n",
    "    + $\\mu_i = \\alpha + \\beta_1x_i + \\beta_2x_i$\n",
    "    + where:\n",
    "        + x is a single predictor\n",
    "+ But that is the like this:    \n",
    "    + $\\mu_i = \\alpha + (\\beta_1 + \\beta_2)x_i$\n",
    "+ The posterior is giving us back the sum of $\\beta_1$ and $\\beta_2$"
   ]
  },
  {
   "cell_type": "code",
   "execution_count": 6,
   "metadata": {},
   "outputs": [
    {
     "data": {
      "image/png": "[encoded data removed]",
      "text/plain": [
       "Plot with title “”"
      ]
     },
     "metadata": {
      "image/png": {
       "height": 300,
       "width": 300
      }
     },
     "output_type": "display_data"
    }
   ],
   "source": [
    "sum_blbr <- post$bl + post$br\n",
    "dens(sum_blbr, col=rangi2, lwd=2, xlab=\"sum of bl and br\")"
   ]
  },
  {
   "cell_type": "markdown",
   "metadata": {},
   "source": [
    "+ Now fit regression using a single leg length"
   ]
  },
  {
   "cell_type": "code",
   "execution_count": 7,
   "metadata": {},
   "outputs": [
    {
     "data": {
      "text/html": [
       "<table class=\"dataframe\">\n",
       "<caption>A precis: 3 × 4</caption>\n",
       "<thead>\n",
       "\t<tr><th></th><th scope=col>mean</th><th scope=col>sd</th><th scope=col>5.5%</th><th scope=col>94.5%</th></tr>\n",
       "\t<tr><th></th><th scope=col>&lt;dbl&gt;</th><th scope=col>&lt;dbl&gt;</th><th scope=col>&lt;dbl&gt;</th><th scope=col>&lt;dbl&gt;</th></tr>\n",
       "</thead>\n",
       "<tbody>\n",
       "\t<tr><th scope=row>a</th><td>0.9979326</td><td>0.28364620</td><td>0.5446112</td><td>1.451254</td></tr>\n",
       "\t<tr><th scope=row>bl</th><td>1.9920676</td><td>0.06115704</td><td>1.8943269</td><td>2.089808</td></tr>\n",
       "\t<tr><th scope=row>sigma</th><td>0.6186038</td><td>0.04353998</td><td>0.5490185</td><td>0.688189</td></tr>\n",
       "</tbody>\n",
       "</table>\n"
      ],
      "text/latex": [
       "A precis: 3 × 4\n",
       "\\begin{tabular}{r|llll}\n",
       "  & mean & sd & 5.5\\% & 94.5\\%\\\\\n",
       "  & <dbl> & <dbl> & <dbl> & <dbl>\\\\\n",
       "\\hline\n",
       "\ta & 0.9979326 & 0.28364620 & 0.5446112 & 1.451254\\\\\n",
       "\tbl & 1.9920676 & 0.06115704 & 1.8943269 & 2.089808\\\\\n",
       "\tsigma & 0.6186038 & 0.04353998 & 0.5490185 & 0.688189\\\\\n",
       "\\end{tabular}\n"
      ],
      "text/markdown": [
       "\n",
       "A precis: 3 × 4\n",
       "\n",
       "| <!--/--> | mean &lt;dbl&gt; | sd &lt;dbl&gt; | 5.5% &lt;dbl&gt; | 94.5% &lt;dbl&gt; |\n",
       "|---|---|---|---|---|\n",
       "| a | 0.9979326 | 0.28364620 | 0.5446112 | 1.451254 |\n",
       "| bl | 1.9920676 | 0.06115704 | 1.8943269 | 2.089808 |\n",
       "| sigma | 0.6186038 | 0.04353998 | 0.5490185 | 0.688189 |\n",
       "\n"
      ],
      "text/plain": [
       "      mean      sd         5.5%      94.5%   \n",
       "a     0.9979326 0.28364620 0.5446112 1.451254\n",
       "bl    1.9920676 0.06115704 1.8943269 2.089808\n",
       "sigma 0.6186038 0.04353998 0.5490185 0.688189"
      ]
     },
     "metadata": {},
     "output_type": "display_data"
    }
   ],
   "source": [
    "m6.2 <- quap(\n",
    " alist(\n",
    "  height ~ dnorm(mu, sigma),\n",
    "  mu <- a + bl*left_leg,\n",
    "  a ~ dnorm(10, 100),\n",
    "  bl ~ dnorm(2, 10),\n",
    "  sigma ~ dexp(1)\n",
    " ) , data=d)\n",
    "\n",
    "precis(m6.2)"
   ]
  },
  {
   "cell_type": "code",
   "execution_count": 8,
   "metadata": {},
   "outputs": [
    {
     "data": {
      "image/png": "[encoded data removed]",
      "text/plain": [
       "plot without title"
      ]
     },
     "metadata": {
      "image/png": {
       "height": 180,
       "width": 420
      }
     },
     "output_type": "display_data"
    }
   ],
   "source": [
    "options(repr.plot.width=7, repr.plot.height=3)\n",
    "plot(precis(m6.2))"
   ]
  },
  {
   "cell_type": "markdown",
   "metadata": {},
   "source": [
    "+ takeaway\n",
    "+ When 2 predictors are highly correlated (conditional on other variables in the model) - What does this mean? - including both will be confusing.\n",
    "+ Strictly the model output will be correct, but interpretability will be lacking\n",
    "+ The risk is that we include highly correlated variables in the model, and the model tells us neither is important.\n",
    "\n",
    "### 6.1.2 Multicollinear milk\n",
    "+ Predict calories in milk from percentage lactose, and % fat"
   ]
  },
  {
   "cell_type": "code",
   "execution_count": 9,
   "metadata": {},
   "outputs": [],
   "source": [
    "library(rethinking)\n",
    "data(milk)\n",
    "d <- milk\n",
    "d$K <- standardize(d$kcal.per.g)\n",
    "d$F <- standardize(d$perc.fat)\n",
    "d$L <- standardize(d$perc.lactose)"
   ]
  },
  {
   "cell_type": "code",
   "execution_count": 10,
   "metadata": {},
   "outputs": [
    {
     "name": "stdout",
     "output_type": "stream",
     "text": [
      "[1] \"K is target\"\n"
     ]
    },
    {
     "data": {
      "image/png": "[encoded data removed]",
      "text/plain": [
       "plot without title"
      ]
     },
     "metadata": {
      "image/png": {
       "height": 420,
       "width": 420
      }
     },
     "output_type": "display_data"
    }
   ],
   "source": [
    "options(repr.plot.width=7, repr.plot.height=7)\n",
    "# pairs(d[, d$K, d$F, d$L])\n",
    "pairs(d[, c(\"K\", \"F\", \"L\")])\n",
    "print('K is target')"
   ]
  },
  {
   "cell_type": "code",
   "execution_count": 11,
   "metadata": {},
   "outputs": [
    {
     "data": {
      "text/html": [
       "<table class=\"dataframe\">\n",
       "<caption>A precis: 3 × 4</caption>\n",
       "<thead>\n",
       "\t<tr><th></th><th scope=col>mean</th><th scope=col>sd</th><th scope=col>5.5%</th><th scope=col>94.5%</th></tr>\n",
       "\t<tr><th></th><th scope=col>&lt;dbl&gt;</th><th scope=col>&lt;dbl&gt;</th><th scope=col>&lt;dbl&gt;</th><th scope=col>&lt;dbl&gt;</th></tr>\n",
       "</thead>\n",
       "<tbody>\n",
       "\t<tr><th scope=row>a</th><td>1.535526e-07</td><td>0.07725195</td><td>-0.1234634</td><td>0.1234637</td></tr>\n",
       "\t<tr><th scope=row>bF</th><td>8.618970e-01</td><td>0.08426088</td><td> 0.7272318</td><td>0.9965621</td></tr>\n",
       "\t<tr><th scope=row>sigma</th><td>4.510179e-01</td><td>0.05870756</td><td> 0.3571919</td><td>0.5448440</td></tr>\n",
       "</tbody>\n",
       "</table>\n"
      ],
      "text/latex": [
       "A precis: 3 × 4\n",
       "\\begin{tabular}{r|llll}\n",
       "  & mean & sd & 5.5\\% & 94.5\\%\\\\\n",
       "  & <dbl> & <dbl> & <dbl> & <dbl>\\\\\n",
       "\\hline\n",
       "\ta & 1.535526e-07 & 0.07725195 & -0.1234634 & 0.1234637\\\\\n",
       "\tbF & 8.618970e-01 & 0.08426088 &  0.7272318 & 0.9965621\\\\\n",
       "\tsigma & 4.510179e-01 & 0.05870756 &  0.3571919 & 0.5448440\\\\\n",
       "\\end{tabular}\n"
      ],
      "text/markdown": [
       "\n",
       "A precis: 3 × 4\n",
       "\n",
       "| <!--/--> | mean &lt;dbl&gt; | sd &lt;dbl&gt; | 5.5% &lt;dbl&gt; | 94.5% &lt;dbl&gt; |\n",
       "|---|---|---|---|---|\n",
       "| a | 1.535526e-07 | 0.07725195 | -0.1234634 | 0.1234637 |\n",
       "| bF | 8.618970e-01 | 0.08426088 |  0.7272318 | 0.9965621 |\n",
       "| sigma | 4.510179e-01 | 0.05870756 |  0.3571919 | 0.5448440 |\n",
       "\n"
      ],
      "text/plain": [
       "      mean         sd         5.5%       94.5%    \n",
       "a     1.535526e-07 0.07725195 -0.1234634 0.1234637\n",
       "bF    8.618970e-01 0.08426088  0.7272318 0.9965621\n",
       "sigma 4.510179e-01 0.05870756  0.3571919 0.5448440"
      ]
     },
     "metadata": {},
     "output_type": "display_data"
    },
    {
     "data": {
      "image/png": "[encoded data removed]",
      "text/plain": [
       "plot without title"
      ]
     },
     "metadata": {
      "image/png": {
       "height": 180,
       "width": 420
      }
     },
     "output_type": "display_data"
    }
   ],
   "source": [
    "# kcal.per.g regressed on perc.fat\n",
    "m6.3 <- quap(\n",
    " alist(\n",
    "  K ~ dnorm(mu, sigma),\n",
    "  mu <- a + bF*F,\n",
    "  a ~ dnorm(0, 0.2),\n",
    "  bF ~ dnorm(0, 0.5),\n",
    "  sigma ~ dexp(1)\n",
    " ) , data=d )\n",
    "precis(m6.3)\n",
    "options(repr.plot.width=7, repr.plot.height=3)\n",
    "plot(precis(m6.3))"
   ]
  },
  {
   "cell_type": "code",
   "execution_count": 12,
   "metadata": {},
   "outputs": [
    {
     "data": {
      "text/html": [
       "<table class=\"dataframe\">\n",
       "<caption>A precis: 3 × 4</caption>\n",
       "<thead>\n",
       "\t<tr><th></th><th scope=col>mean</th><th scope=col>sd</th><th scope=col>5.5%</th><th scope=col>94.5%</th></tr>\n",
       "\t<tr><th></th><th scope=col>&lt;dbl&gt;</th><th scope=col>&lt;dbl&gt;</th><th scope=col>&lt;dbl&gt;</th><th scope=col>&lt;dbl&gt;</th></tr>\n",
       "</thead>\n",
       "<tbody>\n",
       "\t<tr><th scope=row>a</th><td> 7.438895e-07</td><td>0.06661633</td><td>-0.1064650</td><td> 0.1064665</td></tr>\n",
       "\t<tr><th scope=row>bL</th><td>-9.024550e-01</td><td>0.07132848</td><td>-1.0164517</td><td>-0.7884583</td></tr>\n",
       "\t<tr><th scope=row>sigma</th><td> 3.804653e-01</td><td>0.04958259</td><td> 0.3012227</td><td> 0.4597078</td></tr>\n",
       "</tbody>\n",
       "</table>\n"
      ],
      "text/latex": [
       "A precis: 3 × 4\n",
       "\\begin{tabular}{r|llll}\n",
       "  & mean & sd & 5.5\\% & 94.5\\%\\\\\n",
       "  & <dbl> & <dbl> & <dbl> & <dbl>\\\\\n",
       "\\hline\n",
       "\ta &  7.438895e-07 & 0.06661633 & -0.1064650 &  0.1064665\\\\\n",
       "\tbL & -9.024550e-01 & 0.07132848 & -1.0164517 & -0.7884583\\\\\n",
       "\tsigma &  3.804653e-01 & 0.04958259 &  0.3012227 &  0.4597078\\\\\n",
       "\\end{tabular}\n"
      ],
      "text/markdown": [
       "\n",
       "A precis: 3 × 4\n",
       "\n",
       "| <!--/--> | mean &lt;dbl&gt; | sd &lt;dbl&gt; | 5.5% &lt;dbl&gt; | 94.5% &lt;dbl&gt; |\n",
       "|---|---|---|---|---|\n",
       "| a |  7.438895e-07 | 0.06661633 | -0.1064650 |  0.1064665 |\n",
       "| bL | -9.024550e-01 | 0.07132848 | -1.0164517 | -0.7884583 |\n",
       "| sigma |  3.804653e-01 | 0.04958259 |  0.3012227 |  0.4597078 |\n",
       "\n"
      ],
      "text/plain": [
       "      mean          sd         5.5%       94.5%     \n",
       "a      7.438895e-07 0.06661633 -0.1064650  0.1064665\n",
       "bL    -9.024550e-01 0.07132848 -1.0164517 -0.7884583\n",
       "sigma  3.804653e-01 0.04958259  0.3012227  0.4597078"
      ]
     },
     "metadata": {},
     "output_type": "display_data"
    },
    {
     "data": {
      "image/png": "[encoded data removed]",
      "text/plain": [
       "plot without title"
      ]
     },
     "metadata": {
      "image/png": {
       "height": 180,
       "width": 420
      }
     },
     "output_type": "display_data"
    }
   ],
   "source": [
    "# kcal.per.g regressed on perc.lactose\n",
    "m6.4 <- quap(\n",
    " alist(\n",
    "  K ~ dnorm(mu, sigma),\n",
    "  mu <- a + bL*L,\n",
    "  a ~ dnorm(0, 0.2),\n",
    "  bL ~ dnorm(0, 0.5),\n",
    "  sigma ~ dexp(1)\n",
    " ) , data=d )\n",
    "precis(m6.4)\n",
    "options(repr.plot.width=7, repr.plot.height=3)\n",
    "plot(precis(m6.4))"
   ]
  },
  {
   "cell_type": "markdown",
   "metadata": {},
   "source": [
    "+ Using both variables in the same model"
   ]
  },
  {
   "cell_type": "code",
   "execution_count": 13,
   "metadata": {},
   "outputs": [
    {
     "data": {
      "text/html": [
       "<table class=\"dataframe\">\n",
       "<caption>A precis: 4 × 4</caption>\n",
       "<thead>\n",
       "\t<tr><th></th><th scope=col>mean</th><th scope=col>sd</th><th scope=col>5.5%</th><th scope=col>94.5%</th></tr>\n",
       "\t<tr><th></th><th scope=col>&lt;dbl&gt;</th><th scope=col>&lt;dbl&gt;</th><th scope=col>&lt;dbl&gt;</th><th scope=col>&lt;dbl&gt;</th></tr>\n",
       "</thead>\n",
       "<tbody>\n",
       "\t<tr><th scope=row>a</th><td>-3.172136e-07</td><td>0.06603577</td><td>-0.10553823</td><td> 0.1055376</td></tr>\n",
       "\t<tr><th scope=row>bF</th><td> 2.434983e-01</td><td>0.18357865</td><td>-0.04989579</td><td> 0.5368925</td></tr>\n",
       "\t<tr><th scope=row>bL</th><td>-6.780825e-01</td><td>0.18377670</td><td>-0.97179320</td><td>-0.3843719</td></tr>\n",
       "\t<tr><th scope=row>sigma</th><td> 3.767418e-01</td><td>0.04918394</td><td> 0.29813637</td><td> 0.4553472</td></tr>\n",
       "</tbody>\n",
       "</table>\n"
      ],
      "text/latex": [
       "A precis: 4 × 4\n",
       "\\begin{tabular}{r|llll}\n",
       "  & mean & sd & 5.5\\% & 94.5\\%\\\\\n",
       "  & <dbl> & <dbl> & <dbl> & <dbl>\\\\\n",
       "\\hline\n",
       "\ta & -3.172136e-07 & 0.06603577 & -0.10553823 &  0.1055376\\\\\n",
       "\tbF &  2.434983e-01 & 0.18357865 & -0.04989579 &  0.5368925\\\\\n",
       "\tbL & -6.780825e-01 & 0.18377670 & -0.97179320 & -0.3843719\\\\\n",
       "\tsigma &  3.767418e-01 & 0.04918394 &  0.29813637 &  0.4553472\\\\\n",
       "\\end{tabular}\n"
      ],
      "text/markdown": [
       "\n",
       "A precis: 4 × 4\n",
       "\n",
       "| <!--/--> | mean &lt;dbl&gt; | sd &lt;dbl&gt; | 5.5% &lt;dbl&gt; | 94.5% &lt;dbl&gt; |\n",
       "|---|---|---|---|---|\n",
       "| a | -3.172136e-07 | 0.06603577 | -0.10553823 |  0.1055376 |\n",
       "| bF |  2.434983e-01 | 0.18357865 | -0.04989579 |  0.5368925 |\n",
       "| bL | -6.780825e-01 | 0.18377670 | -0.97179320 | -0.3843719 |\n",
       "| sigma |  3.767418e-01 | 0.04918394 |  0.29813637 |  0.4553472 |\n",
       "\n"
      ],
      "text/plain": [
       "      mean          sd         5.5%        94.5%     \n",
       "a     -3.172136e-07 0.06603577 -0.10553823  0.1055376\n",
       "bF     2.434983e-01 0.18357865 -0.04989579  0.5368925\n",
       "bL    -6.780825e-01 0.18377670 -0.97179320 -0.3843719\n",
       "sigma  3.767418e-01 0.04918394  0.29813637  0.4553472"
      ]
     },
     "metadata": {},
     "output_type": "display_data"
    },
    {
     "data": {
      "image/png": "[encoded data removed]",
      "text/plain": [
       "plot without title"
      ]
     },
     "metadata": {
      "image/png": {
       "height": 180,
       "width": 420
      }
     },
     "output_type": "display_data"
    }
   ],
   "source": [
    "m6.5 <- quap(\n",
    " alist(\n",
    "  K ~ dnorm(mu, sigma),\n",
    "  mu <- a + bF*F + bL*L,\n",
    "  a ~ dnorm(0, 0.2),\n",
    "  bF ~ dnorm(0, 0.5),\n",
    "  bL ~ dnorm(0, 0.5),\n",
    "  sigma ~ dexp(1)\n",
    " ) , data=d)\n",
    "\n",
    "precis(m6.5)\n",
    "options(repr.plot.width=7, repr.plot.height=3)\n",
    "plot(precis(m6.5))"
   ]
  },
  {
   "cell_type": "markdown",
   "metadata": {},
   "source": [
    "+ Easier to see on the plot than author's description\n",
    "+ Standard deviations of $\\beta$s are much bigger"
   ]
  },
  {
   "cell_type": "code",
   "execution_count": 14,
   "metadata": {},
   "outputs": [
    {
     "data": {
      "image/png": "[encoded data removed]",
      "text/plain": [
       "plot without title"
      ]
     },
     "metadata": {
      "image/png": {
       "height": 420,
       "width": 420
      }
     },
     "output_type": "display_data"
    }
   ],
   "source": [
    "options(repr.plot.width=7, repr.plot.height=7)\n",
    "pairs( ~ kcal.per.g + perc.fat + perc.lactose , data=d , col=rangi2 )"
   ]
  },
  {
   "cell_type": "markdown",
   "metadata": {},
   "source": [
    "+ takeaway\n",
    "+ `Either helps in predicting kcal.per.g, but neither helps as much once you already know the other.`\n",
    "+ WRONG APPROACH\n",
    "    + inspect pairwise correlations prior to fitting a model and drop one side of highly correlated predictors\n",
    "    + This is wrong because correlations do not matter - Conditional association matters\n",
    "+ With the milk, there is likely a tradeoff between fat and lactose (lactose = sugar)\n",
    "+ The causal model looks like:\n",
    "\n",
    "![alt text](images/6/milk-causal-model.png \"Title\")\n",
    "\n",
    "+ Tradeoff is D - Density - This is unobserved\n",
    "+ If we could measure D, that would be a better causal model\n",
    "+ NON-IDENTIFIABILITY - Parameter is not identified - the model structure means the variable's parameter cannot be estimated\n",
    "+ If there is not much information in the data, then the posterior distribution will be similar to the prior. Can use this to gauge how much the model is helping us.\n",
    "+ Simulation below (As per usual there is no title and the axes are labeled in the most minimal way possible)\n",
    "+ Impreciseness of predictor (standard deviation) gets bigger as association between variables get bigger"
   ]
  },
  {
   "cell_type": "code",
   "execution_count": 15,
   "metadata": {},
   "outputs": [
    {
     "data": {
      "image/png": "[encoded data removed]",
      "text/plain": [
       "plot without title"
      ]
     },
     "metadata": {
      "image/png": {
       "height": 420,
       "width": 420
      }
     },
     "output_type": "display_data"
    }
   ],
   "source": [
    "data(milk)\n",
    "d <- milk\n",
    "sim.coll <- function( r=0.9 ) {\n",
    " d$x <- rnorm( nrow(d) , mean=r*d$perc.fat ,\n",
    "  sd=sqrt( (1-r^2)*var(d$perc.fat) ) )\n",
    " m <- lm( kcal.per.g ~ perc.fat + x , data=d )\n",
    " sqrt( diag( vcov(m) ) )[2] # stddev of parameter\n",
    "}\n",
    "rep.sim.coll <- function( r=0.9 , n=100 ) {\n",
    " stddev <- replicate( n , sim.coll(r) )\n",
    " mean(stddev)\n",
    "}\n",
    "r.seq <- seq(from=0,to=0.99,by=0.01)\n",
    "stddev <- sapply( r.seq , function(z) rep.sim.coll(r=z,n=100) )\n",
    "plot( stddev ~ r.seq , type=\"l\" , col=rangi2, lwd=2 , xlab=\"correlation\")"
   ]
  },
  {
   "cell_type": "markdown",
   "metadata": {},
   "source": [
    "# 6.2 Post Treatment Bias\n",
    "\n",
    "+ Missing variables that influence an outcome - OMITTED VARIABLE BIAS\n",
    "+ The other way can also be a problem - INCLUDED VARIABLE BIAS Forms of this are:\n",
    "    + POST-TREATMENT BIAS\n",
    "+ Example problem setup:\n",
    "    + Growing plants in greenhouse and conduct experiment on growth and fungus\n",
    "    + Experiment purpose is to understand the difference in growth between plants under a set variety of **anti-fungal treatments.**\n",
    "    + Note that the treatment is NOT a combination of nutrients and anti-fungal chemicals. **It is purely an anti-fungal treatment.** \n",
    "    + We know that more heavily fungused plants tend to grow less [I think the book says this]\n",
    "    + Experiment process\n",
    "        + Plants are seeded and sprout [I guess this has to be simultaneous]\n",
    "        + Heights are measured - $h_0$\n",
    "        + Plants are [randomly] split into n groups\n",
    "        + Different soil treatments are applied to each group\n",
    "        + After set period of time, final measurements are taken:\n",
    "            + final height $h_1$\n",
    "            + presence of fungus - binary variable for each plant $fungus$\n",
    "    + Summarizing the variables:\n",
    "        + Total number of plants $N$ = 100 \n",
    "        + Number of plants in each group is N/2 = 50\n",
    "        + Initial plant height $h_0$ - continuous\n",
    "        + Anti-fungal treatment applied $treatment$ - discrete, binary:- treatment applied/treatment not applied\n",
    "        + Final height $h_1$ - continuous\n",
    "        + Presence of fungus [at time of final height measurement] $fungus$ discrete, binary:- has fungus/does not have fungus\n",
    "            "
   ]
  },
  {
   "cell_type": "code",
   "execution_count": 16,
   "metadata": {},
   "outputs": [
    {
     "data": {
      "text/html": [
       "<table class=\"dataframe\">\n",
       "<caption>A precis: 4 × 5</caption>\n",
       "<thead>\n",
       "\t<tr><th></th><th scope=col>mean</th><th scope=col>sd</th><th scope=col>5.5%</th><th scope=col>94.5%</th><th scope=col>histogram</th></tr>\n",
       "\t<tr><th></th><th scope=col>&lt;dbl&gt;</th><th scope=col>&lt;dbl&gt;</th><th scope=col>&lt;dbl&gt;</th><th scope=col>&lt;dbl&gt;</th><th scope=col>&lt;chr&gt;</th></tr>\n",
       "</thead>\n",
       "<tbody>\n",
       "\t<tr><th scope=row>h0</th><td> 9.95978</td><td>2.1011623</td><td> 6.570328</td><td>13.07874</td><td>▁▂▂▂▇▃▂▃▁▁▁▁</td></tr>\n",
       "\t<tr><th scope=row>h1</th><td>14.39920</td><td>2.6880870</td><td>10.618002</td><td>17.93369</td><td>▁▁▃▇▇▇▁▁    </td></tr>\n",
       "\t<tr><th scope=row>treatment</th><td> 0.50000</td><td>0.5025189</td><td> 0.000000</td><td> 1.00000</td><td>▇▁▁▁▁▁▁▁▁▇  </td></tr>\n",
       "\t<tr><th scope=row>fungus</th><td> 0.23000</td><td>0.4229526</td><td> 0.000000</td><td> 1.00000</td><td>▇▁▁▁▁▁▁▁▁▂  </td></tr>\n",
       "</tbody>\n",
       "</table>\n"
      ],
      "text/latex": [
       "A precis: 4 × 5\n",
       "\\begin{tabular}{r|lllll}\n",
       "  & mean & sd & 5.5\\% & 94.5\\% & histogram\\\\\n",
       "  & <dbl> & <dbl> & <dbl> & <dbl> & <chr>\\\\\n",
       "\\hline\n",
       "\th0 &  9.95978 & 2.1011623 &  6.570328 & 13.07874 & ▁▂▂▂▇▃▂▃▁▁▁▁\\\\\n",
       "\th1 & 14.39920 & 2.6880870 & 10.618002 & 17.93369 & ▁▁▃▇▇▇▁▁    \\\\\n",
       "\ttreatment &  0.50000 & 0.5025189 &  0.000000 &  1.00000 & ▇▁▁▁▁▁▁▁▁▇  \\\\\n",
       "\tfungus &  0.23000 & 0.4229526 &  0.000000 &  1.00000 & ▇▁▁▁▁▁▁▁▁▂  \\\\\n",
       "\\end{tabular}\n"
      ],
      "text/markdown": [
       "\n",
       "A precis: 4 × 5\n",
       "\n",
       "| <!--/--> | mean &lt;dbl&gt; | sd &lt;dbl&gt; | 5.5% &lt;dbl&gt; | 94.5% &lt;dbl&gt; | histogram &lt;chr&gt; |\n",
       "|---|---|---|---|---|---|\n",
       "| h0 |  9.95978 | 2.1011623 |  6.570328 | 13.07874 | ▁▂▂▂▇▃▂▃▁▁▁▁ |\n",
       "| h1 | 14.39920 | 2.6880870 | 10.618002 | 17.93369 | ▁▁▃▇▇▇▁▁     |\n",
       "| treatment |  0.50000 | 0.5025189 |  0.000000 |  1.00000 | ▇▁▁▁▁▁▁▁▁▇   |\n",
       "| fungus |  0.23000 | 0.4229526 |  0.000000 |  1.00000 | ▇▁▁▁▁▁▁▁▁▂   |\n",
       "\n"
      ],
      "text/plain": [
       "          mean     sd        5.5%      94.5%    histogram   \n",
       "h0         9.95978 2.1011623  6.570328 13.07874 ▁▂▂▂▇▃▂▃▁▁▁▁\n",
       "h1        14.39920 2.6880870 10.618002 17.93369 ▁▁▃▇▇▇▁▁    \n",
       "treatment  0.50000 0.5025189  0.000000  1.00000 ▇▁▁▁▁▁▁▁▁▇  \n",
       "fungus     0.23000 0.4229526  0.000000  1.00000 ▇▁▁▁▁▁▁▁▁▂  "
      ]
     },
     "metadata": {},
     "output_type": "display_data"
    }
   ],
   "source": [
    "# R code 6.13\n",
    "set.seed(71)\n",
    "# number of plants\n",
    "N <- 100\n",
    "# Initial heights normally distributed withg mean 10, sd = 2\n",
    "h0 <- rnorm(N, 10, 2)\n",
    "# Assign treatments\n",
    "treatment <- rep(0:1, each=N/2)\n",
    "# Assign the fungus to the treatments\n",
    "# probability of fungus = 0.5 - treatment * 0.4\n",
    "# For non treated prob(fungus) = 0.5\n",
    "# For treated prob(fungus) = 0.5-0.4 = 0.10\n",
    "fungus <- rbinom(N, size=1, prob=0.5-treatment*0.4)\n",
    "# docs: rnorm(n, mean = 0, sd = 1)\n",
    "# Final height = initial height + random sample from normal distribution with sd=1 and [I think] mean at:\n",
    "# non fungus plant change in height: 5-3*0 -> normally distributed mean=5, sd=1\n",
    "# fungus plant change in height: 5-3*1 -> normally distributed mean=3, sd=1\n",
    "h1 <- h0 + rnorm(N, 5-3*fungus)\n",
    "# make df\n",
    "d <- data.frame(h0=h0, h1=h1, treatment=treatment, fungus=fungus)\n",
    "precis(d)"
   ]
  },
  {
   "cell_type": "markdown",
   "metadata": {},
   "source": [
    "### Setting prior\n",
    "+ We are fairly sure that final height >= initial height (should be)\n",
    "+ If we consider the height data in terms of the **proportion** of initial height, this makes setting the priors easier.\n",
    "+ For heights alone, linear model looks like:\n",
    "    + $h_{1,i} \\sim Normal(\\mu_i, \\sigma)$\n",
    "    + $\\mu_i = h_{0,i} \\times p$\n",
    "    + where:\n",
    "        + $h_{0,i}$ - plant i's initial height\n",
    "        + $h_{1,i}$ - plant i's final height\n",
    "        + $p = \\frac{h_{1,i}}{h_{0,i}}$\n",
    "            + If p = 1, the plant has not grown\n",
    "            + if p = 2, the height has doubled\n",
    "        + We need a prior for p\n",
    "            + if we center the prior on 1, then we are implying no height change\n",
    "            + If we allow p to encompass values < 1, then we are considering the scenario where we stunt, or kill the plant\n",
    "            + We have to ensure p > 0, because it is a proportion\n",
    "            + All this means a good candidate for the prior is a log-normal distribution because it is always positive\n",
    "            + Try $p \\sim LogNormal(0, 0.25)$    "
   ]
  },
  {
   "cell_type": "code",
   "execution_count": 17,
   "metadata": {},
   "outputs": [
    {
     "data": {
      "text/html": [
       "<table class=\"dataframe\">\n",
       "<caption>A precis: 1 × 5</caption>\n",
       "<thead>\n",
       "\t<tr><th></th><th scope=col>mean</th><th scope=col>sd</th><th scope=col>5.5%</th><th scope=col>94.5%</th><th scope=col>histogram</th></tr>\n",
       "\t<tr><th></th><th scope=col>&lt;dbl&gt;</th><th scope=col>&lt;dbl&gt;</th><th scope=col>&lt;dbl&gt;</th><th scope=col>&lt;dbl&gt;</th><th scope=col>&lt;chr&gt;</th></tr>\n",
       "</thead>\n",
       "<tbody>\n",
       "\t<tr><th scope=row>sim_p</th><td>1.03699</td><td>0.2629894</td><td>0.670683</td><td>1.496397</td><td>▁▁▃▇▇▃▁▁▁▁▁▁</td></tr>\n",
       "</tbody>\n",
       "</table>\n"
      ],
      "text/latex": [
       "A precis: 1 × 5\n",
       "\\begin{tabular}{r|lllll}\n",
       "  & mean & sd & 5.5\\% & 94.5\\% & histogram\\\\\n",
       "  & <dbl> & <dbl> & <dbl> & <dbl> & <chr>\\\\\n",
       "\\hline\n",
       "\tsim\\_p & 1.03699 & 0.2629894 & 0.670683 & 1.496397 & ▁▁▃▇▇▃▁▁▁▁▁▁\\\\\n",
       "\\end{tabular}\n"
      ],
      "text/markdown": [
       "\n",
       "A precis: 1 × 5\n",
       "\n",
       "| <!--/--> | mean &lt;dbl&gt; | sd &lt;dbl&gt; | 5.5% &lt;dbl&gt; | 94.5% &lt;dbl&gt; | histogram &lt;chr&gt; |\n",
       "|---|---|---|---|---|---|\n",
       "| sim_p | 1.03699 | 0.2629894 | 0.670683 | 1.496397 | ▁▁▃▇▇▃▁▁▁▁▁▁ |\n",
       "\n"
      ],
      "text/plain": [
       "      mean    sd        5.5%     94.5%    histogram   \n",
       "sim_p 1.03699 0.2629894 0.670683 1.496397 ▁▁▃▇▇▃▁▁▁▁▁▁"
      ]
     },
     "metadata": {},
     "output_type": "display_data"
    }
   ],
   "source": [
    "sim_p <-rlnorm(10000, 0, 0.25)\n",
    "precis(data.frame(sim_p))"
   ]
  },
  {
   "cell_type": "markdown",
   "metadata": {},
   "source": [
    "+ Interpreting this prior:\n",
    "    + The author uses 5.5% to 94.5% interval to check the reasonableness of distributions\n",
    "    + The 95% interval of p is from about 0.7, to 1.5 - so from 30% shorter to 50% bigger than the initial height\n",
    "+ Code the partial model to see how it measures growth"
   ]
  },
  {
   "cell_type": "code",
   "execution_count": 18,
   "metadata": {},
   "outputs": [
    {
     "data": {
      "text/html": [
       "<table class=\"dataframe\">\n",
       "<caption>A precis: 2 × 4</caption>\n",
       "<thead>\n",
       "\t<tr><th></th><th scope=col>mean</th><th scope=col>sd</th><th scope=col>5.5%</th><th scope=col>94.5%</th></tr>\n",
       "\t<tr><th></th><th scope=col>&lt;dbl&gt;</th><th scope=col>&lt;dbl&gt;</th><th scope=col>&lt;dbl&gt;</th><th scope=col>&lt;dbl&gt;</th></tr>\n",
       "</thead>\n",
       "<tbody>\n",
       "\t<tr><th scope=row>p</th><td>1.426626</td><td>0.01760992</td><td>1.398482</td><td>1.454770</td></tr>\n",
       "\t<tr><th scope=row>sigma</th><td>1.793286</td><td>0.12517262</td><td>1.593236</td><td>1.993336</td></tr>\n",
       "</tbody>\n",
       "</table>\n"
      ],
      "text/latex": [
       "A precis: 2 × 4\n",
       "\\begin{tabular}{r|llll}\n",
       "  & mean & sd & 5.5\\% & 94.5\\%\\\\\n",
       "  & <dbl> & <dbl> & <dbl> & <dbl>\\\\\n",
       "\\hline\n",
       "\tp & 1.426626 & 0.01760992 & 1.398482 & 1.454770\\\\\n",
       "\tsigma & 1.793286 & 0.12517262 & 1.593236 & 1.993336\\\\\n",
       "\\end{tabular}\n"
      ],
      "text/markdown": [
       "\n",
       "A precis: 2 × 4\n",
       "\n",
       "| <!--/--> | mean &lt;dbl&gt; | sd &lt;dbl&gt; | 5.5% &lt;dbl&gt; | 94.5% &lt;dbl&gt; |\n",
       "|---|---|---|---|---|\n",
       "| p | 1.426626 | 0.01760992 | 1.398482 | 1.454770 |\n",
       "| sigma | 1.793286 | 0.12517262 | 1.593236 | 1.993336 |\n",
       "\n"
      ],
      "text/plain": [
       "      mean     sd         5.5%     94.5%   \n",
       "p     1.426626 0.01760992 1.398482 1.454770\n",
       "sigma 1.793286 0.12517262 1.593236 1.993336"
      ]
     },
     "metadata": {},
     "output_type": "display_data"
    }
   ],
   "source": [
    "# R Code 6.15\n",
    "m6.6 <- quap(\n",
    "    alist(\n",
    "        h1 ~ dnorm(mu, sigma),\n",
    "        mu <- h0*p,\n",
    "        p ~ dlnorm(0, 0.25),\n",
    "        sigma ~ dexp(1)\n",
    "    ), data=d)\n",
    "precis(m6.6)"
   ]
  },
  {
   "cell_type": "code",
   "execution_count": 19,
   "metadata": {},
   "outputs": [
    {
     "data": {
      "image/png": "[encoded data removed]",
      "text/plain": [
       "plot without title"
      ]
     },
     "metadata": {
      "image/png": {
       "height": 180,
       "width": 420
      }
     },
     "output_type": "display_data"
    }
   ],
   "source": [
    "options(repr.plot.width=7, repr.plot.height=3)\n",
    "plot(precis(m6.6))"
   ]
  },
  {
   "cell_type": "markdown",
   "metadata": {},
   "source": [
    "+ This means the average proprtion change in height is about 1.4, so about 40% bigger than the initial plant\n",
    "+ The 40% is across all treatments, and all fungus/no fungus plants\n",
    "+ Modify the model to include treatment and fungus variables\n",
    "+ The Treatment and the Fungus are now set up to impact **Change in proportion p**\n",
    "    + The priors are setup the same as normalized/scaled/standardized [? - should find correct terminolgy for this] priors\n",
    "    + Think about this trick to make prior estimation feasible? - Without this, I'm not sure where to even start on estimating priors \n",
    "    + This looks a bit like magic. need to think about this. can p go negative with this scheme?\n",
    "+ Model looks like:\n",
    "    + $h_{1,i} \\sim Normal(\\mu_i, \\sigma$\n",
    "    + $\\mu_i = h_{0,i} \\times p$\n",
    "    + $p = \\alpha + \\beta_TT_i + \\beta_FF_i$\n",
    "    + $\\alpha \\sim LogNormal(0, 0.25)$\n",
    "    + $\\beta_T \\sim Normal(0, 0.5)$\n",
    "    + $\\beta_F \\sim Normal(0, 0.5)$\n",
    "    + $\\sigma \\sim Exponential(1)$"
   ]
  },
  {
   "cell_type": "code",
   "execution_count": 20,
   "metadata": {},
   "outputs": [
    {
     "data": {
      "text/html": [
       "<table class=\"dataframe\">\n",
       "<caption>A precis: 4 × 4</caption>\n",
       "<thead>\n",
       "\t<tr><th></th><th scope=col>mean</th><th scope=col>sd</th><th scope=col>5.5%</th><th scope=col>94.5%</th></tr>\n",
       "\t<tr><th></th><th scope=col>&lt;dbl&gt;</th><th scope=col>&lt;dbl&gt;</th><th scope=col>&lt;dbl&gt;</th><th scope=col>&lt;dbl&gt;</th></tr>\n",
       "</thead>\n",
       "<tbody>\n",
       "\t<tr><th scope=row>a</th><td> 1.481391468</td><td>0.02451069</td><td> 1.44221865</td><td> 1.52056429</td></tr>\n",
       "\t<tr><th scope=row>bt</th><td> 0.002412222</td><td>0.02986965</td><td>-0.04532525</td><td> 0.05014969</td></tr>\n",
       "\t<tr><th scope=row>bf</th><td>-0.266718915</td><td>0.03654772</td><td>-0.32512923</td><td>-0.20830860</td></tr>\n",
       "\t<tr><th scope=row>sigma</th><td> 1.408797442</td><td>0.09862070</td><td> 1.25118251</td><td> 1.56641237</td></tr>\n",
       "</tbody>\n",
       "</table>\n"
      ],
      "text/latex": [
       "A precis: 4 × 4\n",
       "\\begin{tabular}{r|llll}\n",
       "  & mean & sd & 5.5\\% & 94.5\\%\\\\\n",
       "  & <dbl> & <dbl> & <dbl> & <dbl>\\\\\n",
       "\\hline\n",
       "\ta &  1.481391468 & 0.02451069 &  1.44221865 &  1.52056429\\\\\n",
       "\tbt &  0.002412222 & 0.02986965 & -0.04532525 &  0.05014969\\\\\n",
       "\tbf & -0.266718915 & 0.03654772 & -0.32512923 & -0.20830860\\\\\n",
       "\tsigma &  1.408797442 & 0.09862070 &  1.25118251 &  1.56641237\\\\\n",
       "\\end{tabular}\n"
      ],
      "text/markdown": [
       "\n",
       "A precis: 4 × 4\n",
       "\n",
       "| <!--/--> | mean &lt;dbl&gt; | sd &lt;dbl&gt; | 5.5% &lt;dbl&gt; | 94.5% &lt;dbl&gt; |\n",
       "|---|---|---|---|---|\n",
       "| a |  1.481391468 | 0.02451069 |  1.44221865 |  1.52056429 |\n",
       "| bt |  0.002412222 | 0.02986965 | -0.04532525 |  0.05014969 |\n",
       "| bf | -0.266718915 | 0.03654772 | -0.32512923 | -0.20830860 |\n",
       "| sigma |  1.408797442 | 0.09862070 |  1.25118251 |  1.56641237 |\n",
       "\n"
      ],
      "text/plain": [
       "      mean         sd         5.5%        94.5%      \n",
       "a      1.481391468 0.02451069  1.44221865  1.52056429\n",
       "bt     0.002412222 0.02986965 -0.04532525  0.05014969\n",
       "bf    -0.266718915 0.03654772 -0.32512923 -0.20830860\n",
       "sigma  1.408797442 0.09862070  1.25118251  1.56641237"
      ]
     },
     "metadata": {},
     "output_type": "display_data"
    }
   ],
   "source": [
    "# R code 6.16\n",
    "m6.7 <- quap(\n",
    "    alist(\n",
    "        h1 ~ dnorm(mu, sigma),\n",
    "        mu <- h0 * p,\n",
    "        p <- a + bt*treatment + bf*fungus,\n",
    "        a ~ dlnorm(0, 0.2),\n",
    "        bt ~ dnorm(0, 0.5),\n",
    "        bf ~ dnorm(0, 0.5),\n",
    "        sigma ~ dexp(1)\n",
    "    ), data=d)\n",
    "precis(m6.7)"
   ]
  },
  {
   "cell_type": "code",
   "execution_count": 21,
   "metadata": {},
   "outputs": [
    {
     "data": {
      "image/png": "[encoded data removed]",
      "text/plain": [
       "plot without title"
      ]
     },
     "metadata": {
      "image/png": {
       "height": 180,
       "width": 420
      }
     },
     "output_type": "display_data"
    }
   ],
   "source": [
    "options(repr.plot.width=7, repr.plot.height=3)\n",
    "plot(precis(m6.7))"
   ]
  },
  {
   "cell_type": "markdown",
   "metadata": {},
   "source": [
    "+ The alpha parameter is about the same as we got for p\n",
    "+ This says that treatment has no impact on growth. It is 0 or very small, so it has negligible impact in the linear equation\n",
    "+ The fungus has a negative coefficient, so it hurts growth\n",
    "+ Is this model correct?\n",
    "+ We know fungus is mostly a consequence of treatment\n",
    "+ We call this  post-treatment variable - it's presence is a consequence of the treatment\n",
    "+ This means the model is answering:\n",
    "    + **Once we know whether a plant developed fungus, does treatment matter?**\n",
    "+ The answer to this question is NO, because the treatment works by reducing fungus, hence allowing more growth\n",
    "+ Actually our intention was to find the impact of treatment on growth\n",
    "+ The model changes to:\n",
    "    + $h_{1,i} \\sim Normal(\\mu_i, \\sigma)$\n",
    "    + $\\mu_i = h_{0,i} \\times p$\n",
    "    + $p = \\alpha + \\beta_TT_i$\n",
    "    + $\\alpha \\sim LogNormal(0, 0.25)$\n",
    "    + $\\beta_T \\sim Normal(0, 0.5)$\n",
    "    + $\\sigma \\sim Exponential(1)$"
   ]
  },
  {
   "cell_type": "code",
   "execution_count": 22,
   "metadata": {},
   "outputs": [
    {
     "data": {
      "text/html": [
       "<table class=\"dataframe\">\n",
       "<caption>A precis: 3 × 4</caption>\n",
       "<thead>\n",
       "\t<tr><th></th><th scope=col>mean</th><th scope=col>sd</th><th scope=col>5.5%</th><th scope=col>94.5%</th></tr>\n",
       "\t<tr><th></th><th scope=col>&lt;dbl&gt;</th><th scope=col>&lt;dbl&gt;</th><th scope=col>&lt;dbl&gt;</th><th scope=col>&lt;dbl&gt;</th></tr>\n",
       "</thead>\n",
       "<tbody>\n",
       "\t<tr><th scope=row>a</th><td>1.38035767</td><td>0.02517554</td><td>1.34012229</td><td>1.4205931</td></tr>\n",
       "\t<tr><th scope=row>bt</th><td>0.08499924</td><td>0.03429718</td><td>0.03018573</td><td>0.1398128</td></tr>\n",
       "\t<tr><th scope=row>sigma</th><td>1.74631655</td><td>0.12191552</td><td>1.55147200</td><td>1.9411611</td></tr>\n",
       "</tbody>\n",
       "</table>\n"
      ],
      "text/latex": [
       "A precis: 3 × 4\n",
       "\\begin{tabular}{r|llll}\n",
       "  & mean & sd & 5.5\\% & 94.5\\%\\\\\n",
       "  & <dbl> & <dbl> & <dbl> & <dbl>\\\\\n",
       "\\hline\n",
       "\ta & 1.38035767 & 0.02517554 & 1.34012229 & 1.4205931\\\\\n",
       "\tbt & 0.08499924 & 0.03429718 & 0.03018573 & 0.1398128\\\\\n",
       "\tsigma & 1.74631655 & 0.12191552 & 1.55147200 & 1.9411611\\\\\n",
       "\\end{tabular}\n"
      ],
      "text/markdown": [
       "\n",
       "A precis: 3 × 4\n",
       "\n",
       "| <!--/--> | mean &lt;dbl&gt; | sd &lt;dbl&gt; | 5.5% &lt;dbl&gt; | 94.5% &lt;dbl&gt; |\n",
       "|---|---|---|---|---|\n",
       "| a | 1.38035767 | 0.02517554 | 1.34012229 | 1.4205931 |\n",
       "| bt | 0.08499924 | 0.03429718 | 0.03018573 | 0.1398128 |\n",
       "| sigma | 1.74631655 | 0.12191552 | 1.55147200 | 1.9411611 |\n",
       "\n"
      ],
      "text/plain": [
       "      mean       sd         5.5%       94.5%    \n",
       "a     1.38035767 0.02517554 1.34012229 1.4205931\n",
       "bt    0.08499924 0.03429718 0.03018573 0.1398128\n",
       "sigma 1.74631655 0.12191552 1.55147200 1.9411611"
      ]
     },
     "metadata": {},
     "output_type": "display_data"
    },
    {
     "data": {
      "image/png": "[encoded data removed]",
      "text/plain": [
       "plot without title"
      ]
     },
     "metadata": {
      "image/png": {
       "height": 180,
       "width": 420
      }
     },
     "output_type": "display_data"
    }
   ],
   "source": [
    "# R code 6.17\n",
    "m6.8 <- quap(\n",
    "    alist(\n",
    "        h1 ~ dnorm(mu, sigma),\n",
    "        mu <- h0 * p,\n",
    "        p <- a + bt*treatment,\n",
    "        a ~ dlnorm(0, 0.2),\n",
    "        bt ~ dnorm(0, 0.5),\n",
    "        sigma ~ dexp(1)\n",
    "    ), data=d )\n",
    "precis(m6.8)\n",
    "options(repr.plot.width=7, repr.plot.height=3)\n",
    "plot(precis(m6.8))"
   ]
  },
  {
   "cell_type": "markdown",
   "metadata": {},
   "source": [
    "+ In this model, treatment has a positive impact - this is what we expect\n",
    "+ The lesson is: Including post-treatment variables, can mask the causal influence of treatment.\n",
    "+ 6.2.3 d-seperation"
   ]
  },
  {
   "cell_type": "code",
   "execution_count": 23,
   "metadata": {},
   "outputs": [
    {
     "data": {
      "image/png": "[encoded data removed]",
      "text/plain": [
       "plot without title"
      ]
     },
     "metadata": {
      "image/png": {
       "height": 180,
       "width": 420
      }
     },
     "output_type": "display_data"
    }
   ],
   "source": [
    "# R code 6.18\n",
    "plant_dag <- dagitty( \"dag {\n",
    "    H_0 -> H_1\n",
    "    F -> H_1\n",
    "    T -> F}\")\n",
    "coordinates( plant_dag ) <- list( x=c(H_0=0,T=2,F=1.5,H_1=1) , y=c(H_0=0,T=0,F=0,H_1=0) )\n",
    "drawdag(plant_dag)"
   ]
  },
  {
   "cell_type": "markdown",
   "metadata": {},
   "source": [
    "+ The treatment $T$ influences fungus presence $F$\n",
    "+ The fungus $F$ influences final height $H_1$\n",
    "+ The starting height $H_0$ inflences final_height $H_1$\n",
    "+ When we include $F$ in the model, we block the path between treatment $T$ and outcome $H_1$\n",
    "+ Known as **D-SEPARATION** (means DIRECTIONAL-SEPARATION). Where some varibales on the DAG are independent of others. There is no path connecting them. $H_1$ is d-separated from $T$, but only when we condition on $F$\n",
    "+ Conditioning on $F$ blocks the path $T$ -> $F$ -> $H_1$ making $T$ and $H_1$ independent.\n",
    "+ There is no information in $T$ about $H_1$ that is not also in $F$. So when we know $F$, learning $T$ provides no additional information about $H_1$\n",
    "+ Querying the implied conditional dependencies for this DAG gives:"
   ]
  },
  {
   "cell_type": "code",
   "execution_count": 24,
   "metadata": {},
   "outputs": [
    {
     "data": {
      "text/plain": [
       "F _||_ H_0\n",
       "H_0 _||_ T\n",
       "H_1 _||_ T | F"
      ]
     },
     "metadata": {},
     "output_type": "display_data"
    }
   ],
   "source": [
    "impliedConditionalIndependencies(plant_dag)"
   ]
  },
  {
   "cell_type": "markdown",
   "metadata": {},
   "source": [
    "+ Interpreting this output:\n",
    "    + $H_0$ should not be associated with $F$ - Original height not associated with Fungus\n",
    "    + $T$ should not be associated with $H_0$ - Original height not associated to treatment\n",
    "    + $H_1$ should not be associated with $T$ if we condition on $F$ - Final height should not be associated with treatment if we condition on fungus\n",
    "+ This problem of post-treatement variables can also arise in observational studies, as well as experiments, but can be harder to spot.\n",
    "+ In the example above, conditioning on a post-treatment variable made us think the treatment DOES NOT work.\n",
    "+ It can also make us think an ineffective treatment DOES work. Consider this DAG\n",
    "\n",
    "![alt text](images/6/moisture-dag.png \"Title\")\n",
    "\n",
    "+ where:\n",
    "    + $H_0$ - Height at start\n",
    "    + $H_1$ - height at end\n",
    "    + $F$ - Fungus\n",
    "    + $T$ - Treatement\n",
    "    + $M$ - Moisture UNOBSERVED\n",
    "+ Treatment influences Fungus\n",
    "+ Fungus does not influence plant growth\n",
    "+ Moisture influences Fungus and Plant Growth\n",
    "+ Regression of $H_1$ on $T$ will show no association\n",
    "+ Regression of $H_1$ on $T$ and $F$ will show association"
   ]
  },
  {
   "cell_type": "code",
   "execution_count": 25,
   "metadata": {},
   "outputs": [],
   "source": [
    "# Setup the new data based on the DAG with the Unobserved variable $M$ - Moisture\n",
    "set.seed(71)\n",
    "N <- 1000\n",
    "h0 <- rnorm(N,10,2)\n",
    "treatment <- rep(0:1, each=N/2)\n",
    "M <- rbern(N)\n",
    "fungus <- rbinom(N, size=1, prob=0.5 - treatment*0.4 + 0.4*M)\n",
    "h1 <- h0 + rnorm(N, 5 + 3*M)\n",
    "d2 <- data.frame(h0=h0, h1=h1, treatment=treatment, fungus=fungus)"
   ]
  },
  {
   "cell_type": "markdown",
   "metadata": {},
   "source": [
    "+ Regress $H_1$ on $F$ AND $T$"
   ]
  },
  {
   "cell_type": "code",
   "execution_count": 26,
   "metadata": {},
   "outputs": [
    {
     "data": {
      "image/png": "[encoded data removed]",
      "text/plain": [
       "plot without title"
      ]
     },
     "metadata": {
      "image/png": {
       "height": 180,
       "width": 420
      }
     },
     "output_type": "display_data"
    }
   ],
   "source": [
    "# Regress on Treatment and fungus\n",
    "m6.7 <- quap(\n",
    "    alist(\n",
    "        h1 ~ dnorm(mu, sigma),\n",
    "        mu <- h0 * p,\n",
    "        p <- a + bt*treatment + bf*fungus,\n",
    "        a ~ dlnorm(0, 0.2),\n",
    "        bt ~ dnorm(0, 0.5),\n",
    "        bf ~ dnorm(0, 0.5),\n",
    "        sigma ~ dexp(1)\n",
    "    ), data=d2)\n",
    "options(repr.plot.width=7, repr.plot.height=3)\n",
    "plot(precis(m6.7))"
   ]
  },
  {
   "cell_type": "markdown",
   "metadata": {},
   "source": [
    "+ Conclusions from this (erroneous) model\n",
    "    + **Treatment has a small positive impact**\n",
    "    + Fungus has a larger positive impact"
   ]
  },
  {
   "cell_type": "code",
   "execution_count": 27,
   "metadata": {},
   "outputs": [
    {
     "data": {
      "text/html": [
       "<table class=\"dataframe\">\n",
       "<caption>A precis: 3 × 4</caption>\n",
       "<thead>\n",
       "\t<tr><th></th><th scope=col>mean</th><th scope=col>sd</th><th scope=col>5.5%</th><th scope=col>94.5%</th></tr>\n",
       "\t<tr><th></th><th scope=col>&lt;dbl&gt;</th><th scope=col>&lt;dbl&gt;</th><th scope=col>&lt;dbl&gt;</th><th scope=col>&lt;dbl&gt;</th></tr>\n",
       "</thead>\n",
       "<tbody>\n",
       "\t<tr><th scope=row>a</th><td> 1.62401319</td><td>0.009546625</td><td> 1.60875584</td><td>1.63927054</td></tr>\n",
       "\t<tr><th scope=row>bt</th><td>-0.01051596</td><td>0.013511945</td><td>-0.03211066</td><td>0.01107874</td></tr>\n",
       "\t<tr><th scope=row>sigma</th><td> 2.20520300</td><td>0.049231869</td><td> 2.12652096</td><td>2.28388504</td></tr>\n",
       "</tbody>\n",
       "</table>\n"
      ],
      "text/latex": [
       "A precis: 3 × 4\n",
       "\\begin{tabular}{r|llll}\n",
       "  & mean & sd & 5.5\\% & 94.5\\%\\\\\n",
       "  & <dbl> & <dbl> & <dbl> & <dbl>\\\\\n",
       "\\hline\n",
       "\ta &  1.62401319 & 0.009546625 &  1.60875584 & 1.63927054\\\\\n",
       "\tbt & -0.01051596 & 0.013511945 & -0.03211066 & 0.01107874\\\\\n",
       "\tsigma &  2.20520300 & 0.049231869 &  2.12652096 & 2.28388504\\\\\n",
       "\\end{tabular}\n"
      ],
      "text/markdown": [
       "\n",
       "A precis: 3 × 4\n",
       "\n",
       "| <!--/--> | mean &lt;dbl&gt; | sd &lt;dbl&gt; | 5.5% &lt;dbl&gt; | 94.5% &lt;dbl&gt; |\n",
       "|---|---|---|---|---|\n",
       "| a |  1.62401319 | 0.009546625 |  1.60875584 | 1.63927054 |\n",
       "| bt | -0.01051596 | 0.013511945 | -0.03211066 | 0.01107874 |\n",
       "| sigma |  2.20520300 | 0.049231869 |  2.12652096 | 2.28388504 |\n",
       "\n"
      ],
      "text/plain": [
       "      mean        sd          5.5%        94.5%     \n",
       "a      1.62401319 0.009546625  1.60875584 1.63927054\n",
       "bt    -0.01051596 0.013511945 -0.03211066 0.01107874\n",
       "sigma  2.20520300 0.049231869  2.12652096 2.28388504"
      ]
     },
     "metadata": {},
     "output_type": "display_data"
    },
    {
     "data": {
      "image/png": "[encoded data removed]",
      "text/plain": [
       "plot without title"
      ]
     },
     "metadata": {
      "image/png": {
       "height": 180,
       "width": 420
      }
     },
     "output_type": "display_data"
    }
   ],
   "source": [
    "m6.8 <- quap(\n",
    "    alist(\n",
    "        h1 ~ dnorm(mu, sigma),\n",
    "        mu <- h0 * p,\n",
    "        p <- a + bt*treatment,\n",
    "        a ~ dlnorm(0, 0.2),\n",
    "        bt ~ dnorm(0, 0.5),\n",
    "        sigma ~ dexp(1)\n",
    "    ), data=d2)\n",
    "precis(m6.8)\n",
    "options(repr.plot.width=7, repr.plot.height=3)\n",
    "plot(precis(m6.8))"
   ]
  },
  {
   "cell_type": "markdown",
   "metadata": {},
   "source": [
    "+ Conclusions from this (correct) model\n",
    "    + **Treatment has a zero impact, or small negative impact on growth**\n",
    "+ ### In relation to Model Selection\n",
    "    + Model selection does not help solve this problem\n",
    "    + The erronous model fits the data better and makes better out-of-sample predictions\n",
    "    + [I cannot agree with the statement above - the author assumes that the out-of sample data used for predictions includes fungus. This is not right. If the out of sample data is setup the right way, there will be no information about fungus in the out-of sample X variables. This information can only be known at the end of the experiment. But we make predictions based on what we know at the start of the experiment - So, I think his statement is a bit misleading]"
   ]
  },
  {
   "cell_type": "markdown",
   "metadata": {},
   "source": [
    "# 6.3 Collider Bias\n",
    "\n",
    "![alt text](images/6/t-s-n.png \"Title\")"
   ]
  },
  {
   "cell_type": "markdown",
   "metadata": {},
   "source": [
    "+ Two arrows pointing to $S$ means it is a collider\n",
    "+ Conditioning on a collider creates statistical (not causal) associations between causes\n",
    "+ Once you learn a study has been SELECTED S, then learning about it's TRUSTWORTHINESS T, also provides information about it's NEWSWORTHINESS N (See explanation at top of Notebook)\n",
    "+ But, this collider setup is misleading even if we include the collider $S$ as a predictor variable! Example Below:\n",
    "+ How does Aging $A$ influence Happiness $H$? This example shows how controlling for a plausible confound of happiness can make an erroneous causal inference\n",
    "+ Setup\n",
    "    + Happiness is set at birth - does not change over life\n",
    "    + Happiness influences life events, in that happier is more likely to lead to marriage\n",
    "    + Also higher age is more likely to lead to marriage, because more marriage opportunities have occurred.\n",
    "    + The DAG looks like:\n",
    "    + ![alt text](images/6/h-m-a.png \"Title\")\n",
    "    + Marriage is a Collider\n",
    "    + There is no causal relationship between happiness and age\n",
    "    + Including marriage may lead us to an opposite conclusion - that happiness changes with age\n",
    "+ Data Simulation\n",
    "    + ![alt text](images/6/sim.png \"Title\")\n",
    "    + Happiness fixed at birth\n",
    "    + Marriage starts after age 18\n",
    "    + Life ends at 65\n",
    "    + Marriage increses with age\n",
    "    + Happier people more likely to get married\n",
    "    + Just by inspecting the simulation we see:\n",
    "        + Consider married people (blue dots only) - Older people have lower average happiness\n",
    "        + Consider unmarried. Older people have lower average happiness\n",
    "        + In both married and unmarried, happiness declines with age\n",
    "        + But this is in no way related to causation.\n",
    "+ The (erroneous) Linear Model:\n",
    "    + $H ~ Norm(\\mu, \\sigma)$\n",
    "    + $\\mu_i = \\alpha_{MID|i|} + \\beta_A \\times A_i$\n",
    "    + $\\alpha_{MID} ~ Normal(0, 1)$\n",
    "    + $\\beta_A ~ Normal(0,2)$\n",
    "    + $\\sigma ~ Exp(1)$\n",
    "    + where:\n",
    "        + $MID|i|$ is an index for married status. Easier to make priors when we have multiple intercepts - one for each category\n",
    "+ Coding the model:"
   ]
  },
  {
   "cell_type": "code",
   "execution_count": 28,
   "metadata": {},
   "outputs": [
    {
     "data": {
      "text/html": [
       "<style>\n",
       ".list-inline {list-style: none; margin:0; padding: 0}\n",
       ".list-inline>li {display: inline-block}\n",
       ".list-inline>li:not(:last-child)::after {content: \"\\00b7\"; padding: 0 .5ex}\n",
       "</style>\n",
       "<ol class=list-inline><li>1</li><li>1</li><li>1</li><li>1</li><li>1</li></ol>\n"
      ],
      "text/latex": [
       "\\begin{enumerate*}\n",
       "\\item 1\n",
       "\\item 1\n",
       "\\item 1\n",
       "\\item 1\n",
       "\\item 1\n",
       "\\end{enumerate*}\n"
      ],
      "text/markdown": [
       "1. 1\n",
       "2. 1\n",
       "3. 1\n",
       "4. 1\n",
       "5. 1\n",
       "\n",
       "\n"
      ],
      "text/plain": [
       "[1] 1 1 1 1 1"
      ]
     },
     "metadata": {},
     "output_type": "display_data"
    },
    {
     "data": {
      "text/html": [
       "<table class=\"dataframe\">\n",
       "<caption>A precis: 4 × 5</caption>\n",
       "<thead>\n",
       "\t<tr><th></th><th scope=col>mean</th><th scope=col>sd</th><th scope=col>5.5%</th><th scope=col>94.5%</th><th scope=col>histogram</th></tr>\n",
       "\t<tr><th></th><th scope=col>&lt;dbl&gt;</th><th scope=col>&lt;dbl&gt;</th><th scope=col>&lt;dbl&gt;</th><th scope=col>&lt;dbl&gt;</th><th scope=col>&lt;chr&gt;</th></tr>\n",
       "</thead>\n",
       "<tbody>\n",
       "\t<tr><th scope=row>age</th><td> 4.150000e+01</td><td>13.8606201</td><td>20.00000000</td><td>63.0000000</td><td>▃▇▇▇▇▇▇▇▇▇</td></tr>\n",
       "\t<tr><th scope=row>married</th><td> 4.072917e-01</td><td> 0.4915861</td><td> 0.00000000</td><td> 1.0000000</td><td>▇▁▁▁▁▁▁▁▁▅</td></tr>\n",
       "\t<tr><th scope=row>happiness</th><td>-1.000070e-16</td><td> 1.2145867</td><td>-1.78947368</td><td> 1.7894737</td><td>▇▅▇▅▅▇▅▇  </td></tr>\n",
       "\t<tr><th scope=row>A</th><td> 5.000000e-01</td><td> 0.2949068</td><td> 0.04255319</td><td> 0.9574468</td><td>▇▇▇▅▇▇▅▇▇▇</td></tr>\n",
       "</tbody>\n",
       "</table>\n"
      ],
      "text/latex": [
       "A precis: 4 × 5\n",
       "\\begin{tabular}{r|lllll}\n",
       "  & mean & sd & 5.5\\% & 94.5\\% & histogram\\\\\n",
       "  & <dbl> & <dbl> & <dbl> & <dbl> & <chr>\\\\\n",
       "\\hline\n",
       "\tage &  4.150000e+01 & 13.8606201 & 20.00000000 & 63.0000000 & ▃▇▇▇▇▇▇▇▇▇\\\\\n",
       "\tmarried &  4.072917e-01 &  0.4915861 &  0.00000000 &  1.0000000 & ▇▁▁▁▁▁▁▁▁▅\\\\\n",
       "\thappiness & -1.000070e-16 &  1.2145867 & -1.78947368 &  1.7894737 & ▇▅▇▅▅▇▅▇  \\\\\n",
       "\tA &  5.000000e-01 &  0.2949068 &  0.04255319 &  0.9574468 & ▇▇▇▅▇▇▅▇▇▇\\\\\n",
       "\\end{tabular}\n"
      ],
      "text/markdown": [
       "\n",
       "A precis: 4 × 5\n",
       "\n",
       "| <!--/--> | mean &lt;dbl&gt; | sd &lt;dbl&gt; | 5.5% &lt;dbl&gt; | 94.5% &lt;dbl&gt; | histogram &lt;chr&gt; |\n",
       "|---|---|---|---|---|---|\n",
       "| age |  4.150000e+01 | 13.8606201 | 20.00000000 | 63.0000000 | ▃▇▇▇▇▇▇▇▇▇ |\n",
       "| married |  4.072917e-01 |  0.4915861 |  0.00000000 |  1.0000000 | ▇▁▁▁▁▁▁▁▁▅ |\n",
       "| happiness | -1.000070e-16 |  1.2145867 | -1.78947368 |  1.7894737 | ▇▅▇▅▅▇▅▇   |\n",
       "| A |  5.000000e-01 |  0.2949068 |  0.04255319 |  0.9574468 | ▇▇▇▅▇▇▅▇▇▇ |\n",
       "\n"
      ],
      "text/plain": [
       "          mean          sd         5.5%        94.5%      histogram \n",
       "age        4.150000e+01 13.8606201 20.00000000 63.0000000 ▃▇▇▇▇▇▇▇▇▇\n",
       "married    4.072917e-01  0.4915861  0.00000000  1.0000000 ▇▁▁▁▁▁▁▁▁▅\n",
       "happiness -1.000070e-16  1.2145867 -1.78947368  1.7894737 ▇▅▇▅▅▇▅▇  \n",
       "A          5.000000e-01  0.2949068  0.04255319  0.9574468 ▇▇▇▅▇▇▅▇▇▇"
      ]
     },
     "metadata": {},
     "output_type": "display_data"
    }
   ],
   "source": [
    "# R code 6.21\n",
    "library(rethinking)\n",
    "d <- sim_happiness( seed=1977 , N_years=1000 )\n",
    "# R code 6.22\n",
    "d2 <- d[d$age>17,] # only 18 and >18\n",
    "# Rescale so 18 to 65 covers a single unit, so 65 = 1, 18=0 42 = 0.51\n",
    "d2$A <- (d2$age -18) / ( 65 - 18 )\n",
    "d2$A[0:5]\n",
    "precis(d2)"
   ]
  },
  {
   "cell_type": "markdown",
   "metadata": {},
   "source": [
    "+ Setting the priors\n",
    "    + Happiness is on an arbitrary scale -2 to + 2\n",
    "    + The age is rescaled so it covers one unit 65 = 1, 18=0, 42 = 0.51\n",
    "    + The strongest possible relationship taking happiness from min to max is 4 / 1 unit = 4. ie someone goes from minimal happiness to maximum happiness between 18 and 65\n",
    "    + [? Why is this the strongest relationship? Why can't someone get to minimum to maximum happiness over 5 years, 10 years, 20 years ie. why not consider steeper slopes]\n",
    "    + If we set the stdev to half of 4 ie 2, we expect 95% of plausible slopes to be less than the strongest (because +/- 2 stdevs covers 95% of a normal distribution) \n",
    "    + Setup the married variable, so it is no longer ab indicator by adding 1"
   ]
  },
  {
   "cell_type": "code",
   "execution_count": 29,
   "metadata": {},
   "outputs": [
    {
     "name": "stdout",
     "output_type": "stream",
     "text": [
      "'data.frame':\t960 obs. of  5 variables:\n",
      " $ age      : num  65 65 65 65 65 65 65 65 65 65 ...\n",
      " $ married  : num  0 0 1 0 0 0 1 1 0 0 ...\n",
      " $ happiness: num  -2 -1.79 -1.58 -1.37 -1.16 ...\n",
      " $ A        : num  1 1 1 1 1 1 1 1 1 1 ...\n",
      " $ mid      : num  1 1 2 1 1 1 2 2 1 1 ...\n"
     ]
    }
   ],
   "source": [
    "# Setup the married variable, so it is no longer ab indicator by adding 1\n",
    "d2$mid <- d2$married + 1\n",
    "str(d2)"
   ]
  },
  {
   "cell_type": "code",
   "execution_count": 30,
   "metadata": {},
   "outputs": [
    {
     "data": {
      "text/html": [
       "<table class=\"dataframe\">\n",
       "<caption>A precis: 4 × 4</caption>\n",
       "<thead>\n",
       "\t<tr><th></th><th scope=col>mean</th><th scope=col>sd</th><th scope=col>5.5%</th><th scope=col>94.5%</th></tr>\n",
       "\t<tr><th></th><th scope=col>&lt;dbl&gt;</th><th scope=col>&lt;dbl&gt;</th><th scope=col>&lt;dbl&gt;</th><th scope=col>&lt;dbl&gt;</th></tr>\n",
       "</thead>\n",
       "<tbody>\n",
       "\t<tr><th scope=row>a[1]</th><td>-0.2350877</td><td>0.06348986</td><td>-0.3365568</td><td>-0.1336186</td></tr>\n",
       "\t<tr><th scope=row>a[2]</th><td> 1.2585517</td><td>0.08495989</td><td> 1.1227694</td><td> 1.3943340</td></tr>\n",
       "\t<tr><th scope=row>bA</th><td>-0.7490274</td><td>0.11320112</td><td>-0.9299447</td><td>-0.5681102</td></tr>\n",
       "\t<tr><th scope=row>sigma</th><td> 0.9897080</td><td>0.02255800</td><td> 0.9536559</td><td> 1.0257600</td></tr>\n",
       "</tbody>\n",
       "</table>\n"
      ],
      "text/latex": [
       "A precis: 4 × 4\n",
       "\\begin{tabular}{r|llll}\n",
       "  & mean & sd & 5.5\\% & 94.5\\%\\\\\n",
       "  & <dbl> & <dbl> & <dbl> & <dbl>\\\\\n",
       "\\hline\n",
       "\ta{[}1{]} & -0.2350877 & 0.06348986 & -0.3365568 & -0.1336186\\\\\n",
       "\ta{[}2{]} &  1.2585517 & 0.08495989 &  1.1227694 &  1.3943340\\\\\n",
       "\tbA & -0.7490274 & 0.11320112 & -0.9299447 & -0.5681102\\\\\n",
       "\tsigma &  0.9897080 & 0.02255800 &  0.9536559 &  1.0257600\\\\\n",
       "\\end{tabular}\n"
      ],
      "text/markdown": [
       "\n",
       "A precis: 4 × 4\n",
       "\n",
       "| <!--/--> | mean &lt;dbl&gt; | sd &lt;dbl&gt; | 5.5% &lt;dbl&gt; | 94.5% &lt;dbl&gt; |\n",
       "|---|---|---|---|---|\n",
       "| a[1] | -0.2350877 | 0.06348986 | -0.3365568 | -0.1336186 |\n",
       "| a[2] |  1.2585517 | 0.08495989 |  1.1227694 |  1.3943340 |\n",
       "| bA | -0.7490274 | 0.11320112 | -0.9299447 | -0.5681102 |\n",
       "| sigma |  0.9897080 | 0.02255800 |  0.9536559 |  1.0257600 |\n",
       "\n"
      ],
      "text/plain": [
       "      mean       sd         5.5%       94.5%     \n",
       "a[1]  -0.2350877 0.06348986 -0.3365568 -0.1336186\n",
       "a[2]   1.2585517 0.08495989  1.1227694  1.3943340\n",
       "bA    -0.7490274 0.11320112 -0.9299447 -0.5681102\n",
       "sigma  0.9897080 0.02255800  0.9536559  1.0257600"
      ]
     },
     "metadata": {},
     "output_type": "display_data"
    },
    {
     "data": {
      "image/png": "[encoded data removed]",
      "text/plain": [
       "plot without title"
      ]
     },
     "metadata": {
      "image/png": {
       "height": 180,
       "width": 420
      }
     },
     "output_type": "display_data"
    }
   ],
   "source": [
    "# R code 6.23\n",
    "m6.9 <- quap(\n",
    " alist(\n",
    "  happiness ~ dnorm(mu, sigma),\n",
    "  mu <- a[mid] + bA*A,\n",
    "  a[mid] ~ dnorm(0, 1),\n",
    "  bA ~ dnorm(0, 2),\n",
    "  sigma ~ dexp(1)\n",
    " ) , data=d2 )\n",
    "\n",
    "precis(m6.9,depth=2)\n",
    "plot(precis(m6.9,depth=2))"
   ]
  },
  {
   "cell_type": "markdown",
   "metadata": {},
   "source": [
    "+ The model parameter `bA` concludes that as age gets bigger happiness reduces\n",
    "+ A model omitting Marriage"
   ]
  },
  {
   "cell_type": "code",
   "execution_count": 31,
   "metadata": {},
   "outputs": [
    {
     "data": {
      "text/html": [
       "<table class=\"dataframe\">\n",
       "<caption>A precis: 3 × 4</caption>\n",
       "<thead>\n",
       "\t<tr><th></th><th scope=col>mean</th><th scope=col>sd</th><th scope=col>5.5%</th><th scope=col>94.5%</th></tr>\n",
       "\t<tr><th></th><th scope=col>&lt;dbl&gt;</th><th scope=col>&lt;dbl&gt;</th><th scope=col>&lt;dbl&gt;</th><th scope=col>&lt;dbl&gt;</th></tr>\n",
       "</thead>\n",
       "<tbody>\n",
       "\t<tr><th scope=row>a</th><td> 1.649248e-07</td><td>0.07675015</td><td>-0.1226614</td><td>0.1226617</td></tr>\n",
       "\t<tr><th scope=row>bA</th><td>-2.728620e-07</td><td>0.13225976</td><td>-0.2113769</td><td>0.2113764</td></tr>\n",
       "\t<tr><th scope=row>sigma</th><td> 1.213188e+00</td><td>0.02766080</td><td> 1.1689803</td><td>1.2573949</td></tr>\n",
       "</tbody>\n",
       "</table>\n"
      ],
      "text/latex": [
       "A precis: 3 × 4\n",
       "\\begin{tabular}{r|llll}\n",
       "  & mean & sd & 5.5\\% & 94.5\\%\\\\\n",
       "  & <dbl> & <dbl> & <dbl> & <dbl>\\\\\n",
       "\\hline\n",
       "\ta &  1.649248e-07 & 0.07675015 & -0.1226614 & 0.1226617\\\\\n",
       "\tbA & -2.728620e-07 & 0.13225976 & -0.2113769 & 0.2113764\\\\\n",
       "\tsigma &  1.213188e+00 & 0.02766080 &  1.1689803 & 1.2573949\\\\\n",
       "\\end{tabular}\n"
      ],
      "text/markdown": [
       "\n",
       "A precis: 3 × 4\n",
       "\n",
       "| <!--/--> | mean &lt;dbl&gt; | sd &lt;dbl&gt; | 5.5% &lt;dbl&gt; | 94.5% &lt;dbl&gt; |\n",
       "|---|---|---|---|---|\n",
       "| a |  1.649248e-07 | 0.07675015 | -0.1226614 | 0.1226617 |\n",
       "| bA | -2.728620e-07 | 0.13225976 | -0.2113769 | 0.2113764 |\n",
       "| sigma |  1.213188e+00 | 0.02766080 |  1.1689803 | 1.2573949 |\n",
       "\n"
      ],
      "text/plain": [
       "      mean          sd         5.5%       94.5%    \n",
       "a      1.649248e-07 0.07675015 -0.1226614 0.1226617\n",
       "bA    -2.728620e-07 0.13225976 -0.2113769 0.2113764\n",
       "sigma  1.213188e+00 0.02766080  1.1689803 1.2573949"
      ]
     },
     "metadata": {},
     "output_type": "display_data"
    },
    {
     "data": {
      "image/png": "[encoded data removed]",
      "text/plain": [
       "plot without title"
      ]
     },
     "metadata": {
      "image/png": {
       "height": 180,
       "width": 420
      }
     },
     "output_type": "display_data"
    }
   ],
   "source": [
    "m6.10 <- quap(\n",
    " alist(\n",
    "  happiness ~ dnorm(mu, sigma),\n",
    "  mu <- a + bA*A,\n",
    "  a ~ dnorm(0, 1),\n",
    "  bA ~ dnorm(0, 2),\n",
    "  sigma ~ dexp(1)\n",
    " ) , data=d2 )\n",
    "precis(m6.10)\n",
    "plot(precis(m6.10,depth=2))"
   ]
  },
  {
   "cell_type": "markdown",
   "metadata": {},
   "source": [
    "+ The model parameter `bA` cocludes that gae has no impact on happiness - the correct conclusion\n",
    "+ The lesson is: **If you do not have a causal model, you cannot make inferences from a multiple regression**\n",
    "+ 6.3.2 The haunted DAG = This is a DAG with an unmeasured variable\n",
    "+ Consider the case where we want to infer the direct influence of parents P and Grandparents G on educational achievement of children C\n",
    "\n",
    "![alt text](images/6/g-p-c.png \"Title\")\n",
    "\n",
    "+ But a common unobserved influence on both Children and Parents could be the neighbourhood (or some other factor) U\n",
    "+ The DAG says:\n",
    "    + P is a function of G and U\n",
    "    + C is a function of G and P and U\n",
    "    + G and U are not function of any of the other known variables\n",
    "\n",
    "![alt text](images/6/g-p-c-u.png \"Title\")\n",
    "\n",
    "+ P is a common consequence of G and U, so if we condition on P, it will bias inference about C *even if we never measure U*"
   ]
  },
  {
   "cell_type": "code",
   "execution_count": 32,
   "metadata": {},
   "outputs": [],
   "source": [
    "# R code 6.25\n",
    "N <- 200 # number of grandparent-parent-child triads\n",
    "b_GP <- 1 # direct effect of G on P\n",
    "b_GC <- 0 # direct effect of G on C\n",
    "b_PC <- 1 # direct effect of P on C\n",
    "b_U <- 2 # direct effect of U on P and C"
   ]
  },
  {
   "cell_type": "code",
   "execution_count": 33,
   "metadata": {},
   "outputs": [
    {
     "data": {
      "text/html": [
       "<table class=\"dataframe\">\n",
       "<caption>A precis: 4 × 5</caption>\n",
       "<thead>\n",
       "\t<tr><th></th><th scope=col>mean</th><th scope=col>sd</th><th scope=col>5.5%</th><th scope=col>94.5%</th><th scope=col>histogram</th></tr>\n",
       "\t<tr><th></th><th scope=col>&lt;dbl&gt;</th><th scope=col>&lt;dbl&gt;</th><th scope=col>&lt;dbl&gt;</th><th scope=col>&lt;dbl&gt;</th><th scope=col>&lt;chr&gt;</th></tr>\n",
       "</thead>\n",
       "<tbody>\n",
       "\t<tr><th scope=row>C</th><td>-0.039883011</td><td>4.2970089</td><td>-6.495350</td><td>5.492939</td><td>▁▁▂▅▇▂▂▇▇▁▁   </td></tr>\n",
       "\t<tr><th scope=row>P</th><td> 0.042166538</td><td>2.3799012</td><td>-3.564404</td><td>3.485822</td><td>▁▁▁▁▂▅▇▃▅▇▅▃▁▁</td></tr>\n",
       "\t<tr><th scope=row>G</th><td>-0.004067271</td><td>0.9948718</td><td>-1.519387</td><td>1.690565</td><td>▁▁▁▂▃▇▅▃▂▁▁▁  </td></tr>\n",
       "\t<tr><th scope=row>U</th><td> 0.020000000</td><td>1.0023089</td><td>-1.000000</td><td>1.000000</td><td>▇▁▁▁▁▁▁▁▁▇    </td></tr>\n",
       "</tbody>\n",
       "</table>\n"
      ],
      "text/latex": [
       "A precis: 4 × 5\n",
       "\\begin{tabular}{r|lllll}\n",
       "  & mean & sd & 5.5\\% & 94.5\\% & histogram\\\\\n",
       "  & <dbl> & <dbl> & <dbl> & <dbl> & <chr>\\\\\n",
       "\\hline\n",
       "\tC & -0.039883011 & 4.2970089 & -6.495350 & 5.492939 & ▁▁▂▅▇▂▂▇▇▁▁   \\\\\n",
       "\tP &  0.042166538 & 2.3799012 & -3.564404 & 3.485822 & ▁▁▁▁▂▅▇▃▅▇▅▃▁▁\\\\\n",
       "\tG & -0.004067271 & 0.9948718 & -1.519387 & 1.690565 & ▁▁▁▂▃▇▅▃▂▁▁▁  \\\\\n",
       "\tU &  0.020000000 & 1.0023089 & -1.000000 & 1.000000 & ▇▁▁▁▁▁▁▁▁▇    \\\\\n",
       "\\end{tabular}\n"
      ],
      "text/markdown": [
       "\n",
       "A precis: 4 × 5\n",
       "\n",
       "| <!--/--> | mean &lt;dbl&gt; | sd &lt;dbl&gt; | 5.5% &lt;dbl&gt; | 94.5% &lt;dbl&gt; | histogram &lt;chr&gt; |\n",
       "|---|---|---|---|---|---|\n",
       "| C | -0.039883011 | 4.2970089 | -6.495350 | 5.492939 | ▁▁▂▅▇▂▂▇▇▁▁    |\n",
       "| P |  0.042166538 | 2.3799012 | -3.564404 | 3.485822 | ▁▁▁▁▂▅▇▃▅▇▅▃▁▁ |\n",
       "| G | -0.004067271 | 0.9948718 | -1.519387 | 1.690565 | ▁▁▁▂▃▇▅▃▂▁▁▁   |\n",
       "| U |  0.020000000 | 1.0023089 | -1.000000 | 1.000000 | ▇▁▁▁▁▁▁▁▁▇     |\n",
       "\n"
      ],
      "text/plain": [
       "  mean         sd        5.5%      94.5%    histogram     \n",
       "C -0.039883011 4.2970089 -6.495350 5.492939 ▁▁▂▅▇▂▂▇▇▁▁   \n",
       "P  0.042166538 2.3799012 -3.564404 3.485822 ▁▁▁▁▂▅▇▃▅▇▅▃▁▁\n",
       "G -0.004067271 0.9948718 -1.519387 1.690565 ▁▁▁▂▃▇▅▃▂▁▁▁  \n",
       "U  0.020000000 1.0023089 -1.000000 1.000000 ▇▁▁▁▁▁▁▁▁▇    "
      ]
     },
     "metadata": {},
     "output_type": "display_data"
    }
   ],
   "source": [
    "# R code 6.26\n",
    "set.seed(1)\n",
    "U <- 2*rbern( N , 0.5 ) - 1\n",
    "G <- rnorm( N )\n",
    "P <- rnorm( N , b_GP*G + b_U*U )\n",
    "C <- rnorm( N , b_PC*P + b_GC*G + b_U*U )\n",
    "d <- data.frame( C=C , P=P , G=G , U=U )\n",
    "precis(d)"
   ]
  },
  {
   "cell_type": "markdown",
   "metadata": {},
   "source": [
    "+ For purposes of the example we go forward with these priors without too much thouht"
   ]
  },
  {
   "cell_type": "code",
   "execution_count": 34,
   "metadata": {},
   "outputs": [
    {
     "data": {
      "text/html": [
       "<table class=\"dataframe\">\n",
       "<caption>A precis: 4 × 4</caption>\n",
       "<thead>\n",
       "\t<tr><th></th><th scope=col>mean</th><th scope=col>sd</th><th scope=col>5.5%</th><th scope=col>94.5%</th></tr>\n",
       "\t<tr><th></th><th scope=col>&lt;dbl&gt;</th><th scope=col>&lt;dbl&gt;</th><th scope=col>&lt;dbl&gt;</th><th scope=col>&lt;dbl&gt;</th></tr>\n",
       "</thead>\n",
       "<tbody>\n",
       "\t<tr><th scope=row>a</th><td>-0.1174752</td><td>0.09919574</td><td>-0.2760091</td><td> 0.04105877</td></tr>\n",
       "\t<tr><th scope=row>b_PC</th><td> 1.7868915</td><td>0.04455355</td><td> 1.7156863</td><td> 1.85809664</td></tr>\n",
       "\t<tr><th scope=row>b_GC</th><td>-0.8389537</td><td>0.10614045</td><td>-1.0085867</td><td>-0.66932077</td></tr>\n",
       "\t<tr><th scope=row>sigma</th><td> 1.4094891</td><td>0.07011139</td><td> 1.2974375</td><td> 1.52154063</td></tr>\n",
       "</tbody>\n",
       "</table>\n"
      ],
      "text/latex": [
       "A precis: 4 × 4\n",
       "\\begin{tabular}{r|llll}\n",
       "  & mean & sd & 5.5\\% & 94.5\\%\\\\\n",
       "  & <dbl> & <dbl> & <dbl> & <dbl>\\\\\n",
       "\\hline\n",
       "\ta & -0.1174752 & 0.09919574 & -0.2760091 &  0.04105877\\\\\n",
       "\tb\\_PC &  1.7868915 & 0.04455355 &  1.7156863 &  1.85809664\\\\\n",
       "\tb\\_GC & -0.8389537 & 0.10614045 & -1.0085867 & -0.66932077\\\\\n",
       "\tsigma &  1.4094891 & 0.07011139 &  1.2974375 &  1.52154063\\\\\n",
       "\\end{tabular}\n"
      ],
      "text/markdown": [
       "\n",
       "A precis: 4 × 4\n",
       "\n",
       "| <!--/--> | mean &lt;dbl&gt; | sd &lt;dbl&gt; | 5.5% &lt;dbl&gt; | 94.5% &lt;dbl&gt; |\n",
       "|---|---|---|---|---|\n",
       "| a | -0.1174752 | 0.09919574 | -0.2760091 |  0.04105877 |\n",
       "| b_PC |  1.7868915 | 0.04455355 |  1.7156863 |  1.85809664 |\n",
       "| b_GC | -0.8389537 | 0.10614045 | -1.0085867 | -0.66932077 |\n",
       "| sigma |  1.4094891 | 0.07011139 |  1.2974375 |  1.52154063 |\n",
       "\n"
      ],
      "text/plain": [
       "      mean       sd         5.5%       94.5%      \n",
       "a     -0.1174752 0.09919574 -0.2760091  0.04105877\n",
       "b_PC   1.7868915 0.04455355  1.7156863  1.85809664\n",
       "b_GC  -0.8389537 0.10614045 -1.0085867 -0.66932077\n",
       "sigma  1.4094891 0.07011139  1.2974375  1.52154063"
      ]
     },
     "metadata": {},
     "output_type": "display_data"
    },
    {
     "data": {
      "image/png": "[encoded data removed]",
      "text/plain": [
       "plot without title"
      ]
     },
     "metadata": {
      "image/png": {
       "height": 180,
       "width": 420
      }
     },
     "output_type": "display_data"
    }
   ],
   "source": [
    "# R code 6.27\n",
    "m6.11 <- quap(\n",
    " alist(\n",
    "  C ~ dnorm(mu, sigma),\n",
    "  mu <- a + b_PC*P + b_GC*G,\n",
    "  a ~ dnorm(0 ,1),\n",
    "  c(b_PC,b_GC) ~ dnorm(0, 1),\n",
    "  sigma ~ dexp(1)\n",
    " ), data=d )\n",
    "precis(m6.11)\n",
    "plot(precis(m6.11))"
   ]
  },
  {
   "cell_type": "markdown",
   "metadata": {},
   "source": [
    "+ Parents effect nearly twice as strong as it should be\n",
    "+ Grandparents hurt Grandkids ! How does this occur?\n",
    "+ Plot of standardized G eduction vs C education\n",
    "+ Full set of points - Higher G means higher C\n",
    "+ Conditioning on Parents is like looking at sub-groups of parents with similar education.\n",
    "+ If we take a percentile sub group and draw the regression line it is negative\n",
    "+ It is negative because once we condition on P learning G tells us about U, and U is associated with the outcome C\n",
    "\n",
    "![alt text](images/6/parents-percentiles.png \"Title\")\n",
    "\n",
    "+ To get over this, we have to measure U and also condition on U"
   ]
  },
  {
   "cell_type": "code",
   "execution_count": 35,
   "metadata": {},
   "outputs": [
    {
     "data": {
      "text/html": [
       "<table class=\"dataframe\">\n",
       "<caption>A precis: 5 × 4</caption>\n",
       "<thead>\n",
       "\t<tr><th></th><th scope=col>mean</th><th scope=col>sd</th><th scope=col>5.5%</th><th scope=col>94.5%</th></tr>\n",
       "\t<tr><th></th><th scope=col>&lt;dbl&gt;</th><th scope=col>&lt;dbl&gt;</th><th scope=col>&lt;dbl&gt;</th><th scope=col>&lt;dbl&gt;</th></tr>\n",
       "</thead>\n",
       "<tbody>\n",
       "\t<tr><th scope=row>a</th><td>-0.12197510</td><td>0.07192588</td><td>-0.2369265</td><td>-0.007023655</td></tr>\n",
       "\t<tr><th scope=row>b_PC</th><td> 1.01161103</td><td>0.06597258</td><td> 0.9061741</td><td> 1.117047948</td></tr>\n",
       "\t<tr><th scope=row>b_GC</th><td>-0.04081373</td><td>0.09728716</td><td>-0.1962974</td><td> 0.114669941</td></tr>\n",
       "\t<tr><th scope=row>b_U</th><td> 1.99648992</td><td>0.14770462</td><td> 1.7604294</td><td> 2.232550439</td></tr>\n",
       "\t<tr><th scope=row>sigma</th><td> 1.01959911</td><td>0.05080176</td><td> 0.9384081</td><td> 1.100790130</td></tr>\n",
       "</tbody>\n",
       "</table>\n"
      ],
      "text/latex": [
       "A precis: 5 × 4\n",
       "\\begin{tabular}{r|llll}\n",
       "  & mean & sd & 5.5\\% & 94.5\\%\\\\\n",
       "  & <dbl> & <dbl> & <dbl> & <dbl>\\\\\n",
       "\\hline\n",
       "\ta & -0.12197510 & 0.07192588 & -0.2369265 & -0.007023655\\\\\n",
       "\tb\\_PC &  1.01161103 & 0.06597258 &  0.9061741 &  1.117047948\\\\\n",
       "\tb\\_GC & -0.04081373 & 0.09728716 & -0.1962974 &  0.114669941\\\\\n",
       "\tb\\_U &  1.99648992 & 0.14770462 &  1.7604294 &  2.232550439\\\\\n",
       "\tsigma &  1.01959911 & 0.05080176 &  0.9384081 &  1.100790130\\\\\n",
       "\\end{tabular}\n"
      ],
      "text/markdown": [
       "\n",
       "A precis: 5 × 4\n",
       "\n",
       "| <!--/--> | mean &lt;dbl&gt; | sd &lt;dbl&gt; | 5.5% &lt;dbl&gt; | 94.5% &lt;dbl&gt; |\n",
       "|---|---|---|---|---|\n",
       "| a | -0.12197510 | 0.07192588 | -0.2369265 | -0.007023655 |\n",
       "| b_PC |  1.01161103 | 0.06597258 |  0.9061741 |  1.117047948 |\n",
       "| b_GC | -0.04081373 | 0.09728716 | -0.1962974 |  0.114669941 |\n",
       "| b_U |  1.99648992 | 0.14770462 |  1.7604294 |  2.232550439 |\n",
       "| sigma |  1.01959911 | 0.05080176 |  0.9384081 |  1.100790130 |\n",
       "\n"
      ],
      "text/plain": [
       "      mean        sd         5.5%       94.5%       \n",
       "a     -0.12197510 0.07192588 -0.2369265 -0.007023655\n",
       "b_PC   1.01161103 0.06597258  0.9061741  1.117047948\n",
       "b_GC  -0.04081373 0.09728716 -0.1962974  0.114669941\n",
       "b_U    1.99648992 0.14770462  1.7604294  2.232550439\n",
       "sigma  1.01959911 0.05080176  0.9384081  1.100790130"
      ]
     },
     "metadata": {},
     "output_type": "display_data"
    },
    {
     "data": {
      "image/png": "[encoded data removed]",
      "text/plain": [
       "plot without title"
      ]
     },
     "metadata": {
      "image/png": {
       "height": 180,
       "width": 420
      }
     },
     "output_type": "display_data"
    }
   ],
   "source": [
    "# R code 6.28\n",
    "m6.12 <- quap(\n",
    " alist(\n",
    "  C ~ dnorm(mu, sigma),\n",
    "  mu <- a + b_PC*P + b_GC*G + b_U*U,\n",
    "  a ~ dnorm(0, 1),\n",
    "  c(b_PC,b_GC,b_U) ~ dnorm(0, 1),\n",
    "  sigma ~ dexp(1)\n",
    " ), data=d )\n",
    "precis(m6.12)\n",
    "plot(precis(m6.12))"
   ]
  },
  {
   "cell_type": "markdown",
   "metadata": {},
   "source": [
    "+ This regression gets back the original slopes:\n",
    "    + b_GC <- 0 # direct effect of G on C\n",
    "    + b_PC <- 1 # direct effect of P on C\n",
    "    + b_U <- 2 # direct effect of U on P and C"
   ]
  },
  {
   "cell_type": "markdown",
   "metadata": {},
   "source": [
    "# 6.4 Confronting Confounding"
   ]
  },
  {
   "cell_type": "code",
   "execution_count": null,
   "metadata": {},
   "outputs": [],
   "source": []
  },
  {
   "cell_type": "code",
   "execution_count": null,
   "metadata": {},
   "outputs": [],
   "source": []
  },
  {
   "cell_type": "code",
   "execution_count": null,
   "metadata": {},
   "outputs": [],
   "source": []
  },
  {
   "cell_type": "code",
   "execution_count": null,
   "metadata": {},
   "outputs": [],
   "source": []
  },
  {
   "cell_type": "code",
   "execution_count": null,
   "metadata": {},
   "outputs": [],
   "source": []
  },
  {
   "cell_type": "code",
   "execution_count": null,
   "metadata": {},
   "outputs": [],
   "source": []
  },
  {
   "cell_type": "code",
   "execution_count": null,
   "metadata": {},
   "outputs": [],
   "source": []
  },
  {
   "cell_type": "code",
   "execution_count": null,
   "metadata": {},
   "outputs": [],
   "source": []
  },
  {
   "cell_type": "code",
   "execution_count": null,
   "metadata": {},
   "outputs": [],
   "source": []
  },
  {
   "cell_type": "code",
   "execution_count": null,
   "metadata": {},
   "outputs": [],
   "source": []
  },
  {
   "cell_type": "code",
   "execution_count": null,
   "metadata": {},
   "outputs": [],
   "source": []
  },
  {
   "cell_type": "code",
   "execution_count": null,
   "metadata": {},
   "outputs": [],
   "source": []
  },
  {
   "cell_type": "code",
   "execution_count": null,
   "metadata": {},
   "outputs": [],
   "source": []
  },
  {
   "cell_type": "code",
   "execution_count": null,
   "metadata": {},
   "outputs": [],
   "source": []
  },
  {
   "cell_type": "code",
   "execution_count": null,
   "metadata": {},
   "outputs": [],
   "source": []
  },
  {
   "cell_type": "code",
   "execution_count": null,
   "metadata": {},
   "outputs": [],
   "source": []
  },
  {
   "cell_type": "code",
   "execution_count": 36,
   "metadata": {},
   "outputs": [
    {
     "data": {
      "text/html": [
       "\n",
       "<table style=\"width: 100%;\"><tr><td>Normal {stats}</td><td style=\"text-align: right;\">R Documentation</td></tr></table>\n",
       "\n",
       "<h2>The Normal Distribution</h2>\n",
       "\n",
       "<h3>Description</h3>\n",
       "\n",
       "<p>Density, distribution function, quantile function and random\n",
       "generation for the normal distribution with mean equal to <code>mean</code>\n",
       "and standard deviation equal to <code>sd</code>.\n",
       "</p>\n",
       "\n",
       "\n",
       "<h3>Usage</h3>\n",
       "\n",
       "<pre><code class='language-R'>dnorm(x, mean = 0, sd = 1, log = FALSE)\n",
       "pnorm(q, mean = 0, sd = 1, lower.tail = TRUE, log.p = FALSE)\n",
       "qnorm(p, mean = 0, sd = 1, lower.tail = TRUE, log.p = FALSE)\n",
       "rnorm(n, mean = 0, sd = 1)\n",
       "</code></pre>\n",
       "\n",
       "\n",
       "<h3>Arguments</h3>\n",
       "\n",
       "<table>\n",
       "<tr style=\"vertical-align: top;\"><td><code>x, q</code></td>\n",
       "<td>\n",
       "<p>vector of quantiles.</p>\n",
       "</td></tr>\n",
       "<tr style=\"vertical-align: top;\"><td><code>p</code></td>\n",
       "<td>\n",
       "<p>vector of probabilities.</p>\n",
       "</td></tr>\n",
       "<tr style=\"vertical-align: top;\"><td><code>n</code></td>\n",
       "<td>\n",
       "<p>number of observations. If <code>length(n) &gt; 1</code>, the length\n",
       "is taken to be the number required.</p>\n",
       "</td></tr>\n",
       "<tr style=\"vertical-align: top;\"><td><code>mean</code></td>\n",
       "<td>\n",
       "<p>vector of means.</p>\n",
       "</td></tr>\n",
       "<tr style=\"vertical-align: top;\"><td><code>sd</code></td>\n",
       "<td>\n",
       "<p>vector of standard deviations.</p>\n",
       "</td></tr>\n",
       "<tr style=\"vertical-align: top;\"><td><code>log, log.p</code></td>\n",
       "<td>\n",
       "<p>logical; if TRUE, probabilities p are given as log(p).</p>\n",
       "</td></tr>\n",
       "<tr style=\"vertical-align: top;\"><td><code>lower.tail</code></td>\n",
       "<td>\n",
       "<p>logical; if TRUE (default), probabilities are\n",
       "<code class=\"reqn\">P[X \\le x]</code> otherwise, <code class=\"reqn\">P[X &gt; x]</code>.</p>\n",
       "</td></tr>\n",
       "</table>\n",
       "\n",
       "\n",
       "<h3>Details</h3>\n",
       "\n",
       "<p>If <code>mean</code> or <code>sd</code> are not specified they assume the default\n",
       "values of <code>0</code> and <code>1</code>, respectively.\n",
       "</p>\n",
       "<p>The normal distribution has density\n",
       "</p>\n",
       "<p style=\"text-align: center;\"><code class=\"reqn\">\n",
       "    f(x) =\n",
       "    \\frac{1}{\\sqrt{2\\pi}\\sigma} e^{-(x-\\mu)^2/2\\sigma^2}</code>\n",
       "</p>\n",
       "\n",
       "<p>where <code class=\"reqn\">\\mu</code> is the mean of the distribution and\n",
       "<code class=\"reqn\">\\sigma</code> the standard deviation.\n",
       "</p>\n",
       "\n",
       "\n",
       "<h3>Value</h3>\n",
       "\n",
       "<p><code>dnorm</code> gives the density,\n",
       "<code>pnorm</code> gives the distribution function,\n",
       "<code>qnorm</code> gives the quantile function, and\n",
       "<code>rnorm</code> generates random deviates.\n",
       "</p>\n",
       "<p>The length of the result is determined by <code>n</code> for\n",
       "<code>rnorm</code>, and is the maximum of the lengths of the\n",
       "numerical arguments for the other functions.  \n",
       "</p>\n",
       "<p>The numerical arguments other than <code>n</code> are recycled to the\n",
       "length of the result.  Only the first elements of the logical\n",
       "arguments are used.\n",
       "</p>\n",
       "<p>For <code>sd = 0</code> this gives the limit as <code>sd</code> decreases to 0, a\n",
       "point mass at <code>mu</code>.\n",
       "<code>sd &lt; 0</code> is an error and returns <code>NaN</code>.\n",
       "</p>\n",
       "\n",
       "\n",
       "<h3>Source</h3>\n",
       "\n",
       "<p>For <code>pnorm</code>, based on\n",
       "</p>\n",
       "<p>Cody, W. D. (1993)\n",
       "Algorithm 715: SPECFUN &ndash; A portable FORTRAN package of special\n",
       "function routines and test drivers.\n",
       "<em>ACM Transactions on Mathematical Software</em> <b>19</b>, 22&ndash;32.\n",
       "</p>\n",
       "<p>For <code>qnorm</code>, the code is a C translation of\n",
       "</p>\n",
       "<p>Wichura, M. J. (1988)\n",
       "Algorithm AS 241: The percentage points of the normal distribution.\n",
       "<em>Applied Statistics</em>, <b>37</b>, 477&ndash;484.\n",
       "</p>\n",
       "<p>which provides precise results up to about 16 digits.\n",
       "</p>\n",
       "<p>For <code>rnorm</code>, see RNG for how to select the algorithm and\n",
       "for references to the supplied methods.\n",
       "</p>\n",
       "\n",
       "\n",
       "<h3>References</h3>\n",
       "\n",
       "<p>Becker, R. A., Chambers, J. M. and Wilks, A. R. (1988)\n",
       "<em>The New S Language</em>.\n",
       "Wadsworth &amp; Brooks/Cole.\n",
       "</p>\n",
       "<p>Johnson, N. L., Kotz, S. and Balakrishnan, N. (1995)\n",
       "<em>Continuous Univariate Distributions</em>, volume 1, chapter 13.\n",
       "Wiley, New York.\n",
       "</p>\n",
       "\n",
       "\n",
       "<h3>See Also</h3>\n",
       "\n",
       "<p>Distributions for other standard distributions, including\n",
       "<code>dlnorm</code> for the <em>Log</em>normal distribution.\n",
       "</p>\n",
       "\n",
       "\n",
       "<h3>Examples</h3>\n",
       "\n",
       "<pre><code class='language-R'>require(graphics)\n",
       "\n",
       "dnorm(0) == 1/sqrt(2*pi)\n",
       "dnorm(1) == exp(-1/2)/sqrt(2*pi)\n",
       "dnorm(1) == 1/sqrt(2*pi*exp(1))\n",
       "\n",
       "## Using \"log = TRUE\" for an extended range :\n",
       "par(mfrow = c(2,1))\n",
       "plot(function(x) dnorm(x, log = TRUE), -60, 50,\n",
       "     main = \"log { Normal density }\")\n",
       "curve(log(dnorm(x)), add = TRUE, col = \"red\", lwd = 2)\n",
       "mtext(\"dnorm(x, log=TRUE)\", adj = 0)\n",
       "mtext(\"log(dnorm(x))\", col = \"red\", adj = 1)\n",
       "\n",
       "plot(function(x) pnorm(x, log.p = TRUE), -50, 10,\n",
       "     main = \"log { Normal Cumulative }\")\n",
       "curve(log(pnorm(x)), add = TRUE, col = \"red\", lwd = 2)\n",
       "mtext(\"pnorm(x, log=TRUE)\", adj = 0)\n",
       "mtext(\"log(pnorm(x))\", col = \"red\", adj = 1)\n",
       "\n",
       "## if you want the so-called 'error function'\n",
       "erf &lt;- function(x) 2 * pnorm(x * sqrt(2)) - 1\n",
       "## (see Abramowitz and Stegun 29.2.29)\n",
       "## and the so-called 'complementary error function'\n",
       "erfc &lt;- function(x) 2 * pnorm(x * sqrt(2), lower = FALSE)\n",
       "## and the inverses\n",
       "erfinv &lt;- function (x) qnorm((1 + x)/2)/sqrt(2)\n",
       "erfcinv &lt;- function (x) qnorm(x/2, lower = FALSE)/sqrt(2)\n",
       "</code></pre>\n",
       "\n",
       "<hr /><div style=\"text-align: center;\">[Package <em>stats</em> version 4.2.2 ]</div>\n",
       "</div>"
      ],
      "text/latex": [
       "\\inputencoding{utf8}\n",
       "\\HeaderA{Normal}{The Normal Distribution}{Normal}\n",
       "\\aliasA{dnorm}{Normal}{dnorm}\n",
       "\\aliasA{pnorm}{Normal}{pnorm}\n",
       "\\aliasA{qnorm}{Normal}{qnorm}\n",
       "\\aliasA{rnorm}{Normal}{rnorm}\n",
       "\\keyword{error function}{Normal}\n",
       "\\keyword{erf}{Normal}\n",
       "\\keyword{erfc}{Normal}\n",
       "\\keyword{erfinv}{Normal}\n",
       "\\keyword{erfcinv}{Normal}\n",
       "\\keyword{distribution}{Normal}\n",
       "%\n",
       "\\begin{Description}\\relax\n",
       "Density, distribution function, quantile function and random\n",
       "generation for the normal distribution with mean equal to \\code{mean}\n",
       "and standard deviation equal to \\code{sd}.\n",
       "\\end{Description}\n",
       "%\n",
       "\\begin{Usage}\n",
       "\\begin{verbatim}\n",
       "dnorm(x, mean = 0, sd = 1, log = FALSE)\n",
       "pnorm(q, mean = 0, sd = 1, lower.tail = TRUE, log.p = FALSE)\n",
       "qnorm(p, mean = 0, sd = 1, lower.tail = TRUE, log.p = FALSE)\n",
       "rnorm(n, mean = 0, sd = 1)\n",
       "\\end{verbatim}\n",
       "\\end{Usage}\n",
       "%\n",
       "\\begin{Arguments}\n",
       "\\begin{ldescription}\n",
       "\\item[\\code{x, q}] vector of quantiles.\n",
       "\\item[\\code{p}] vector of probabilities.\n",
       "\\item[\\code{n}] number of observations. If \\code{length(n) > 1}, the length\n",
       "is taken to be the number required.\n",
       "\\item[\\code{mean}] vector of means.\n",
       "\\item[\\code{sd}] vector of standard deviations.\n",
       "\\item[\\code{log, log.p}] logical; if TRUE, probabilities p are given as log(p).\n",
       "\\item[\\code{lower.tail}] logical; if TRUE (default), probabilities are\n",
       "\\eqn{P[X \\le x]}{} otherwise, \\eqn{P[X > x]}{}.\n",
       "\\end{ldescription}\n",
       "\\end{Arguments}\n",
       "%\n",
       "\\begin{Details}\\relax\n",
       "If \\code{mean} or \\code{sd} are not specified they assume the default\n",
       "values of \\code{0} and \\code{1}, respectively.\n",
       "\n",
       "The normal distribution has density\n",
       "\\deqn{\n",
       "    f(x) =\n",
       "    \\frac{1}{\\sqrt{2\\pi}\\sigma} e^{-(x-\\mu)^2/2\\sigma^2}}{}\n",
       "where \\eqn{\\mu}{} is the mean of the distribution and\n",
       "\\eqn{\\sigma}{} the standard deviation.\n",
       "\\end{Details}\n",
       "%\n",
       "\\begin{Value}\n",
       "\\code{dnorm} gives the density,\n",
       "\\code{pnorm} gives the distribution function,\n",
       "\\code{qnorm} gives the quantile function, and\n",
       "\\code{rnorm} generates random deviates.\n",
       "\n",
       "The length of the result is determined by \\code{n} for\n",
       "\\code{rnorm}, and is the maximum of the lengths of the\n",
       "numerical arguments for the other functions.  \n",
       "\n",
       "The numerical arguments other than \\code{n} are recycled to the\n",
       "length of the result.  Only the first elements of the logical\n",
       "arguments are used.\n",
       "\n",
       "For \\code{sd = 0} this gives the limit as \\code{sd} decreases to 0, a\n",
       "point mass at \\code{mu}.\n",
       "\\code{sd < 0} is an error and returns \\code{NaN}.\n",
       "\\end{Value}\n",
       "%\n",
       "\\begin{Source}\\relax\n",
       "For \\code{pnorm}, based on\n",
       "\n",
       "Cody, W. D. (1993)\n",
       "Algorithm 715: SPECFUN -- A portable FORTRAN package of special\n",
       "function routines and test drivers.\n",
       "\\emph{ACM Transactions on Mathematical Software} \\bold{19}, 22--32.\n",
       "\n",
       "For \\code{qnorm}, the code is a C translation of\n",
       "\n",
       "Wichura, M. J. (1988)\n",
       "Algorithm AS 241: The percentage points of the normal distribution.\n",
       "\\emph{Applied Statistics}, \\bold{37}, 477--484.\n",
       "\n",
       "which provides precise results up to about 16 digits.\n",
       "\n",
       "For \\code{rnorm}, see \\LinkA{RNG}{RNG} for how to select the algorithm and\n",
       "for references to the supplied methods.\n",
       "\\end{Source}\n",
       "%\n",
       "\\begin{References}\\relax\n",
       "Becker, R. A., Chambers, J. M. and Wilks, A. R. (1988)\n",
       "\\emph{The New S Language}.\n",
       "Wadsworth \\& Brooks/Cole.\n",
       "\n",
       "Johnson, N. L., Kotz, S. and Balakrishnan, N. (1995)\n",
       "\\emph{Continuous Univariate Distributions}, volume 1, chapter 13.\n",
       "Wiley, New York.\n",
       "\\end{References}\n",
       "%\n",
       "\\begin{SeeAlso}\\relax\n",
       "\\LinkA{Distributions}{Distributions} for other standard distributions, including\n",
       "\\code{\\LinkA{dlnorm}{dlnorm}} for the \\emph{Log}normal distribution.\n",
       "\\end{SeeAlso}\n",
       "%\n",
       "\\begin{Examples}\n",
       "\\begin{ExampleCode}\n",
       "require(graphics)\n",
       "\n",
       "dnorm(0) == 1/sqrt(2*pi)\n",
       "dnorm(1) == exp(-1/2)/sqrt(2*pi)\n",
       "dnorm(1) == 1/sqrt(2*pi*exp(1))\n",
       "\n",
       "## Using \"log = TRUE\" for an extended range :\n",
       "par(mfrow = c(2,1))\n",
       "plot(function(x) dnorm(x, log = TRUE), -60, 50,\n",
       "     main = \"log { Normal density }\")\n",
       "curve(log(dnorm(x)), add = TRUE, col = \"red\", lwd = 2)\n",
       "mtext(\"dnorm(x, log=TRUE)\", adj = 0)\n",
       "mtext(\"log(dnorm(x))\", col = \"red\", adj = 1)\n",
       "\n",
       "plot(function(x) pnorm(x, log.p = TRUE), -50, 10,\n",
       "     main = \"log { Normal Cumulative }\")\n",
       "curve(log(pnorm(x)), add = TRUE, col = \"red\", lwd = 2)\n",
       "mtext(\"pnorm(x, log=TRUE)\", adj = 0)\n",
       "mtext(\"log(pnorm(x))\", col = \"red\", adj = 1)\n",
       "\n",
       "## if you want the so-called 'error function'\n",
       "erf <- function(x) 2 * pnorm(x * sqrt(2)) - 1\n",
       "## (see Abramowitz and Stegun 29.2.29)\n",
       "## and the so-called 'complementary error function'\n",
       "erfc <- function(x) 2 * pnorm(x * sqrt(2), lower = FALSE)\n",
       "## and the inverses\n",
       "erfinv <- function (x) qnorm((1 + x)/2)/sqrt(2)\n",
       "erfcinv <- function (x) qnorm(x/2, lower = FALSE)/sqrt(2)\n",
       "\\end{ExampleCode}\n",
       "\\end{Examples}"
      ],
      "text/plain": [
       "Normal                  package:stats                  R Documentation\n",
       "\n",
       "_\bT_\bh_\be _\bN_\bo_\br_\bm_\ba_\bl _\bD_\bi_\bs_\bt_\br_\bi_\bb_\bu_\bt_\bi_\bo_\bn\n",
       "\n",
       "_\bD_\be_\bs_\bc_\br_\bi_\bp_\bt_\bi_\bo_\bn:\n",
       "\n",
       "     Density, distribution function, quantile function and random\n",
       "     generation for the normal distribution with mean equal to ‘mean’\n",
       "     and standard deviation equal to ‘sd’.\n",
       "\n",
       "_\bU_\bs_\ba_\bg_\be:\n",
       "\n",
       "     dnorm(x, mean = 0, sd = 1, log = FALSE)\n",
       "     pnorm(q, mean = 0, sd = 1, lower.tail = TRUE, log.p = FALSE)\n",
       "     qnorm(p, mean = 0, sd = 1, lower.tail = TRUE, log.p = FALSE)\n",
       "     rnorm(n, mean = 0, sd = 1)\n",
       "     \n",
       "_\bA_\br_\bg_\bu_\bm_\be_\bn_\bt_\bs:\n",
       "\n",
       "    x, q: vector of quantiles.\n",
       "\n",
       "       p: vector of probabilities.\n",
       "\n",
       "       n: number of observations. If ‘length(n) > 1’, the length is\n",
       "          taken to be the number required.\n",
       "\n",
       "    mean: vector of means.\n",
       "\n",
       "      sd: vector of standard deviations.\n",
       "\n",
       "log, log.p: logical; if TRUE, probabilities p are given as log(p).\n",
       "\n",
       "lower.tail: logical; if TRUE (default), probabilities are P[X <= x]\n",
       "          otherwise, P[X > x].\n",
       "\n",
       "_\bD_\be_\bt_\ba_\bi_\bl_\bs:\n",
       "\n",
       "     If ‘mean’ or ‘sd’ are not specified they assume the default values\n",
       "     of ‘0’ and ‘1’, respectively.\n",
       "\n",
       "     The normal distribution has density\n",
       "\n",
       "            f(x) = 1/(sqrt(2 pi) sigma) e^-((x - mu)^2/(2 sigma^2))     \n",
       "     \n",
       "     where mu is the mean of the distribution and sigma the standard\n",
       "     deviation.\n",
       "\n",
       "_\bV_\ba_\bl_\bu_\be:\n",
       "\n",
       "     ‘dnorm’ gives the density, ‘pnorm’ gives the distribution\n",
       "     function, ‘qnorm’ gives the quantile function, and ‘rnorm’\n",
       "     generates random deviates.\n",
       "\n",
       "     The length of the result is determined by ‘n’ for ‘rnorm’, and is\n",
       "     the maximum of the lengths of the numerical arguments for the\n",
       "     other functions.\n",
       "\n",
       "     The numerical arguments other than ‘n’ are recycled to the length\n",
       "     of the result.  Only the first elements of the logical arguments\n",
       "     are used.\n",
       "\n",
       "     For ‘sd = 0’ this gives the limit as ‘sd’ decreases to 0, a point\n",
       "     mass at ‘mu’.  ‘sd < 0’ is an error and returns ‘NaN’.\n",
       "\n",
       "_\bS_\bo_\bu_\br_\bc_\be:\n",
       "\n",
       "     For ‘pnorm’, based on\n",
       "\n",
       "     Cody, W. D. (1993) Algorithm 715: SPECFUN - A portable FORTRAN\n",
       "     package of special function routines and test drivers.  _ACM\n",
       "     Transactions on Mathematical Software_ *19*, 22-32.\n",
       "\n",
       "     For ‘qnorm’, the code is a C translation of\n",
       "\n",
       "     Wichura, M. J. (1988) Algorithm AS 241: The percentage points of\n",
       "     the normal distribution.  _Applied Statistics_, *37*, 477-484.\n",
       "\n",
       "     which provides precise results up to about 16 digits.\n",
       "\n",
       "     For ‘rnorm’, see RNG for how to select the algorithm and for\n",
       "     references to the supplied methods.\n",
       "\n",
       "_\bR_\be_\bf_\be_\br_\be_\bn_\bc_\be_\bs:\n",
       "\n",
       "     Becker, R. A., Chambers, J. M. and Wilks, A. R. (1988) _The New S\n",
       "     Language_.  Wadsworth & Brooks/Cole.\n",
       "\n",
       "     Johnson, N. L., Kotz, S. and Balakrishnan, N. (1995) _Continuous\n",
       "     Univariate Distributions_, volume 1, chapter 13.  Wiley, New York.\n",
       "\n",
       "_\bS_\be_\be _\bA_\bl_\bs_\bo:\n",
       "\n",
       "     Distributions for other standard distributions, including ‘dlnorm’\n",
       "     for the _Log_normal distribution.\n",
       "\n",
       "_\bE_\bx_\ba_\bm_\bp_\bl_\be_\bs:\n",
       "\n",
       "     require(graphics)\n",
       "     \n",
       "     dnorm(0) == 1/sqrt(2*pi)\n",
       "     dnorm(1) == exp(-1/2)/sqrt(2*pi)\n",
       "     dnorm(1) == 1/sqrt(2*pi*exp(1))\n",
       "     \n",
       "     ## Using \"log = TRUE\" for an extended range :\n",
       "     par(mfrow = c(2,1))\n",
       "     plot(function(x) dnorm(x, log = TRUE), -60, 50,\n",
       "          main = \"log { Normal density }\")\n",
       "     curve(log(dnorm(x)), add = TRUE, col = \"red\", lwd = 2)\n",
       "     mtext(\"dnorm(x, log=TRUE)\", adj = 0)\n",
       "     mtext(\"log(dnorm(x))\", col = \"red\", adj = 1)\n",
       "     \n",
       "     plot(function(x) pnorm(x, log.p = TRUE), -50, 10,\n",
       "          main = \"log { Normal Cumulative }\")\n",
       "     curve(log(pnorm(x)), add = TRUE, col = \"red\", lwd = 2)\n",
       "     mtext(\"pnorm(x, log=TRUE)\", adj = 0)\n",
       "     mtext(\"log(pnorm(x))\", col = \"red\", adj = 1)\n",
       "     \n",
       "     ## if you want the so-called 'error function'\n",
       "     erf <- function(x) 2 * pnorm(x * sqrt(2)) - 1\n",
       "     ## (see Abramowitz and Stegun 29.2.29)\n",
       "     ## and the so-called 'complementary error function'\n",
       "     erfc <- function(x) 2 * pnorm(x * sqrt(2), lower = FALSE)\n",
       "     ## and the inverses\n",
       "     erfinv <- function (x) qnorm((1 + x)/2)/sqrt(2)\n",
       "     erfcinv <- function (x) qnorm(x/2, lower = FALSE)/sqrt(2)\n",
       "     "
      ]
     },
     "metadata": {},
     "output_type": "display_data"
    }
   ],
   "source": [
    "help(rnorm)"
   ]
  },
  {
   "cell_type": "code",
   "execution_count": null,
   "metadata": {},
   "outputs": [],
   "source": []
  },
  {
   "cell_type": "code",
   "execution_count": null,
   "metadata": {},
   "outputs": [],
   "source": []
  },
  {
   "cell_type": "code",
   "execution_count": null,
   "metadata": {},
   "outputs": [],
   "source": []
  },
  {
   "cell_type": "code",
   "execution_count": null,
   "metadata": {},
   "outputs": [],
   "source": []
  },
  {
   "cell_type": "code",
   "execution_count": null,
   "metadata": {},
   "outputs": [],
   "source": []
  },
  {
   "cell_type": "code",
   "execution_count": null,
   "metadata": {},
   "outputs": [],
   "source": []
  },
  {
   "cell_type": "code",
   "execution_count": null,
   "metadata": {},
   "outputs": [],
   "source": []
  },
  {
   "cell_type": "code",
   "execution_count": null,
   "metadata": {},
   "outputs": [],
   "source": []
  },
  {
   "cell_type": "code",
   "execution_count": null,
   "metadata": {},
   "outputs": [],
   "source": []
  },
  {
   "cell_type": "code",
   "execution_count": null,
   "metadata": {},
   "outputs": [],
   "source": []
  },
  {
   "cell_type": "code",
   "execution_count": null,
   "metadata": {},
   "outputs": [],
   "source": []
  },
  {
   "cell_type": "code",
   "execution_count": null,
   "metadata": {},
   "outputs": [],
   "source": []
  },
  {
   "cell_type": "code",
   "execution_count": null,
   "metadata": {},
   "outputs": [],
   "source": []
  },
  {
   "cell_type": "code",
   "execution_count": null,
   "metadata": {},
   "outputs": [],
   "source": []
  },
  {
   "cell_type": "code",
   "execution_count": null,
   "metadata": {},
   "outputs": [],
   "source": []
  },
  {
   "cell_type": "code",
   "execution_count": null,
   "metadata": {},
   "outputs": [],
   "source": []
  },
  {
   "cell_type": "code",
   "execution_count": null,
   "metadata": {},
   "outputs": [],
   "source": []
  },
  {
   "cell_type": "code",
   "execution_count": null,
   "metadata": {},
   "outputs": [],
   "source": []
  },
  {
   "cell_type": "code",
   "execution_count": null,
   "metadata": {},
   "outputs": [],
   "source": []
  }
 ],
 "metadata": {
  "kernelspec": {
   "display_name": "R",
   "language": "R",
   "name": "ir"
  },
  "language_info": {
   "codemirror_mode": "r",
   "file_extension": ".r",
   "mimetype": "text/x-r-source",
   "name": "R",
   "pygments_lexer": "r",
   "version": "4.2.2"
  }
 },
 "nbformat": 4,
 "nbformat_minor": 2
}
